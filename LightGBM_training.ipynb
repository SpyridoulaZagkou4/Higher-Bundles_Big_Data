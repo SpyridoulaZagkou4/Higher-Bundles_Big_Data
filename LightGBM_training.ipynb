{
 "cells": [
  {
   "cell_type": "code",
   "execution_count": 1,
   "metadata": {},
   "outputs": [],
   "source": [
    "#import evidently"
   ]
  },
  {
   "cell_type": "code",
   "execution_count": 2,
   "metadata": {},
   "outputs": [
    {
     "name": "stderr",
     "output_type": "stream",
     "text": [
      "C:\\Users\\ZagkouI\\AppData\\Roaming\\Python\\Python36\\site-packages\\evidently\\analyzers\\__init__.py:3: UserWarning: analyzers are deprecated, use metrics instead\n",
      "  warnings.warn(\"analyzers are deprecated, use metrics instead\")\n",
      "C:\\Users\\ZagkouI\\AppData\\Roaming\\Python\\Python36\\site-packages\\evidently\\dashboard\\__init__.py:8: UserWarning:\n",
      "\n",
      "dashboards are deprecated, use metrics instead\n",
      "\n",
      "C:\\Users\\ZagkouI\\AppData\\Roaming\\Python\\Python36\\site-packages\\evidently\\tabs\\__init__.py:9: UserWarning:\n",
      "\n",
      "'import evidently.tabs' is deprecated, use 'import evidently.dashboard.tabs'\n",
      "\n",
      "C:\\Users\\ZagkouI\\AppData\\Roaming\\Python\\Python36\\site-packages\\evidently\\model_profile\\__init__.py:8: UserWarning:\n",
      "\n",
      "model profiles are deprecated, use metrics instead\n",
      "\n",
      "C:\\Users\\ZagkouI\\AppData\\Roaming\\Python\\Python36\\site-packages\\evidently\\profile_sections\\__init__.py:9: UserWarning:\n",
      "\n",
      "'import evidently.profile_sections' is deprecated, use 'import evidently.model_profile.sections'\n",
      "\n"
     ]
    }
   ],
   "source": [
    "# from evidently.dashboard import Dashboard\n",
    "# from evidently.tabs import DataDriftTab, CatTargetDriftTab\n",
    "# from evidently.profile_sections import DataDriftProfileSection"
   ]
  },
  {
   "cell_type": "code",
   "execution_count": 1,
   "metadata": {},
   "outputs": [],
   "source": [
    "import numpy as np\n",
    "import matplotlib.pyplot as plt\n",
    "import pandas as pd\n",
    "import os\n",
    "import re"
   ]
  },
  {
   "cell_type": "code",
   "execution_count": 8,
   "metadata": {},
   "outputs": [],
   "source": [
    "#from imblearn.pipeline import Pipeline\n",
    "from sklearn.preprocessing import LabelEncoder\n",
    "from sklearn.preprocessing import OneHotEncoder\n",
    "#from sklearn.preprocessing import StandardScaler\n",
    "from sklearn.model_selection import train_test_split\n",
    "#from xgboost import XGBClassifier\n",
    "import lightgbm as lgb\n",
    "from sklearn.metrics import confusion_matrix, accuracy_score\n",
    "from sklearn.metrics import classification_report\n",
    "#from sklearn.model_selection import RandomizedSearchCV\n",
    "#from sklearn.model_selection import GridSearchCV\n",
    "#from sklearn.externals import joblib"
   ]
  },
  {
   "cell_type": "code",
   "execution_count": 23,
   "metadata": {
    "collapsed": true
   },
   "outputs": [
    {
     "ename": "ModuleNotFoundError",
     "evalue": "No module named 'numba.core'",
     "output_type": "error",
     "traceback": [
      "\u001b[1;31m---------------------------------------------------------------------------\u001b[0m",
      "\u001b[1;31mModuleNotFoundError\u001b[0m                       Traceback (most recent call last)",
      "\u001b[1;32m<ipython-input-23-efbb001a1501>\u001b[0m in \u001b[0;36m<module>\u001b[1;34m()\u001b[0m\n\u001b[1;32m----> 1\u001b[1;33m \u001b[1;32mimport\u001b[0m \u001b[0mshap\u001b[0m\u001b[1;33m\u001b[0m\u001b[0m\n\u001b[0m",
      "\u001b[1;32m~\\AppData\\Roaming\\Python\\Python36\\site-packages\\shap\\__init__.py\u001b[0m in \u001b[0;36m<module>\u001b[1;34m()\u001b[0m\n\u001b[0;32m     13\u001b[0m \u001b[1;33m\u001b[0m\u001b[0m\n\u001b[0;32m     14\u001b[0m \u001b[1;31m# explainers\u001b[0m\u001b[1;33m\u001b[0m\u001b[1;33m\u001b[0m\u001b[0m\n\u001b[1;32m---> 15\u001b[1;33m \u001b[1;32mfrom\u001b[0m \u001b[1;33m.\u001b[0m\u001b[0mexplainers\u001b[0m\u001b[1;33m.\u001b[0m\u001b[0m_explainer\u001b[0m \u001b[1;32mimport\u001b[0m \u001b[0mExplainer\u001b[0m\u001b[1;33m\u001b[0m\u001b[0m\n\u001b[0m\u001b[0;32m     16\u001b[0m \u001b[1;32mfrom\u001b[0m \u001b[1;33m.\u001b[0m\u001b[0mexplainers\u001b[0m\u001b[1;33m.\u001b[0m\u001b[0m_kernel\u001b[0m \u001b[1;32mimport\u001b[0m \u001b[0mKernel\u001b[0m \u001b[1;32mas\u001b[0m \u001b[0mKernelExplainer\u001b[0m\u001b[1;33m\u001b[0m\u001b[0m\n\u001b[0;32m     17\u001b[0m \u001b[1;32mfrom\u001b[0m \u001b[1;33m.\u001b[0m\u001b[0mexplainers\u001b[0m\u001b[1;33m.\u001b[0m\u001b[0m_sampling\u001b[0m \u001b[1;32mimport\u001b[0m \u001b[0mSampling\u001b[0m \u001b[1;32mas\u001b[0m \u001b[0mSamplingExplainer\u001b[0m\u001b[1;33m\u001b[0m\u001b[0m\n",
      "\u001b[1;32m~\\AppData\\Roaming\\Python\\Python36\\site-packages\\shap\\explainers\\__init__.py\u001b[0m in \u001b[0;36m<module>\u001b[1;34m()\u001b[0m\n\u001b[1;32m----> 1\u001b[1;33m \u001b[1;32mfrom\u001b[0m \u001b[1;33m.\u001b[0m\u001b[0m_permutation\u001b[0m \u001b[1;32mimport\u001b[0m \u001b[0mPermutation\u001b[0m\u001b[1;33m\u001b[0m\u001b[0m\n\u001b[0m\u001b[0;32m      2\u001b[0m \u001b[1;32mfrom\u001b[0m \u001b[1;33m.\u001b[0m\u001b[0m_partition\u001b[0m \u001b[1;32mimport\u001b[0m \u001b[0mPartition\u001b[0m\u001b[1;33m\u001b[0m\u001b[0m\n\u001b[0;32m      3\u001b[0m \u001b[1;32mfrom\u001b[0m \u001b[1;33m.\u001b[0m\u001b[0m_tree\u001b[0m \u001b[1;32mimport\u001b[0m \u001b[0mTree\u001b[0m\u001b[1;33m\u001b[0m\u001b[0m\n\u001b[0;32m      4\u001b[0m \u001b[1;32mfrom\u001b[0m \u001b[1;33m.\u001b[0m\u001b[0m_gpu_tree\u001b[0m \u001b[1;32mimport\u001b[0m \u001b[0mGPUTree\u001b[0m\u001b[1;33m\u001b[0m\u001b[0m\n\u001b[0;32m      5\u001b[0m \u001b[1;32mfrom\u001b[0m \u001b[1;33m.\u001b[0m\u001b[0m_exact\u001b[0m \u001b[1;32mimport\u001b[0m \u001b[0mExact\u001b[0m\u001b[1;33m\u001b[0m\u001b[0m\n",
      "\u001b[1;32m~\\AppData\\Roaming\\Python\\Python36\\site-packages\\shap\\explainers\\_permutation.py\u001b[0m in \u001b[0;36m<module>\u001b[1;34m()\u001b[0m\n\u001b[0;32m      3\u001b[0m \u001b[1;32mfrom\u001b[0m \u001b[1;33m.\u001b[0m\u001b[1;33m.\u001b[0m\u001b[0mutils\u001b[0m \u001b[1;32mimport\u001b[0m \u001b[0mpartition_tree_shuffle\u001b[0m\u001b[1;33m,\u001b[0m \u001b[0mMaskedModel\u001b[0m\u001b[1;33m\u001b[0m\u001b[0m\n\u001b[0;32m      4\u001b[0m \u001b[1;32mfrom\u001b[0m \u001b[1;33m.\u001b[0m\u001b[1;33m.\u001b[0m\u001b[0m_explanation\u001b[0m \u001b[1;32mimport\u001b[0m \u001b[0mExplanation\u001b[0m\u001b[1;33m\u001b[0m\u001b[0m\n\u001b[1;32m----> 5\u001b[1;33m \u001b[1;32mfrom\u001b[0m \u001b[1;33m.\u001b[0m\u001b[0m_explainer\u001b[0m \u001b[1;32mimport\u001b[0m \u001b[0mExplainer\u001b[0m\u001b[1;33m\u001b[0m\u001b[0m\n\u001b[0m\u001b[0;32m      6\u001b[0m \u001b[1;32mimport\u001b[0m \u001b[0mnumpy\u001b[0m \u001b[1;32mas\u001b[0m \u001b[0mnp\u001b[0m\u001b[1;33m\u001b[0m\u001b[0m\n\u001b[0;32m      7\u001b[0m \u001b[1;32mimport\u001b[0m \u001b[0mpandas\u001b[0m \u001b[1;32mas\u001b[0m \u001b[0mpd\u001b[0m\u001b[1;33m\u001b[0m\u001b[0m\n",
      "\u001b[1;32m~\\AppData\\Roaming\\Python\\Python36\\site-packages\\shap\\explainers\\_explainer.py\u001b[0m in \u001b[0;36m<module>\u001b[1;34m()\u001b[0m\n\u001b[0;32m      3\u001b[0m \u001b[1;32mimport\u001b[0m \u001b[0mnumpy\u001b[0m \u001b[1;32mas\u001b[0m \u001b[0mnp\u001b[0m\u001b[1;33m\u001b[0m\u001b[0m\n\u001b[0;32m      4\u001b[0m \u001b[1;32mimport\u001b[0m \u001b[0mscipy\u001b[0m \u001b[1;32mas\u001b[0m \u001b[0msp\u001b[0m\u001b[1;33m\u001b[0m\u001b[0m\n\u001b[1;32m----> 5\u001b[1;33m \u001b[1;32mfrom\u001b[0m \u001b[1;33m.\u001b[0m\u001b[1;33m.\u001b[0m \u001b[1;32mimport\u001b[0m \u001b[0mmaskers\u001b[0m\u001b[1;33m\u001b[0m\u001b[0m\n\u001b[0m\u001b[0;32m      6\u001b[0m \u001b[1;32mfrom\u001b[0m \u001b[1;33m.\u001b[0m\u001b[1;33m.\u001b[0m \u001b[1;32mimport\u001b[0m \u001b[0mlinks\u001b[0m\u001b[1;33m\u001b[0m\u001b[0m\n\u001b[0;32m      7\u001b[0m \u001b[1;32mfrom\u001b[0m \u001b[1;33m.\u001b[0m\u001b[1;33m.\u001b[0m\u001b[0mutils\u001b[0m \u001b[1;32mimport\u001b[0m \u001b[0msafe_isinstance\u001b[0m\u001b[1;33m,\u001b[0m \u001b[0mshow_progress\u001b[0m\u001b[1;33m\u001b[0m\u001b[0m\n",
      "\u001b[1;32m~\\AppData\\Roaming\\Python\\Python36\\site-packages\\shap\\maskers\\__init__.py\u001b[0m in \u001b[0;36m<module>\u001b[1;34m()\u001b[0m\n\u001b[0;32m      1\u001b[0m \u001b[1;32mfrom\u001b[0m \u001b[1;33m.\u001b[0m\u001b[0m_masker\u001b[0m \u001b[1;32mimport\u001b[0m \u001b[0mMasker\u001b[0m\u001b[1;33m\u001b[0m\u001b[0m\n\u001b[0;32m      2\u001b[0m \u001b[1;32mfrom\u001b[0m \u001b[1;33m.\u001b[0m\u001b[0m_tabular\u001b[0m \u001b[1;32mimport\u001b[0m \u001b[0mIndependent\u001b[0m\u001b[1;33m,\u001b[0m \u001b[0mPartition\u001b[0m\u001b[1;33m,\u001b[0m \u001b[0mImpute\u001b[0m\u001b[1;33m\u001b[0m\u001b[0m\n\u001b[1;32m----> 3\u001b[1;33m \u001b[1;32mfrom\u001b[0m \u001b[1;33m.\u001b[0m\u001b[0m_image\u001b[0m \u001b[1;32mimport\u001b[0m \u001b[0mImage\u001b[0m\u001b[1;33m\u001b[0m\u001b[0m\n\u001b[0m\u001b[0;32m      4\u001b[0m \u001b[1;32mfrom\u001b[0m \u001b[1;33m.\u001b[0m\u001b[0m_text\u001b[0m \u001b[1;32mimport\u001b[0m \u001b[0mText\u001b[0m\u001b[1;33m\u001b[0m\u001b[0m\n\u001b[0;32m      5\u001b[0m \u001b[1;32mfrom\u001b[0m \u001b[1;33m.\u001b[0m\u001b[0m_fixed\u001b[0m \u001b[1;32mimport\u001b[0m \u001b[0mFixed\u001b[0m\u001b[1;33m\u001b[0m\u001b[0m\n",
      "\u001b[1;32m~\\AppData\\Roaming\\Python\\Python36\\site-packages\\shap\\maskers\\_image.py\u001b[0m in \u001b[0;36m<module>\u001b[1;34m()\u001b[0m\n\u001b[0;32m     12\u001b[0m \u001b[1;33m\u001b[0m\u001b[0m\n\u001b[0;32m     13\u001b[0m \u001b[1;31m# TODO: heapq in numba does not yet support Typed Lists so we can move to them yet...\u001b[0m\u001b[1;33m\u001b[0m\u001b[1;33m\u001b[0m\u001b[0m\n\u001b[1;32m---> 14\u001b[1;33m \u001b[1;32mfrom\u001b[0m \u001b[0mnumba\u001b[0m\u001b[1;33m.\u001b[0m\u001b[0mcore\u001b[0m\u001b[1;33m.\u001b[0m\u001b[0merrors\u001b[0m \u001b[1;32mimport\u001b[0m \u001b[0mNumbaPendingDeprecationWarning\u001b[0m\u001b[1;33m\u001b[0m\u001b[0m\n\u001b[0m\u001b[0;32m     15\u001b[0m \u001b[1;32mimport\u001b[0m \u001b[0mwarnings\u001b[0m\u001b[1;33m\u001b[0m\u001b[0m\n\u001b[0;32m     16\u001b[0m \u001b[0mwarnings\u001b[0m\u001b[1;33m.\u001b[0m\u001b[0msimplefilter\u001b[0m\u001b[1;33m(\u001b[0m\u001b[1;34m'ignore'\u001b[0m\u001b[1;33m,\u001b[0m \u001b[0mcategory\u001b[0m\u001b[1;33m=\u001b[0m\u001b[0mNumbaPendingDeprecationWarning\u001b[0m\u001b[1;33m)\u001b[0m\u001b[1;33m\u001b[0m\u001b[0m\n",
      "\u001b[1;31mModuleNotFoundError\u001b[0m: No module named 'numba.core'"
     ]
    }
   ],
   "source": [
    "import shap"
   ]
  },
  {
   "cell_type": "code",
   "execution_count": 24,
   "metadata": {},
   "outputs": [],
   "source": [
    "pd.set_option('display.max_columns', 550)\n",
    "pd.set_option('display.max_rows', 550)\n",
    "from IPython.core.interactiveshell import InteractiveShell\n",
    "InteractiveShell.ast_node_interactivity = \"all\""
   ]
  },
  {
   "cell_type": "markdown",
   "metadata": {},
   "source": [
    "# LOAD TRAINING SET"
   ]
  },
  {
   "cell_type": "code",
   "execution_count": 10,
   "metadata": {},
   "outputs": [],
   "source": [
    "previous_dataset = pd.read_csv('C:/Users/zagkoui/OneDrive - Vodafone Group/Documents/HIGHER_BUNDLES/final_data/train/final_customer_db.csv', index_col=0)"
   ]
  },
  {
   "cell_type": "code",
   "execution_count": 11,
   "metadata": {},
   "outputs": [
    {
     "data": {
      "text/html": [
       "<div>\n",
       "<style scoped>\n",
       "    .dataframe tbody tr th:only-of-type {\n",
       "        vertical-align: middle;\n",
       "    }\n",
       "\n",
       "    .dataframe tbody tr th {\n",
       "        vertical-align: top;\n",
       "    }\n",
       "\n",
       "    .dataframe thead th {\n",
       "        text-align: right;\n",
       "    }\n",
       "</style>\n",
       "<table border=\"1\" class=\"dataframe\">\n",
       "  <thead>\n",
       "    <tr style=\"text-align: right;\">\n",
       "      <th></th>\n",
       "      <th>MSISDN</th>\n",
       "      <th>M1_TTL_OUT_CALLS</th>\n",
       "      <th>M1_TTL_OUT_MINUTES</th>\n",
       "      <th>M1_TTL_OUT_REVENUE</th>\n",
       "      <th>M1_V_CALLS_TO_FIXED_LINES</th>\n",
       "      <th>M1_V_MINUTES_TO_FIXED_LINES</th>\n",
       "      <th>M1_V_REVENUE_TO_FIXED_LINES</th>\n",
       "      <th>M1_V_CALLS_TO_COMPETITION</th>\n",
       "      <th>M1_V_MINUTES_TO_COMPETITION</th>\n",
       "      <th>M1_V_REVENUE_TO_COMPETITION</th>\n",
       "      <th>M1_V_CALLS_TO_INTERNATIONAL</th>\n",
       "      <th>M1_V_MINUTES_TO_INTERNATIONAL</th>\n",
       "      <th>M1_V_REVENUE_TO_INTERNATIONAL</th>\n",
       "      <th>M1_GPRS_SESSION</th>\n",
       "      <th>M1_GPRS_REVENUE</th>\n",
       "      <th>M1_GPRS_VOLUME</th>\n",
       "      <th>M1_RECHARGES_NUMBER</th>\n",
       "      <th>M1_RECHARGES_VALUE</th>\n",
       "      <th>M1_OUT_DAYS</th>\n",
       "      <th>M1_INC_DAYS</th>\n",
       "      <th>M1_BUNDLE_REVENUE</th>\n",
       "      <th>M2_TTL_OUT_CALLS</th>\n",
       "      <th>M2_TTL_OUT_MINUTES</th>\n",
       "      <th>M2_TTL_OUT_REVENUE</th>\n",
       "      <th>M2_V_CALLS_TO_FIXED_LINES</th>\n",
       "      <th>M2_V_MINUTES_TO_FIXED_LINES</th>\n",
       "      <th>M2_V_REVENUE_TO_FIXED_LINES</th>\n",
       "      <th>M2_V_CALLS_TO_COMPETITION</th>\n",
       "      <th>M2_V_MINUTES_TO_COMPETITION</th>\n",
       "      <th>M2_V_REVENUE_TO_COMPETITION</th>\n",
       "      <th>M2_V_CALLS_TO_INTERNATIONAL</th>\n",
       "      <th>M2_V_MINUTES_TO_INTERNATIONAL</th>\n",
       "      <th>M2_V_REVENUE_TO_INTERNATIONAL</th>\n",
       "      <th>M2_GPRS_SESSION</th>\n",
       "      <th>M2_GPRS_REVENUE</th>\n",
       "      <th>M2_GPRS_VOLUME</th>\n",
       "      <th>M2_RECHARGES_NUMBER</th>\n",
       "      <th>M2_RECHARGES_VALUE</th>\n",
       "      <th>M2_OUT_DAYS</th>\n",
       "      <th>M2_INC_DAYS</th>\n",
       "      <th>M2_BUNDLE_REVENUE</th>\n",
       "      <th>M3_TTL_OUT_CALLS</th>\n",
       "      <th>M3_TTL_OUT_MINUTES</th>\n",
       "      <th>M3_TTL_OUT_REVENUE</th>\n",
       "      <th>M3_V_CALLS_TO_FIXED_LINES</th>\n",
       "      <th>M3_V_MINUTES_TO_FIXED_LINES</th>\n",
       "      <th>M3_V_REVENUE_TO_FIXED_LINES</th>\n",
       "      <th>M3_V_CALLS_TO_COMPETITION</th>\n",
       "      <th>M3_V_MINUTES_TO_COMPETITION</th>\n",
       "      <th>M3_V_REVENUE_TO_COMPETITION</th>\n",
       "      <th>M3_V_CALLS_TO_INTERNATIONAL</th>\n",
       "      <th>M3_V_MINUTES_TO_INTERNATIONAL</th>\n",
       "      <th>M3_V_REVENUE_TO_INTERNATIONAL</th>\n",
       "      <th>M3_GPRS_SESSION</th>\n",
       "      <th>M3_GPRS_REVENUE</th>\n",
       "      <th>M3_GPRS_VOLUME</th>\n",
       "      <th>M3_RECHARGES_NUMBER</th>\n",
       "      <th>M3_RECHARGES_VALUE</th>\n",
       "      <th>M3_OUT_DAYS</th>\n",
       "      <th>M3_INC_DAYS</th>\n",
       "      <th>M3_BUNDLE_REVENUE</th>\n",
       "      <th>M4_TTL_OUT_CALLS</th>\n",
       "      <th>M4_TTL_OUT_MINUTES</th>\n",
       "      <th>M4_TTL_OUT_REVENUE</th>\n",
       "      <th>M4_V_CALLS_TO_FIXED_LINES</th>\n",
       "      <th>M4_V_MINUTES_TO_FIXED_LINES</th>\n",
       "      <th>M4_V_REVENUE_TO_FIXED_LINES</th>\n",
       "      <th>M4_V_CALLS_TO_COMPETITION</th>\n",
       "      <th>M4_V_MINUTES_TO_COMPETITION</th>\n",
       "      <th>M4_V_REVENUE_TO_COMPETITION</th>\n",
       "      <th>M4_V_CALLS_TO_INTERNATIONAL</th>\n",
       "      <th>M4_V_MINUTES_TO_INTERNATIONAL</th>\n",
       "      <th>M4_V_REVENUE_TO_INTERNATIONAL</th>\n",
       "      <th>M4_GPRS_SESSION</th>\n",
       "      <th>M4_GPRS_REVENUE</th>\n",
       "      <th>M4_GPRS_VOLUME</th>\n",
       "      <th>M4_RECHARGES_NUMBER</th>\n",
       "      <th>M4_RECHARGES_VALUE</th>\n",
       "      <th>M4_OUT_DAYS</th>\n",
       "      <th>M4_INC_DAYS</th>\n",
       "      <th>M4_BUNDLE_REVENUE</th>\n",
       "      <th>M5_TTL_OUT_CALLS</th>\n",
       "      <th>M5_TTL_OUT_MINUTES</th>\n",
       "      <th>M5_TTL_OUT_REVENUE</th>\n",
       "      <th>M5_V_CALLS_TO_FIXED_LINES</th>\n",
       "      <th>M5_V_MINUTES_TO_FIXED_LINES</th>\n",
       "      <th>M5_V_REVENUE_TO_FIXED_LINES</th>\n",
       "      <th>M5_V_CALLS_TO_COMPETITION</th>\n",
       "      <th>M5_V_MINUTES_TO_COMPETITION</th>\n",
       "      <th>M5_V_REVENUE_TO_COMPETITION</th>\n",
       "      <th>M5_V_CALLS_TO_INTERNATIONAL</th>\n",
       "      <th>M5_V_MINUTES_TO_INTERNATIONAL</th>\n",
       "      <th>M5_V_REVENUE_TO_INTERNATIONAL</th>\n",
       "      <th>M5_GPRS_SESSION</th>\n",
       "      <th>M5_GPRS_REVENUE</th>\n",
       "      <th>M5_RECHARGES_NUMBER</th>\n",
       "      <th>M5_RECHARGES_VALUE</th>\n",
       "      <th>M5_GPRS_VOLUME</th>\n",
       "      <th>M5_OUT_DAYS</th>\n",
       "      <th>M5_INC_DAYS</th>\n",
       "      <th>M5_BUNDLE_REVENUE</th>\n",
       "      <th>M6_TTL_OUT_CALLS</th>\n",
       "      <th>M6_TTL_OUT_MINUTES</th>\n",
       "      <th>M6_TTL_OUT_REVENUE</th>\n",
       "      <th>M6_V_CALLS_TO_FIXED_LINES</th>\n",
       "      <th>M6_V_MINUTES_TO_FIXED_LINES</th>\n",
       "      <th>M6_V_REVENUE_TO_FIXED_LINES</th>\n",
       "      <th>M6_V_CALLS_TO_COMPETITION</th>\n",
       "      <th>M6_V_MINUTES_TO_COMPETITION</th>\n",
       "      <th>M6_V_REVENUE_TO_COMPETITION</th>\n",
       "      <th>M6_V_CALLS_TO_INTERNATIONAL</th>\n",
       "      <th>M6_V_MINUTES_TO_INTERNATIONAL</th>\n",
       "      <th>M6_V_REVENUE_TO_INTERNATIONAL</th>\n",
       "      <th>M6_GPRS_SESSION</th>\n",
       "      <th>M6_GPRS_REVENUE</th>\n",
       "      <th>M6_GPRS_VOLUME</th>\n",
       "      <th>M6_RECHARGES_NUMBER</th>\n",
       "      <th>M6_RECHARGES_VALUE</th>\n",
       "      <th>M6_OUT_DAYS</th>\n",
       "      <th>M6_INC_DAYS</th>\n",
       "      <th>M6_BUNDLE_REVENUE</th>\n",
       "      <th>TARIFF_PLAN</th>\n",
       "      <th>CONNECTION_DAY</th>\n",
       "      <th>SMARTPHONE_FLAG</th>\n",
       "      <th>INSERTED</th>\n",
       "      <th>M1_MINUTES_PER_CALL</th>\n",
       "      <th>M2_MINUTES_PER_CALL</th>\n",
       "      <th>M3_MINUTES_PER_CALL</th>\n",
       "      <th>M4_MINUTES_PER_CALL</th>\n",
       "      <th>M5_MINUTES_PER_CALL</th>\n",
       "      <th>M6_MINUTES_PER_CALL</th>\n",
       "      <th>TENURE_MONTHS</th>\n",
       "      <th>CUSTOMER_TENURE</th>\n",
       "      <th>M1_ARPU</th>\n",
       "      <th>M2_ARPU</th>\n",
       "      <th>M3_ARPU</th>\n",
       "      <th>M4_ARPU</th>\n",
       "      <th>M5_ARPU</th>\n",
       "      <th>M6_ARPU</th>\n",
       "      <th>M1_ROC_TTL_OUT_CALLS</th>\n",
       "      <th>M1_ROC_TTL_OUT_MINUTES</th>\n",
       "      <th>M1_ROC_TTL_OUT_REVENUE</th>\n",
       "      <th>M1_ROC_V_CALLS_TO_FIXED_LINES</th>\n",
       "      <th>M1_ROC_V_MINUTES_TO_FIXED_LINES</th>\n",
       "      <th>M1_ROC_V_REVENUE_TO_FIXED_LINES</th>\n",
       "      <th>M1_ROC_V_CALLS_TO_COMPETITION</th>\n",
       "      <th>M1_ROC_V_MINUTES_TO_COMPETITION</th>\n",
       "      <th>M1_ROC_V_REVENUE_TO_COMPETITION</th>\n",
       "      <th>M1_ROC_V_CALLS_TO_INTERNATIONAL</th>\n",
       "      <th>M1_ROC_V_MINUTES_TO_INTERNATIONAL</th>\n",
       "      <th>M1_ROC_V_REVENUE_TO_INTERNATIONAL</th>\n",
       "      <th>M1_ROC_GPRS_SESSION</th>\n",
       "      <th>M1_ROC_GPRS_REVENUE</th>\n",
       "      <th>M1_ROC_GPRS_VOLUME</th>\n",
       "      <th>M1_ROC_RECHARGES_NUMBER</th>\n",
       "      <th>M1_ROC_RECHARGES_VALUE</th>\n",
       "      <th>M1_ROC_OUT_DAYS</th>\n",
       "      <th>M1_ROC_INC_DAYS</th>\n",
       "      <th>M1_ROC_BUNDLE_REVENUE</th>\n",
       "      <th>M1_ROC_MINUTES_PER_CALL</th>\n",
       "      <th>M1_ROC_ARPU</th>\n",
       "      <th>M13_AVG_TTL_OUT_CALLS</th>\n",
       "      <th>M46_AVG_TTL_OUT_CALLS</th>\n",
       "      <th>M16_AVG_TTL_OUT_CALLS</th>\n",
       "      <th>M13_AVG_TTL_OUT_MINUTES</th>\n",
       "      <th>M46_AVG_TTL_OUT_MINUTES</th>\n",
       "      <th>M16_AVG_TTL_OUT_MINUTES</th>\n",
       "      <th>M13_AVG_TTL_OUT_REVENUE</th>\n",
       "      <th>M46_AVG_TTL_OUT_REVENUE</th>\n",
       "      <th>M16_AVG_TTL_OUT_REVENUE</th>\n",
       "      <th>M13_AVG_V_CALLS_TO_FIXED_LINES</th>\n",
       "      <th>M46_AVG_V_CALLS_TO_FIXED_LINES</th>\n",
       "      <th>M16_AVG_V_CALLS_TO_FIXED_LINES</th>\n",
       "      <th>M13_AVG_V_MINUTES_TO_FIXED_LINES</th>\n",
       "      <th>M46_AVG_V_MINUTES_TO_FIXED_LINES</th>\n",
       "      <th>M16_AVG_V_MINUTES_TO_FIXED_LINES</th>\n",
       "      <th>M13_AVG_V_REVENUE_TO_FIXED_LINES</th>\n",
       "      <th>M46_AVG_V_REVENUE_TO_FIXED_LINES</th>\n",
       "      <th>M16_AVG_V_REVENUE_TO_FIXED_LINES</th>\n",
       "      <th>M13_AVG_V_CALLS_TO_COMPETITION</th>\n",
       "      <th>M46_AVG_V_CALLS_TO_COMPETITION</th>\n",
       "      <th>M16_AVG_V_CALLS_TO_COMPETITION</th>\n",
       "      <th>M13_AVG_V_MINUTES_TO_COMPETITION</th>\n",
       "      <th>M46_AVG_V_MINUTES_TO_COMPETITION</th>\n",
       "      <th>M16_AVG_V_MINUTES_TO_COMPETITION</th>\n",
       "      <th>M13_AVG_V_REVENUE_TO_COMPETITION</th>\n",
       "      <th>M46_AVG_V_REVENUE_TO_COMPETITION</th>\n",
       "      <th>M16_AVG_V_REVENUE_TO_COMPETITION</th>\n",
       "      <th>M13_AVG_V_CALLS_TO_INTERNATIONAL</th>\n",
       "      <th>M46_AVG_V_CALLS_TO_INTERNATIONAL</th>\n",
       "      <th>M16_AVG_V_CALLS_TO_INTERNATIONAL</th>\n",
       "      <th>M13_AVG_V_MINUTES_TO_INTERNATIONAL</th>\n",
       "      <th>M46_AVG_V_MINUTES_TO_INTERNATIONAL</th>\n",
       "      <th>M16_AVG_V_MINUTES_TO_INTERNATIONAL</th>\n",
       "      <th>M13_AVG_V_REVENUE_TO_INTERNATIONAL</th>\n",
       "      <th>M46_AVG_V_REVENUE_TO_INTERNATIONAL</th>\n",
       "      <th>M16_AVG_V_REVENUE_TO_INTERNATIONAL</th>\n",
       "      <th>M13_AVG_GPRS_SESSION</th>\n",
       "      <th>M46_AVG_GPRS_SESSION</th>\n",
       "      <th>M16_AVG_GPRS_SESSION</th>\n",
       "      <th>M13_AVG_GPRS_REVENUE</th>\n",
       "      <th>M46_AVG_GPRS_REVENUE</th>\n",
       "      <th>M16_AVG_GPRS_REVENUE</th>\n",
       "      <th>M13_AVG_GPRS_VOLUME</th>\n",
       "      <th>M46_AVG_GPRS_VOLUME</th>\n",
       "      <th>M16_AVG_GPRS_VOLUME</th>\n",
       "      <th>M13_AVG_RECHARGES_NUMBER</th>\n",
       "      <th>M46_AVG_RECHARGES_NUMBER</th>\n",
       "      <th>M16_AVG_RECHARGES_NUMBER</th>\n",
       "      <th>M13_AVG_RECHARGES_VALUE</th>\n",
       "      <th>M46_AVG_RECHARGES_VALUE</th>\n",
       "      <th>M16_AVG_RECHARGES_VALUE</th>\n",
       "      <th>M13_AVG_OUT_DAYS</th>\n",
       "      <th>M46_AVG_OUT_DAYS</th>\n",
       "      <th>M16_AVG_OUT_DAYS</th>\n",
       "      <th>M13_AVG_INC_DAYS</th>\n",
       "      <th>M46_AVG_INC_DAYS</th>\n",
       "      <th>M16_AVG_INC_DAYS</th>\n",
       "      <th>M13_AVG_BUNDLE_REVENUE</th>\n",
       "      <th>M46_AVG_BUNDLE_REVENUE</th>\n",
       "      <th>M16_AVG_BUNDLE_REVENUE</th>\n",
       "      <th>M13_AVG_MINUTES_PER_CALL</th>\n",
       "      <th>M46_AVG_MINUTES_PER_CALL</th>\n",
       "      <th>M16_AVG_MINUTES_PER_CALL</th>\n",
       "      <th>M13_AVG_ARPU</th>\n",
       "      <th>M46_AVG_ARPU</th>\n",
       "      <th>M16_AVG_ARPU</th>\n",
       "      <th>STUDENTS_FLAG</th>\n",
       "      <th>POST_CODE</th>\n",
       "      <th>GENDER</th>\n",
       "      <th>AGE</th>\n",
       "      <th>VF_COMBO_FLG</th>\n",
       "      <th>ACTIVE_TOTAL_LINES</th>\n",
       "      <th>Periferiaki_enotita</th>\n",
       "      <th>Name</th>\n",
       "      <th>Population</th>\n",
       "      <th>Households</th>\n",
       "      <th>Average_Household_Size</th>\n",
       "      <th>Male_Population</th>\n",
       "      <th>Female_Population</th>\n",
       "      <th>Population_aged_0-14</th>\n",
       "      <th>Male_Population_aged_0-14</th>\n",
       "      <th>Female_Population_aged_0-14</th>\n",
       "      <th>Population_aged_15-29</th>\n",
       "      <th>Male_Population_aged_15-29</th>\n",
       "      <th>Female_Population_aged_15-29</th>\n",
       "      <th>Population_aged_30-44</th>\n",
       "      <th>Male_Population_aged_30-44</th>\n",
       "      <th>Female_Population_aged_30-44</th>\n",
       "      <th>Population_aged_45-59</th>\n",
       "      <th>Male_Population_aged_45-59</th>\n",
       "      <th>Female_Population_aged_45-59</th>\n",
       "      <th>Purchasing_Power:_million_Euro</th>\n",
       "      <th>Purchasing_Power:_per_mill_of_country</th>\n",
       "      <th>Purchasing_Power:_Euro_per_capita</th>\n",
       "      <th>Purchasing_Power:_index_(country_eq.100)</th>\n",
       "      <th>Purchasing_Power:_million_Euro_percentage</th>\n",
       "      <th>Purchasing_Power:_per_mill_of_country_percentage</th>\n",
       "      <th>Purchasing_Power:_Euro_per_capita_percentage</th>\n",
       "      <th>Purchasing_Power:_index_(country_eq.100)_percentage</th>\n",
       "      <th>VOICE_BUCKET</th>\n",
       "      <th>DATA_BUCKET</th>\n",
       "      <th>SMS_BUCKET</th>\n",
       "      <th>BALANCE</th>\n",
       "      <th>HIGHER_BUNDLE</th>\n",
       "    </tr>\n",
       "  </thead>\n",
       "  <tbody>\n",
       "    <tr>\n",
       "      <th>0</th>\n",
       "      <td>6948724826</td>\n",
       "      <td>119</td>\n",
       "      <td>61.100000</td>\n",
       "      <td>1.9192</td>\n",
       "      <td>15</td>\n",
       "      <td>28.216667</td>\n",
       "      <td>0.0</td>\n",
       "      <td>13</td>\n",
       "      <td>28.150000</td>\n",
       "      <td>0.0</td>\n",
       "      <td>0</td>\n",
       "      <td>0.0</td>\n",
       "      <td>0.0</td>\n",
       "      <td>181</td>\n",
       "      <td>0.0</td>\n",
       "      <td>1345.479857</td>\n",
       "      <td>1</td>\n",
       "      <td>10.91</td>\n",
       "      <td>22</td>\n",
       "      <td>14</td>\n",
       "      <td>10.0</td>\n",
       "      <td>105.0</td>\n",
       "      <td>37.166667</td>\n",
       "      <td>0.0000</td>\n",
       "      <td>8.0</td>\n",
       "      <td>13.916667</td>\n",
       "      <td>0.0</td>\n",
       "      <td>7.0</td>\n",
       "      <td>17.966667</td>\n",
       "      <td>0.00</td>\n",
       "      <td>0.0</td>\n",
       "      <td>0.0</td>\n",
       "      <td>0.0</td>\n",
       "      <td>156.0</td>\n",
       "      <td>0.0</td>\n",
       "      <td>1570.142383</td>\n",
       "      <td>1.0</td>\n",
       "      <td>13.64</td>\n",
       "      <td>24.0</td>\n",
       "      <td>12.0</td>\n",
       "      <td>10.00</td>\n",
       "      <td>100.0</td>\n",
       "      <td>37.850000</td>\n",
       "      <td>0.6628</td>\n",
       "      <td>1.0</td>\n",
       "      <td>0.900000</td>\n",
       "      <td>0.0</td>\n",
       "      <td>6.0</td>\n",
       "      <td>7.733333</td>\n",
       "      <td>0.00</td>\n",
       "      <td>0.0</td>\n",
       "      <td>0.0</td>\n",
       "      <td>0.0</td>\n",
       "      <td>208.0</td>\n",
       "      <td>0.0</td>\n",
       "      <td>2389.019342</td>\n",
       "      <td>1.0</td>\n",
       "      <td>10.91</td>\n",
       "      <td>24.0</td>\n",
       "      <td>13.0</td>\n",
       "      <td>10.0</td>\n",
       "      <td>106.0</td>\n",
       "      <td>55.566667</td>\n",
       "      <td>0.2944</td>\n",
       "      <td>7.0</td>\n",
       "      <td>11.100000</td>\n",
       "      <td>0.00</td>\n",
       "      <td>8.0</td>\n",
       "      <td>20.500000</td>\n",
       "      <td>0.0</td>\n",
       "      <td>0.0</td>\n",
       "      <td>0.0</td>\n",
       "      <td>0.0</td>\n",
       "      <td>169.0</td>\n",
       "      <td>0.0</td>\n",
       "      <td>2535.487036</td>\n",
       "      <td>1.0</td>\n",
       "      <td>10.71</td>\n",
       "      <td>25.0</td>\n",
       "      <td>15.0</td>\n",
       "      <td>10.0</td>\n",
       "      <td>119.0</td>\n",
       "      <td>23.833333</td>\n",
       "      <td>0.4424</td>\n",
       "      <td>6.0</td>\n",
       "      <td>6.733333</td>\n",
       "      <td>0.0</td>\n",
       "      <td>4.0</td>\n",
       "      <td>10.000000</td>\n",
       "      <td>0.00</td>\n",
       "      <td>0.0</td>\n",
       "      <td>0.0</td>\n",
       "      <td>0.0</td>\n",
       "      <td>209.0</td>\n",
       "      <td>0.0</td>\n",
       "      <td>1.0</td>\n",
       "      <td>10.71</td>\n",
       "      <td>2021.428553</td>\n",
       "      <td>25.0</td>\n",
       "      <td>14.0</td>\n",
       "      <td>10.0</td>\n",
       "      <td>148.0</td>\n",
       "      <td>213.583333</td>\n",
       "      <td>0.0</td>\n",
       "      <td>28.0</td>\n",
       "      <td>119.383333</td>\n",
       "      <td>0.0</td>\n",
       "      <td>16.0</td>\n",
       "      <td>40.666667</td>\n",
       "      <td>0.0</td>\n",
       "      <td>0.0</td>\n",
       "      <td>0.0</td>\n",
       "      <td>0.0</td>\n",
       "      <td>144.0</td>\n",
       "      <td>0.0</td>\n",
       "      <td>2231.815379</td>\n",
       "      <td>1.0</td>\n",
       "      <td>10.71</td>\n",
       "      <td>30.0</td>\n",
       "      <td>17.0</td>\n",
       "      <td>10.0</td>\n",
       "      <td>CU</td>\n",
       "      <td>2010-03-24</td>\n",
       "      <td>Y</td>\n",
       "      <td>2022-03-31</td>\n",
       "      <td>0.513445</td>\n",
       "      <td>0.353968</td>\n",
       "      <td>0.378500</td>\n",
       "      <td>0.524214</td>\n",
       "      <td>0.200280</td>\n",
       "      <td>1.443131</td>\n",
       "      <td>144</td>\n",
       "      <td>A</td>\n",
       "      <td>11.9192</td>\n",
       "      <td>10.0000</td>\n",
       "      <td>10.6628</td>\n",
       "      <td>10.2944</td>\n",
       "      <td>10.4424</td>\n",
       "      <td>10.0</td>\n",
       "      <td>2.941176</td>\n",
       "      <td>-16.983696</td>\n",
       "      <td>585.624464</td>\n",
       "      <td>50.000000</td>\n",
       "      <td>-7.202368</td>\n",
       "      <td>0.0</td>\n",
       "      <td>58.536585</td>\n",
       "      <td>45.302822</td>\n",
       "      <td>0.0</td>\n",
       "      <td>0.0</td>\n",
       "      <td>0.0</td>\n",
       "      <td>0.0</td>\n",
       "      <td>2.144470</td>\n",
       "      <td>0.0</td>\n",
       "      <td>-37.407272</td>\n",
       "      <td>0.0</td>\n",
       "      <td>-3.757939</td>\n",
       "      <td>-14.062500</td>\n",
       "      <td>-1.408451</td>\n",
       "      <td>0.000000</td>\n",
       "      <td>-11.477769</td>\n",
       "      <td>15.946428</td>\n",
       "      <td>108.000000</td>\n",
       "      <td>124.333333</td>\n",
       "      <td>116.166667</td>\n",
       "      <td>45.372222</td>\n",
       "      <td>97.661111</td>\n",
       "      <td>71.516667</td>\n",
       "      <td>0.860667</td>\n",
       "      <td>0.245600</td>\n",
       "      <td>0.553133</td>\n",
       "      <td>8.000000</td>\n",
       "      <td>13.666667</td>\n",
       "      <td>10.833333</td>\n",
       "      <td>14.344444</td>\n",
       "      <td>45.738889</td>\n",
       "      <td>30.041667</td>\n",
       "      <td>0.0</td>\n",
       "      <td>0.00</td>\n",
       "      <td>0.000</td>\n",
       "      <td>8.666667</td>\n",
       "      <td>9.333333</td>\n",
       "      <td>9.000000</td>\n",
       "      <td>17.950000</td>\n",
       "      <td>23.722222</td>\n",
       "      <td>20.836111</td>\n",
       "      <td>0.00</td>\n",
       "      <td>0.00</td>\n",
       "      <td>0.000</td>\n",
       "      <td>0.0</td>\n",
       "      <td>0.0</td>\n",
       "      <td>0.0</td>\n",
       "      <td>0.0</td>\n",
       "      <td>0.0</td>\n",
       "      <td>0.0</td>\n",
       "      <td>0.0</td>\n",
       "      <td>0.0</td>\n",
       "      <td>0.0</td>\n",
       "      <td>181.666667</td>\n",
       "      <td>174.000000</td>\n",
       "      <td>177.833333</td>\n",
       "      <td>0.0</td>\n",
       "      <td>0.000000</td>\n",
       "      <td>0.000000</td>\n",
       "      <td>1768.213861</td>\n",
       "      <td>2262.910323</td>\n",
       "      <td>2015.562092</td>\n",
       "      <td>1.000000</td>\n",
       "      <td>1.000000</td>\n",
       "      <td>1.000000</td>\n",
       "      <td>11.820000</td>\n",
       "      <td>10.710000</td>\n",
       "      <td>11.265000</td>\n",
       "      <td>23.333333</td>\n",
       "      <td>26.666667</td>\n",
       "      <td>25.000000</td>\n",
       "      <td>13.000000</td>\n",
       "      <td>15.333333</td>\n",
       "      <td>14.166667</td>\n",
       "      <td>10.000000</td>\n",
       "      <td>10.000000</td>\n",
       "      <td>10.000000</td>\n",
       "      <td>0.415305</td>\n",
       "      <td>0.722542</td>\n",
       "      <td>0.568923</td>\n",
       "      <td>10.860667</td>\n",
       "      <td>10.245600</td>\n",
       "      <td>10.553133</td>\n",
       "      <td>N</td>\n",
       "      <td>54646</td>\n",
       "      <td>F</td>\n",
       "      <td>42.0</td>\n",
       "      <td>N</td>\n",
       "      <td>1.0</td>\n",
       "      <td>Thessaloniki</td>\n",
       "      <td>Thessaloníkis</td>\n",
       "      <td>5014.000000</td>\n",
       "      <td>2276.00000</td>\n",
       "      <td>2.200000</td>\n",
       "      <td>2184.000000</td>\n",
       "      <td>2830.000000</td>\n",
       "      <td>444.00000</td>\n",
       "      <td>222.000000</td>\n",
       "      <td>222.000000</td>\n",
       "      <td>859.000000</td>\n",
       "      <td>393.000000</td>\n",
       "      <td>466.000000</td>\n",
       "      <td>882.000000</td>\n",
       "      <td>418.000000</td>\n",
       "      <td>464.000000</td>\n",
       "      <td>1089.000000</td>\n",
       "      <td>433.000000</td>\n",
       "      <td>656.000000</td>\n",
       "      <td>67.170000</td>\n",
       "      <td>0.630000</td>\n",
       "      <td>13396.240000</td>\n",
       "      <td>129.710000</td>\n",
       "      <td>62.106529</td>\n",
       "      <td>62.564631</td>\n",
       "      <td>130.058423</td>\n",
       "      <td>130.059221</td>\n",
       "      <td>0.0</td>\n",
       "      <td>0.0</td>\n",
       "      <td>0.0</td>\n",
       "      <td>0.00</td>\n",
       "      <td>0.0</td>\n",
       "    </tr>\n",
       "    <tr>\n",
       "      <th>1</th>\n",
       "      <td>6949281531</td>\n",
       "      <td>130</td>\n",
       "      <td>409.833333</td>\n",
       "      <td>0.9944</td>\n",
       "      <td>10</td>\n",
       "      <td>44.383333</td>\n",
       "      <td>0.0</td>\n",
       "      <td>103</td>\n",
       "      <td>324.616667</td>\n",
       "      <td>0.0</td>\n",
       "      <td>0</td>\n",
       "      <td>0.0</td>\n",
       "      <td>0.0</td>\n",
       "      <td>0</td>\n",
       "      <td>0.0</td>\n",
       "      <td>0.000000</td>\n",
       "      <td>1</td>\n",
       "      <td>10.91</td>\n",
       "      <td>30</td>\n",
       "      <td>25</td>\n",
       "      <td>10.0</td>\n",
       "      <td>120.0</td>\n",
       "      <td>413.066667</td>\n",
       "      <td>4.8600</td>\n",
       "      <td>25.0</td>\n",
       "      <td>128.666667</td>\n",
       "      <td>0.0</td>\n",
       "      <td>84.0</td>\n",
       "      <td>257.800000</td>\n",
       "      <td>4.86</td>\n",
       "      <td>0.0</td>\n",
       "      <td>0.0</td>\n",
       "      <td>0.0</td>\n",
       "      <td>0.0</td>\n",
       "      <td>0.0</td>\n",
       "      <td>0.000000</td>\n",
       "      <td>1.0</td>\n",
       "      <td>10.91</td>\n",
       "      <td>26.0</td>\n",
       "      <td>23.0</td>\n",
       "      <td>7.06</td>\n",
       "      <td>119.0</td>\n",
       "      <td>441.683333</td>\n",
       "      <td>0.0000</td>\n",
       "      <td>20.0</td>\n",
       "      <td>74.183333</td>\n",
       "      <td>0.0</td>\n",
       "      <td>80.0</td>\n",
       "      <td>292.066667</td>\n",
       "      <td>0.00</td>\n",
       "      <td>0.0</td>\n",
       "      <td>0.0</td>\n",
       "      <td>0.0</td>\n",
       "      <td>0.0</td>\n",
       "      <td>0.0</td>\n",
       "      <td>0.000000</td>\n",
       "      <td>1.0</td>\n",
       "      <td>10.91</td>\n",
       "      <td>31.0</td>\n",
       "      <td>30.0</td>\n",
       "      <td>10.0</td>\n",
       "      <td>124.0</td>\n",
       "      <td>406.883333</td>\n",
       "      <td>0.9580</td>\n",
       "      <td>5.0</td>\n",
       "      <td>35.616667</td>\n",
       "      <td>0.81</td>\n",
       "      <td>94.0</td>\n",
       "      <td>307.266667</td>\n",
       "      <td>0.0</td>\n",
       "      <td>0.0</td>\n",
       "      <td>0.0</td>\n",
       "      <td>0.0</td>\n",
       "      <td>0.0</td>\n",
       "      <td>0.0</td>\n",
       "      <td>0.000000</td>\n",
       "      <td>1.0</td>\n",
       "      <td>10.71</td>\n",
       "      <td>29.0</td>\n",
       "      <td>26.0</td>\n",
       "      <td>10.0</td>\n",
       "      <td>115.0</td>\n",
       "      <td>429.650000</td>\n",
       "      <td>1.0320</td>\n",
       "      <td>14.0</td>\n",
       "      <td>50.416667</td>\n",
       "      <td>0.0</td>\n",
       "      <td>76.0</td>\n",
       "      <td>306.500000</td>\n",
       "      <td>0.00</td>\n",
       "      <td>0.0</td>\n",
       "      <td>0.0</td>\n",
       "      <td>0.0</td>\n",
       "      <td>0.0</td>\n",
       "      <td>0.0</td>\n",
       "      <td>1.0</td>\n",
       "      <td>10.71</td>\n",
       "      <td>0.000000</td>\n",
       "      <td>29.0</td>\n",
       "      <td>29.0</td>\n",
       "      <td>10.0</td>\n",
       "      <td>137.0</td>\n",
       "      <td>334.000000</td>\n",
       "      <td>0.0</td>\n",
       "      <td>21.0</td>\n",
       "      <td>33.483333</td>\n",
       "      <td>0.0</td>\n",
       "      <td>91.0</td>\n",
       "      <td>254.350000</td>\n",
       "      <td>0.0</td>\n",
       "      <td>0.0</td>\n",
       "      <td>0.0</td>\n",
       "      <td>0.0</td>\n",
       "      <td>0.0</td>\n",
       "      <td>0.0</td>\n",
       "      <td>0.000000</td>\n",
       "      <td>1.0</td>\n",
       "      <td>10.71</td>\n",
       "      <td>31.0</td>\n",
       "      <td>28.0</td>\n",
       "      <td>12.0</td>\n",
       "      <td>CU</td>\n",
       "      <td>2017-04-04</td>\n",
       "      <td>N</td>\n",
       "      <td>2022-03-31</td>\n",
       "      <td>3.152564</td>\n",
       "      <td>3.442222</td>\n",
       "      <td>3.711625</td>\n",
       "      <td>3.281317</td>\n",
       "      <td>3.736087</td>\n",
       "      <td>2.437956</td>\n",
       "      <td>59</td>\n",
       "      <td>A</td>\n",
       "      <td>10.9944</td>\n",
       "      <td>11.9200</td>\n",
       "      <td>10.0000</td>\n",
       "      <td>10.9580</td>\n",
       "      <td>11.0320</td>\n",
       "      <td>12.0</td>\n",
       "      <td>5.691057</td>\n",
       "      <td>1.179259</td>\n",
       "      <td>-27.416058</td>\n",
       "      <td>-41.176471</td>\n",
       "      <td>-31.160170</td>\n",
       "      <td>-100.0</td>\n",
       "      <td>21.176471</td>\n",
       "      <td>14.464204</td>\n",
       "      <td>-100.0</td>\n",
       "      <td>0.0</td>\n",
       "      <td>0.0</td>\n",
       "      <td>0.0</td>\n",
       "      <td>0.000000</td>\n",
       "      <td>0.0</td>\n",
       "      <td>0.000000</td>\n",
       "      <td>0.0</td>\n",
       "      <td>1.112141</td>\n",
       "      <td>2.739726</td>\n",
       "      <td>-8.088235</td>\n",
       "      <td>1.916021</td>\n",
       "      <td>-5.095889</td>\n",
       "      <td>-1.677696</td>\n",
       "      <td>123.000000</td>\n",
       "      <td>125.333333</td>\n",
       "      <td>124.166667</td>\n",
       "      <td>421.527778</td>\n",
       "      <td>390.177778</td>\n",
       "      <td>405.852778</td>\n",
       "      <td>1.951467</td>\n",
       "      <td>0.663333</td>\n",
       "      <td>1.307400</td>\n",
       "      <td>18.333333</td>\n",
       "      <td>13.333333</td>\n",
       "      <td>15.833333</td>\n",
       "      <td>82.411111</td>\n",
       "      <td>39.838889</td>\n",
       "      <td>61.125000</td>\n",
       "      <td>0.0</td>\n",
       "      <td>0.27</td>\n",
       "      <td>0.135</td>\n",
       "      <td>89.000000</td>\n",
       "      <td>87.000000</td>\n",
       "      <td>88.000000</td>\n",
       "      <td>291.494444</td>\n",
       "      <td>289.372222</td>\n",
       "      <td>290.433333</td>\n",
       "      <td>1.62</td>\n",
       "      <td>0.00</td>\n",
       "      <td>0.810</td>\n",
       "      <td>0.0</td>\n",
       "      <td>0.0</td>\n",
       "      <td>0.0</td>\n",
       "      <td>0.0</td>\n",
       "      <td>0.0</td>\n",
       "      <td>0.0</td>\n",
       "      <td>0.0</td>\n",
       "      <td>0.0</td>\n",
       "      <td>0.0</td>\n",
       "      <td>0.000000</td>\n",
       "      <td>0.000000</td>\n",
       "      <td>0.000000</td>\n",
       "      <td>0.0</td>\n",
       "      <td>0.000000</td>\n",
       "      <td>0.000000</td>\n",
       "      <td>0.000000</td>\n",
       "      <td>0.000000</td>\n",
       "      <td>0.000000</td>\n",
       "      <td>1.000000</td>\n",
       "      <td>1.000000</td>\n",
       "      <td>1.000000</td>\n",
       "      <td>10.910000</td>\n",
       "      <td>10.710000</td>\n",
       "      <td>10.810000</td>\n",
       "      <td>29.000000</td>\n",
       "      <td>29.666667</td>\n",
       "      <td>29.333333</td>\n",
       "      <td>26.000000</td>\n",
       "      <td>27.666667</td>\n",
       "      <td>26.833333</td>\n",
       "      <td>9.020000</td>\n",
       "      <td>10.666667</td>\n",
       "      <td>9.843333</td>\n",
       "      <td>3.435470</td>\n",
       "      <td>3.151787</td>\n",
       "      <td>3.293629</td>\n",
       "      <td>10.971467</td>\n",
       "      <td>11.330000</td>\n",
       "      <td>11.150733</td>\n",
       "      <td>N</td>\n",
       "      <td>DUMMY</td>\n",
       "      <td>O</td>\n",
       "      <td>75.0</td>\n",
       "      <td>N</td>\n",
       "      <td>1.0</td>\n",
       "      <td>NaN</td>\n",
       "      <td>NaN</td>\n",
       "      <td>16292.504886</td>\n",
       "      <td>6307.13544</td>\n",
       "      <td>2.568086</td>\n",
       "      <td>7824.311161</td>\n",
       "      <td>8468.193724</td>\n",
       "      <td>2366.30671</td>\n",
       "      <td>1214.169451</td>\n",
       "      <td>1152.137259</td>\n",
       "      <td>2616.914247</td>\n",
       "      <td>1300.683474</td>\n",
       "      <td>1316.230773</td>\n",
       "      <td>3522.997262</td>\n",
       "      <td>1737.951555</td>\n",
       "      <td>1785.045707</td>\n",
       "      <td>3493.382146</td>\n",
       "      <td>1651.905996</td>\n",
       "      <td>1841.476151</td>\n",
       "      <td>174.416346</td>\n",
       "      <td>1.624233</td>\n",
       "      <td>10987.233943</td>\n",
       "      <td>106.383997</td>\n",
       "      <td>161.268332</td>\n",
       "      <td>161.300891</td>\n",
       "      <td>106.670403</td>\n",
       "      <td>106.670418</td>\n",
       "      <td>600.0</td>\n",
       "      <td>1000.0</td>\n",
       "      <td>596.0</td>\n",
       "      <td>11.42</td>\n",
       "      <td>0.0</td>\n",
       "    </tr>\n",
       "    <tr>\n",
       "      <th>2</th>\n",
       "      <td>6949625761</td>\n",
       "      <td>14</td>\n",
       "      <td>10.316667</td>\n",
       "      <td>0.0000</td>\n",
       "      <td>4</td>\n",
       "      <td>6.383333</td>\n",
       "      <td>0.0</td>\n",
       "      <td>4</td>\n",
       "      <td>3.933333</td>\n",
       "      <td>0.0</td>\n",
       "      <td>0</td>\n",
       "      <td>0.0</td>\n",
       "      <td>0.0</td>\n",
       "      <td>241</td>\n",
       "      <td>0.0</td>\n",
       "      <td>1942.154999</td>\n",
       "      <td>0</td>\n",
       "      <td>0.00</td>\n",
       "      <td>12</td>\n",
       "      <td>28</td>\n",
       "      <td>0.0</td>\n",
       "      <td>17.0</td>\n",
       "      <td>5.300000</td>\n",
       "      <td>0.0000</td>\n",
       "      <td>2.0</td>\n",
       "      <td>0.450000</td>\n",
       "      <td>0.0</td>\n",
       "      <td>4.0</td>\n",
       "      <td>4.850000</td>\n",
       "      <td>0.00</td>\n",
       "      <td>0.0</td>\n",
       "      <td>0.0</td>\n",
       "      <td>0.0</td>\n",
       "      <td>127.0</td>\n",
       "      <td>0.0</td>\n",
       "      <td>1933.833850</td>\n",
       "      <td>1.0</td>\n",
       "      <td>12.00</td>\n",
       "      <td>10.0</td>\n",
       "      <td>25.0</td>\n",
       "      <td>12.00</td>\n",
       "      <td>63.0</td>\n",
       "      <td>8.766667</td>\n",
       "      <td>0.2944</td>\n",
       "      <td>6.0</td>\n",
       "      <td>8.083333</td>\n",
       "      <td>0.0</td>\n",
       "      <td>3.0</td>\n",
       "      <td>0.683333</td>\n",
       "      <td>0.00</td>\n",
       "      <td>0.0</td>\n",
       "      <td>0.0</td>\n",
       "      <td>0.0</td>\n",
       "      <td>113.0</td>\n",
       "      <td>0.0</td>\n",
       "      <td>2981.029951</td>\n",
       "      <td>1.0</td>\n",
       "      <td>10.00</td>\n",
       "      <td>18.0</td>\n",
       "      <td>28.0</td>\n",
       "      <td>10.0</td>\n",
       "      <td>101.0</td>\n",
       "      <td>36.333333</td>\n",
       "      <td>0.5888</td>\n",
       "      <td>12.0</td>\n",
       "      <td>13.866667</td>\n",
       "      <td>0.00</td>\n",
       "      <td>13.0</td>\n",
       "      <td>19.583333</td>\n",
       "      <td>0.0</td>\n",
       "      <td>0.0</td>\n",
       "      <td>0.0</td>\n",
       "      <td>0.0</td>\n",
       "      <td>118.0</td>\n",
       "      <td>0.0</td>\n",
       "      <td>2809.967098</td>\n",
       "      <td>1.0</td>\n",
       "      <td>8.93</td>\n",
       "      <td>27.0</td>\n",
       "      <td>31.0</td>\n",
       "      <td>8.5</td>\n",
       "      <td>42.0</td>\n",
       "      <td>5.766667</td>\n",
       "      <td>0.0000</td>\n",
       "      <td>1.0</td>\n",
       "      <td>0.933333</td>\n",
       "      <td>0.0</td>\n",
       "      <td>6.0</td>\n",
       "      <td>4.833333</td>\n",
       "      <td>0.00</td>\n",
       "      <td>0.0</td>\n",
       "      <td>0.0</td>\n",
       "      <td>0.0</td>\n",
       "      <td>95.0</td>\n",
       "      <td>0.0</td>\n",
       "      <td>1.0</td>\n",
       "      <td>8.93</td>\n",
       "      <td>2708.172259</td>\n",
       "      <td>16.0</td>\n",
       "      <td>30.0</td>\n",
       "      <td>8.5</td>\n",
       "      <td>21.0</td>\n",
       "      <td>7.616667</td>\n",
       "      <td>0.0</td>\n",
       "      <td>1.0</td>\n",
       "      <td>0.200000</td>\n",
       "      <td>0.0</td>\n",
       "      <td>5.0</td>\n",
       "      <td>7.416667</td>\n",
       "      <td>0.0</td>\n",
       "      <td>0.0</td>\n",
       "      <td>0.0</td>\n",
       "      <td>0.0</td>\n",
       "      <td>93.0</td>\n",
       "      <td>0.0</td>\n",
       "      <td>1291.706381</td>\n",
       "      <td>1.0</td>\n",
       "      <td>8.93</td>\n",
       "      <td>9.0</td>\n",
       "      <td>30.0</td>\n",
       "      <td>8.5</td>\n",
       "      <td>CU</td>\n",
       "      <td>2012-10-16</td>\n",
       "      <td>Y</td>\n",
       "      <td>2022-03-31</td>\n",
       "      <td>0.736905</td>\n",
       "      <td>0.311765</td>\n",
       "      <td>0.139153</td>\n",
       "      <td>0.359736</td>\n",
       "      <td>0.137302</td>\n",
       "      <td>0.362698</td>\n",
       "      <td>113</td>\n",
       "      <td>A</td>\n",
       "      <td>0.0000</td>\n",
       "      <td>12.0000</td>\n",
       "      <td>10.2944</td>\n",
       "      <td>9.0888</td>\n",
       "      <td>8.5000</td>\n",
       "      <td>8.5</td>\n",
       "      <td>-71.311475</td>\n",
       "      <td>-19.127254</td>\n",
       "      <td>-100.000000</td>\n",
       "      <td>-9.090909</td>\n",
       "      <td>35.623229</td>\n",
       "      <td>0.0</td>\n",
       "      <td>-35.483871</td>\n",
       "      <td>-47.368421</td>\n",
       "      <td>0.0</td>\n",
       "      <td>0.0</td>\n",
       "      <td>0.0</td>\n",
       "      <td>0.0</td>\n",
       "      <td>120.695971</td>\n",
       "      <td>0.0</td>\n",
       "      <td>-17.176840</td>\n",
       "      <td>-100.0</td>\n",
       "      <td>-100.000000</td>\n",
       "      <td>-25.000000</td>\n",
       "      <td>-2.777778</td>\n",
       "      <td>-100.000000</td>\n",
       "      <td>181.120988</td>\n",
       "      <td>-100.000000</td>\n",
       "      <td>31.333333</td>\n",
       "      <td>54.666667</td>\n",
       "      <td>43.000000</td>\n",
       "      <td>8.127778</td>\n",
       "      <td>16.572222</td>\n",
       "      <td>12.350000</td>\n",
       "      <td>0.098133</td>\n",
       "      <td>0.196267</td>\n",
       "      <td>0.147200</td>\n",
       "      <td>4.000000</td>\n",
       "      <td>4.666667</td>\n",
       "      <td>4.333333</td>\n",
       "      <td>4.972222</td>\n",
       "      <td>5.000000</td>\n",
       "      <td>4.986111</td>\n",
       "      <td>0.0</td>\n",
       "      <td>0.00</td>\n",
       "      <td>0.000</td>\n",
       "      <td>3.666667</td>\n",
       "      <td>8.000000</td>\n",
       "      <td>5.833333</td>\n",
       "      <td>3.155556</td>\n",
       "      <td>10.611111</td>\n",
       "      <td>6.883333</td>\n",
       "      <td>0.00</td>\n",
       "      <td>0.00</td>\n",
       "      <td>0.000</td>\n",
       "      <td>0.0</td>\n",
       "      <td>0.0</td>\n",
       "      <td>0.0</td>\n",
       "      <td>0.0</td>\n",
       "      <td>0.0</td>\n",
       "      <td>0.0</td>\n",
       "      <td>0.0</td>\n",
       "      <td>0.0</td>\n",
       "      <td>0.0</td>\n",
       "      <td>160.333333</td>\n",
       "      <td>102.000000</td>\n",
       "      <td>131.166667</td>\n",
       "      <td>0.0</td>\n",
       "      <td>0.000000</td>\n",
       "      <td>0.000000</td>\n",
       "      <td>2285.672933</td>\n",
       "      <td>2269.948579</td>\n",
       "      <td>2277.810756</td>\n",
       "      <td>0.666667</td>\n",
       "      <td>1.000000</td>\n",
       "      <td>0.833333</td>\n",
       "      <td>7.333333</td>\n",
       "      <td>8.930000</td>\n",
       "      <td>8.131667</td>\n",
       "      <td>13.333333</td>\n",
       "      <td>17.333333</td>\n",
       "      <td>15.333333</td>\n",
       "      <td>27.000000</td>\n",
       "      <td>30.333333</td>\n",
       "      <td>28.666667</td>\n",
       "      <td>7.333333</td>\n",
       "      <td>8.500000</td>\n",
       "      <td>7.916667</td>\n",
       "      <td>0.395941</td>\n",
       "      <td>0.286579</td>\n",
       "      <td>0.341260</td>\n",
       "      <td>7.431467</td>\n",
       "      <td>8.696267</td>\n",
       "      <td>8.063867</td>\n",
       "      <td>Y</td>\n",
       "      <td>56532</td>\n",
       "      <td>O</td>\n",
       "      <td>28.0</td>\n",
       "      <td>N</td>\n",
       "      <td>1.0</td>\n",
       "      <td>Thessaloniki</td>\n",
       "      <td>Pávlou Melá</td>\n",
       "      <td>10748.000000</td>\n",
       "      <td>3905.00000</td>\n",
       "      <td>2.750000</td>\n",
       "      <td>5230.000000</td>\n",
       "      <td>5518.000000</td>\n",
       "      <td>1826.00000</td>\n",
       "      <td>924.000000</td>\n",
       "      <td>902.000000</td>\n",
       "      <td>1836.000000</td>\n",
       "      <td>905.000000</td>\n",
       "      <td>931.000000</td>\n",
       "      <td>2475.000000</td>\n",
       "      <td>1218.000000</td>\n",
       "      <td>1257.000000</td>\n",
       "      <td>2500.000000</td>\n",
       "      <td>1238.000000</td>\n",
       "      <td>1262.000000</td>\n",
       "      <td>99.080000</td>\n",
       "      <td>0.920000</td>\n",
       "      <td>9218.310000</td>\n",
       "      <td>89.260000</td>\n",
       "      <td>91.611060</td>\n",
       "      <td>91.364223</td>\n",
       "      <td>89.496669</td>\n",
       "      <td>89.500317</td>\n",
       "      <td>0.0</td>\n",
       "      <td>0.0</td>\n",
       "      <td>0.0</td>\n",
       "      <td>12.16</td>\n",
       "      <td>0.0</td>\n",
       "    </tr>\n",
       "    <tr>\n",
       "      <th>3</th>\n",
       "      <td>6949975996</td>\n",
       "      <td>4</td>\n",
       "      <td>0.283333</td>\n",
       "      <td>0.0000</td>\n",
       "      <td>0</td>\n",
       "      <td>0.000000</td>\n",
       "      <td>0.0</td>\n",
       "      <td>0</td>\n",
       "      <td>0.000000</td>\n",
       "      <td>0.0</td>\n",
       "      <td>0</td>\n",
       "      <td>0.0</td>\n",
       "      <td>0.0</td>\n",
       "      <td>146</td>\n",
       "      <td>0.0</td>\n",
       "      <td>3448.914274</td>\n",
       "      <td>0</td>\n",
       "      <td>0.00</td>\n",
       "      <td>4</td>\n",
       "      <td>25</td>\n",
       "      <td>7.1</td>\n",
       "      <td>26.0</td>\n",
       "      <td>11.266667</td>\n",
       "      <td>0.0000</td>\n",
       "      <td>0.0</td>\n",
       "      <td>0.000000</td>\n",
       "      <td>0.0</td>\n",
       "      <td>1.0</td>\n",
       "      <td>0.316667</td>\n",
       "      <td>0.00</td>\n",
       "      <td>0.0</td>\n",
       "      <td>0.0</td>\n",
       "      <td>0.0</td>\n",
       "      <td>69.0</td>\n",
       "      <td>0.0</td>\n",
       "      <td>947.737025</td>\n",
       "      <td>1.0</td>\n",
       "      <td>13.64</td>\n",
       "      <td>10.0</td>\n",
       "      <td>19.0</td>\n",
       "      <td>0.00</td>\n",
       "      <td>59.0</td>\n",
       "      <td>4.983333</td>\n",
       "      <td>5.8432</td>\n",
       "      <td>0.0</td>\n",
       "      <td>0.000000</td>\n",
       "      <td>0.0</td>\n",
       "      <td>2.0</td>\n",
       "      <td>1.250000</td>\n",
       "      <td>0.00</td>\n",
       "      <td>0.0</td>\n",
       "      <td>0.0</td>\n",
       "      <td>0.0</td>\n",
       "      <td>48.0</td>\n",
       "      <td>0.0</td>\n",
       "      <td>767.634766</td>\n",
       "      <td>1.0</td>\n",
       "      <td>10.91</td>\n",
       "      <td>10.0</td>\n",
       "      <td>22.0</td>\n",
       "      <td>10.0</td>\n",
       "      <td>112.0</td>\n",
       "      <td>88.500000</td>\n",
       "      <td>0.0000</td>\n",
       "      <td>0.0</td>\n",
       "      <td>0.000000</td>\n",
       "      <td>0.00</td>\n",
       "      <td>18.0</td>\n",
       "      <td>7.266667</td>\n",
       "      <td>0.0</td>\n",
       "      <td>0.0</td>\n",
       "      <td>0.0</td>\n",
       "      <td>0.0</td>\n",
       "      <td>120.0</td>\n",
       "      <td>2.0</td>\n",
       "      <td>5121.527380</td>\n",
       "      <td>1.0</td>\n",
       "      <td>13.39</td>\n",
       "      <td>20.0</td>\n",
       "      <td>28.0</td>\n",
       "      <td>10.0</td>\n",
       "      <td>159.0</td>\n",
       "      <td>100.933333</td>\n",
       "      <td>0.2944</td>\n",
       "      <td>5.0</td>\n",
       "      <td>5.400000</td>\n",
       "      <td>0.0</td>\n",
       "      <td>12.0</td>\n",
       "      <td>5.350000</td>\n",
       "      <td>0.00</td>\n",
       "      <td>0.0</td>\n",
       "      <td>0.0</td>\n",
       "      <td>0.0</td>\n",
       "      <td>128.0</td>\n",
       "      <td>2.0</td>\n",
       "      <td>0.0</td>\n",
       "      <td>0.00</td>\n",
       "      <td>3062.436725</td>\n",
       "      <td>30.0</td>\n",
       "      <td>29.0</td>\n",
       "      <td>0.9</td>\n",
       "      <td>6.0</td>\n",
       "      <td>1.400000</td>\n",
       "      <td>0.0</td>\n",
       "      <td>0.0</td>\n",
       "      <td>0.000000</td>\n",
       "      <td>0.0</td>\n",
       "      <td>2.0</td>\n",
       "      <td>0.916667</td>\n",
       "      <td>0.0</td>\n",
       "      <td>0.0</td>\n",
       "      <td>0.0</td>\n",
       "      <td>0.0</td>\n",
       "      <td>29.0</td>\n",
       "      <td>0.0</td>\n",
       "      <td>571.565807</td>\n",
       "      <td>1.0</td>\n",
       "      <td>13.39</td>\n",
       "      <td>3.0</td>\n",
       "      <td>30.0</td>\n",
       "      <td>10.0</td>\n",
       "      <td>CU</td>\n",
       "      <td>2017-12-19</td>\n",
       "      <td>N</td>\n",
       "      <td>2022-03-31</td>\n",
       "      <td>0.070833</td>\n",
       "      <td>0.433333</td>\n",
       "      <td>0.084463</td>\n",
       "      <td>0.790179</td>\n",
       "      <td>0.634801</td>\n",
       "      <td>0.233333</td>\n",
       "      <td>51</td>\n",
       "      <td>A</td>\n",
       "      <td>7.1000</td>\n",
       "      <td>0.0000</td>\n",
       "      <td>15.8432</td>\n",
       "      <td>12.0000</td>\n",
       "      <td>3.1944</td>\n",
       "      <td>10.0</td>\n",
       "      <td>-94.475138</td>\n",
       "      <td>-99.315895</td>\n",
       "      <td>-100.000000</td>\n",
       "      <td>-100.000000</td>\n",
       "      <td>-100.000000</td>\n",
       "      <td>0.0</td>\n",
       "      <td>-100.000000</td>\n",
       "      <td>-100.000000</td>\n",
       "      <td>0.0</td>\n",
       "      <td>0.0</td>\n",
       "      <td>0.0</td>\n",
       "      <td>0.0</td>\n",
       "      <td>85.279188</td>\n",
       "      <td>-100.0</td>\n",
       "      <td>64.690414</td>\n",
       "      <td>-100.0</td>\n",
       "      <td>-100.000000</td>\n",
       "      <td>-72.602740</td>\n",
       "      <td>-2.343750</td>\n",
       "      <td>14.886731</td>\n",
       "      <td>-83.724776</td>\n",
       "      <td>-13.493967</td>\n",
       "      <td>29.666667</td>\n",
       "      <td>92.333333</td>\n",
       "      <td>61.000000</td>\n",
       "      <td>5.511111</td>\n",
       "      <td>63.611111</td>\n",
       "      <td>34.561111</td>\n",
       "      <td>1.947733</td>\n",
       "      <td>0.098133</td>\n",
       "      <td>1.022933</td>\n",
       "      <td>0.000000</td>\n",
       "      <td>1.666667</td>\n",
       "      <td>0.833333</td>\n",
       "      <td>0.000000</td>\n",
       "      <td>1.800000</td>\n",
       "      <td>0.900000</td>\n",
       "      <td>0.0</td>\n",
       "      <td>0.00</td>\n",
       "      <td>0.000</td>\n",
       "      <td>1.000000</td>\n",
       "      <td>10.666667</td>\n",
       "      <td>5.833333</td>\n",
       "      <td>0.522222</td>\n",
       "      <td>4.511111</td>\n",
       "      <td>2.516667</td>\n",
       "      <td>0.00</td>\n",
       "      <td>0.00</td>\n",
       "      <td>0.000</td>\n",
       "      <td>0.0</td>\n",
       "      <td>0.0</td>\n",
       "      <td>0.0</td>\n",
       "      <td>0.0</td>\n",
       "      <td>0.0</td>\n",
       "      <td>0.0</td>\n",
       "      <td>0.0</td>\n",
       "      <td>0.0</td>\n",
       "      <td>0.0</td>\n",
       "      <td>87.666667</td>\n",
       "      <td>92.333333</td>\n",
       "      <td>90.000000</td>\n",
       "      <td>0.0</td>\n",
       "      <td>1.333333</td>\n",
       "      <td>0.666667</td>\n",
       "      <td>1721.428688</td>\n",
       "      <td>2918.509971</td>\n",
       "      <td>2319.969330</td>\n",
       "      <td>0.666667</td>\n",
       "      <td>0.666667</td>\n",
       "      <td>0.666667</td>\n",
       "      <td>8.183333</td>\n",
       "      <td>8.926667</td>\n",
       "      <td>8.555000</td>\n",
       "      <td>8.000000</td>\n",
       "      <td>17.666667</td>\n",
       "      <td>12.833333</td>\n",
       "      <td>22.000000</td>\n",
       "      <td>29.000000</td>\n",
       "      <td>25.500000</td>\n",
       "      <td>5.700000</td>\n",
       "      <td>6.966667</td>\n",
       "      <td>6.333333</td>\n",
       "      <td>0.196210</td>\n",
       "      <td>0.552771</td>\n",
       "      <td>0.374490</td>\n",
       "      <td>7.647733</td>\n",
       "      <td>8.398133</td>\n",
       "      <td>8.022933</td>\n",
       "      <td>N</td>\n",
       "      <td>15772</td>\n",
       "      <td>O</td>\n",
       "      <td>50.0</td>\n",
       "      <td>N</td>\n",
       "      <td>1.0</td>\n",
       "      <td>Kentrikos Tomeas Athinon</td>\n",
       "      <td>Zográfou</td>\n",
       "      <td>34936.000000</td>\n",
       "      <td>16160.00000</td>\n",
       "      <td>2.160000</td>\n",
       "      <td>15872.000000</td>\n",
       "      <td>19064.000000</td>\n",
       "      <td>3915.00000</td>\n",
       "      <td>1996.000000</td>\n",
       "      <td>1919.000000</td>\n",
       "      <td>6484.000000</td>\n",
       "      <td>3092.000000</td>\n",
       "      <td>3392.000000</td>\n",
       "      <td>7331.000000</td>\n",
       "      <td>3614.000000</td>\n",
       "      <td>3717.000000</td>\n",
       "      <td>7245.000000</td>\n",
       "      <td>3114.000000</td>\n",
       "      <td>4131.000000</td>\n",
       "      <td>428.670000</td>\n",
       "      <td>3.990000</td>\n",
       "      <td>12270.080000</td>\n",
       "      <td>118.810000</td>\n",
       "      <td>396.355603</td>\n",
       "      <td>396.242662</td>\n",
       "      <td>119.125013</td>\n",
       "      <td>119.129875</td>\n",
       "      <td>0.0</td>\n",
       "      <td>0.0</td>\n",
       "      <td>0.0</td>\n",
       "      <td>0.00</td>\n",
       "      <td>0.0</td>\n",
       "    </tr>\n",
       "    <tr>\n",
       "      <th>4</th>\n",
       "      <td>6951507651</td>\n",
       "      <td>28</td>\n",
       "      <td>14.750000</td>\n",
       "      <td>0.0000</td>\n",
       "      <td>0</td>\n",
       "      <td>0.000000</td>\n",
       "      <td>0.0</td>\n",
       "      <td>19</td>\n",
       "      <td>13.983333</td>\n",
       "      <td>0.0</td>\n",
       "      <td>0</td>\n",
       "      <td>0.0</td>\n",
       "      <td>0.0</td>\n",
       "      <td>736</td>\n",
       "      <td>0.0</td>\n",
       "      <td>11971.724609</td>\n",
       "      <td>1</td>\n",
       "      <td>13.64</td>\n",
       "      <td>14</td>\n",
       "      <td>13</td>\n",
       "      <td>12.1</td>\n",
       "      <td>38.0</td>\n",
       "      <td>24.183333</td>\n",
       "      <td>5.1019</td>\n",
       "      <td>0.0</td>\n",
       "      <td>0.000000</td>\n",
       "      <td>0.0</td>\n",
       "      <td>28.0</td>\n",
       "      <td>21.250000</td>\n",
       "      <td>4.86</td>\n",
       "      <td>0.0</td>\n",
       "      <td>0.0</td>\n",
       "      <td>0.0</td>\n",
       "      <td>504.0</td>\n",
       "      <td>0.0</td>\n",
       "      <td>6281.374317</td>\n",
       "      <td>3.0</td>\n",
       "      <td>40.92</td>\n",
       "      <td>15.0</td>\n",
       "      <td>19.0</td>\n",
       "      <td>16.00</td>\n",
       "      <td>49.0</td>\n",
       "      <td>84.933333</td>\n",
       "      <td>3.4819</td>\n",
       "      <td>0.0</td>\n",
       "      <td>0.000000</td>\n",
       "      <td>0.0</td>\n",
       "      <td>33.0</td>\n",
       "      <td>68.250000</td>\n",
       "      <td>3.24</td>\n",
       "      <td>0.0</td>\n",
       "      <td>0.0</td>\n",
       "      <td>0.0</td>\n",
       "      <td>449.0</td>\n",
       "      <td>0.0</td>\n",
       "      <td>4355.070110</td>\n",
       "      <td>1.0</td>\n",
       "      <td>18.18</td>\n",
       "      <td>20.0</td>\n",
       "      <td>21.0</td>\n",
       "      <td>10.0</td>\n",
       "      <td>49.0</td>\n",
       "      <td>48.783333</td>\n",
       "      <td>0.0000</td>\n",
       "      <td>0.0</td>\n",
       "      <td>0.000000</td>\n",
       "      <td>0.00</td>\n",
       "      <td>35.0</td>\n",
       "      <td>43.666667</td>\n",
       "      <td>0.0</td>\n",
       "      <td>0.0</td>\n",
       "      <td>0.0</td>\n",
       "      <td>0.0</td>\n",
       "      <td>372.0</td>\n",
       "      <td>0.0</td>\n",
       "      <td>5973.155681</td>\n",
       "      <td>1.0</td>\n",
       "      <td>13.39</td>\n",
       "      <td>23.0</td>\n",
       "      <td>19.0</td>\n",
       "      <td>11.0</td>\n",
       "      <td>51.0</td>\n",
       "      <td>57.016667</td>\n",
       "      <td>5.9644</td>\n",
       "      <td>6.0</td>\n",
       "      <td>19.516667</td>\n",
       "      <td>0.0</td>\n",
       "      <td>35.0</td>\n",
       "      <td>33.116667</td>\n",
       "      <td>5.67</td>\n",
       "      <td>0.0</td>\n",
       "      <td>0.0</td>\n",
       "      <td>0.0</td>\n",
       "      <td>579.0</td>\n",
       "      <td>0.0</td>\n",
       "      <td>1.0</td>\n",
       "      <td>10.71</td>\n",
       "      <td>10979.259892</td>\n",
       "      <td>25.0</td>\n",
       "      <td>17.0</td>\n",
       "      <td>14.5</td>\n",
       "      <td>36.0</td>\n",
       "      <td>66.266667</td>\n",
       "      <td>0.0</td>\n",
       "      <td>0.0</td>\n",
       "      <td>0.000000</td>\n",
       "      <td>0.0</td>\n",
       "      <td>29.0</td>\n",
       "      <td>66.200000</td>\n",
       "      <td>0.0</td>\n",
       "      <td>0.0</td>\n",
       "      <td>0.0</td>\n",
       "      <td>0.0</td>\n",
       "      <td>505.0</td>\n",
       "      <td>0.0</td>\n",
       "      <td>14519.130962</td>\n",
       "      <td>2.0</td>\n",
       "      <td>24.10</td>\n",
       "      <td>16.0</td>\n",
       "      <td>18.0</td>\n",
       "      <td>13.0</td>\n",
       "      <td>CU</td>\n",
       "      <td>2015-05-01</td>\n",
       "      <td>Y</td>\n",
       "      <td>2022-03-31</td>\n",
       "      <td>0.526786</td>\n",
       "      <td>0.636404</td>\n",
       "      <td>1.733333</td>\n",
       "      <td>0.995578</td>\n",
       "      <td>1.117974</td>\n",
       "      <td>1.840741</td>\n",
       "      <td>82</td>\n",
       "      <td>A</td>\n",
       "      <td>12.1000</td>\n",
       "      <td>21.1019</td>\n",
       "      <td>13.4819</td>\n",
       "      <td>11.0000</td>\n",
       "      <td>20.4644</td>\n",
       "      <td>13.0</td>\n",
       "      <td>-37.219731</td>\n",
       "      <td>-73.771561</td>\n",
       "      <td>-100.000000</td>\n",
       "      <td>-100.000000</td>\n",
       "      <td>-100.000000</td>\n",
       "      <td>0.0</td>\n",
       "      <td>-40.625000</td>\n",
       "      <td>-69.926160</td>\n",
       "      <td>-100.0</td>\n",
       "      <td>0.0</td>\n",
       "      <td>0.0</td>\n",
       "      <td>0.0</td>\n",
       "      <td>52.760482</td>\n",
       "      <td>0.0</td>\n",
       "      <td>42.155020</td>\n",
       "      <td>-37.5</td>\n",
       "      <td>-36.439888</td>\n",
       "      <td>-29.292929</td>\n",
       "      <td>-30.851064</td>\n",
       "      <td>-6.201550</td>\n",
       "      <td>-58.350471</td>\n",
       "      <td>-23.464418</td>\n",
       "      <td>38.333333</td>\n",
       "      <td>45.333333</td>\n",
       "      <td>41.833333</td>\n",
       "      <td>41.288889</td>\n",
       "      <td>57.355556</td>\n",
       "      <td>49.322222</td>\n",
       "      <td>2.861267</td>\n",
       "      <td>1.988133</td>\n",
       "      <td>2.424700</td>\n",
       "      <td>0.000000</td>\n",
       "      <td>2.000000</td>\n",
       "      <td>1.000000</td>\n",
       "      <td>0.000000</td>\n",
       "      <td>6.505556</td>\n",
       "      <td>3.252778</td>\n",
       "      <td>0.0</td>\n",
       "      <td>0.00</td>\n",
       "      <td>0.000</td>\n",
       "      <td>26.666667</td>\n",
       "      <td>33.000000</td>\n",
       "      <td>29.833333</td>\n",
       "      <td>34.494444</td>\n",
       "      <td>47.661111</td>\n",
       "      <td>41.077778</td>\n",
       "      <td>2.70</td>\n",
       "      <td>1.89</td>\n",
       "      <td>2.295</td>\n",
       "      <td>0.0</td>\n",
       "      <td>0.0</td>\n",
       "      <td>0.0</td>\n",
       "      <td>0.0</td>\n",
       "      <td>0.0</td>\n",
       "      <td>0.0</td>\n",
       "      <td>0.0</td>\n",
       "      <td>0.0</td>\n",
       "      <td>0.0</td>\n",
       "      <td>563.000000</td>\n",
       "      <td>485.333333</td>\n",
       "      <td>524.166667</td>\n",
       "      <td>0.0</td>\n",
       "      <td>0.000000</td>\n",
       "      <td>0.000000</td>\n",
       "      <td>7536.056346</td>\n",
       "      <td>10490.515512</td>\n",
       "      <td>9013.285929</td>\n",
       "      <td>1.666667</td>\n",
       "      <td>1.333333</td>\n",
       "      <td>1.500000</td>\n",
       "      <td>24.246667</td>\n",
       "      <td>16.066667</td>\n",
       "      <td>20.156667</td>\n",
       "      <td>16.333333</td>\n",
       "      <td>21.333333</td>\n",
       "      <td>18.833333</td>\n",
       "      <td>17.666667</td>\n",
       "      <td>18.000000</td>\n",
       "      <td>17.833333</td>\n",
       "      <td>12.700000</td>\n",
       "      <td>12.833333</td>\n",
       "      <td>12.766667</td>\n",
       "      <td>0.965508</td>\n",
       "      <td>1.318098</td>\n",
       "      <td>1.141803</td>\n",
       "      <td>15.561267</td>\n",
       "      <td>14.821467</td>\n",
       "      <td>15.191367</td>\n",
       "      <td>N</td>\n",
       "      <td>71304</td>\n",
       "      <td>O</td>\n",
       "      <td>27.0</td>\n",
       "      <td>N</td>\n",
       "      <td>1.0</td>\n",
       "      <td>Voreios Tomeas Athinon</td>\n",
       "      <td>Irakleíou</td>\n",
       "      <td>11631.000000</td>\n",
       "      <td>4610.00000</td>\n",
       "      <td>2.520000</td>\n",
       "      <td>5410.000000</td>\n",
       "      <td>6221.000000</td>\n",
       "      <td>2291.00000</td>\n",
       "      <td>1117.000000</td>\n",
       "      <td>1174.000000</td>\n",
       "      <td>1741.000000</td>\n",
       "      <td>806.000000</td>\n",
       "      <td>935.000000</td>\n",
       "      <td>2900.000000</td>\n",
       "      <td>1260.000000</td>\n",
       "      <td>1640.000000</td>\n",
       "      <td>2027.000000</td>\n",
       "      <td>1004.000000</td>\n",
       "      <td>1023.000000</td>\n",
       "      <td>121.950000</td>\n",
       "      <td>1.140000</td>\n",
       "      <td>10485.010000</td>\n",
       "      <td>101.520000</td>\n",
       "      <td>112.757053</td>\n",
       "      <td>113.212189</td>\n",
       "      <td>101.794524</td>\n",
       "      <td>101.793325</td>\n",
       "      <td>0.0</td>\n",
       "      <td>113.0</td>\n",
       "      <td>0.0</td>\n",
       "      <td>8.64</td>\n",
       "      <td>0.0</td>\n",
       "    </tr>\n",
       "  </tbody>\n",
       "</table>\n",
       "</div>"
      ],
      "text/plain": [
       "       MSISDN  M1_TTL_OUT_CALLS  M1_TTL_OUT_MINUTES  M1_TTL_OUT_REVENUE  \\\n",
       "0  6948724826               119           61.100000              1.9192   \n",
       "1  6949281531               130          409.833333              0.9944   \n",
       "2  6949625761                14           10.316667              0.0000   \n",
       "3  6949975996                 4            0.283333              0.0000   \n",
       "4  6951507651                28           14.750000              0.0000   \n",
       "\n",
       "   M1_V_CALLS_TO_FIXED_LINES  M1_V_MINUTES_TO_FIXED_LINES  \\\n",
       "0                         15                    28.216667   \n",
       "1                         10                    44.383333   \n",
       "2                          4                     6.383333   \n",
       "3                          0                     0.000000   \n",
       "4                          0                     0.000000   \n",
       "\n",
       "   M1_V_REVENUE_TO_FIXED_LINES  M1_V_CALLS_TO_COMPETITION  \\\n",
       "0                          0.0                         13   \n",
       "1                          0.0                        103   \n",
       "2                          0.0                          4   \n",
       "3                          0.0                          0   \n",
       "4                          0.0                         19   \n",
       "\n",
       "   M1_V_MINUTES_TO_COMPETITION  M1_V_REVENUE_TO_COMPETITION  \\\n",
       "0                    28.150000                          0.0   \n",
       "1                   324.616667                          0.0   \n",
       "2                     3.933333                          0.0   \n",
       "3                     0.000000                          0.0   \n",
       "4                    13.983333                          0.0   \n",
       "\n",
       "   M1_V_CALLS_TO_INTERNATIONAL  M1_V_MINUTES_TO_INTERNATIONAL  \\\n",
       "0                            0                            0.0   \n",
       "1                            0                            0.0   \n",
       "2                            0                            0.0   \n",
       "3                            0                            0.0   \n",
       "4                            0                            0.0   \n",
       "\n",
       "   M1_V_REVENUE_TO_INTERNATIONAL  M1_GPRS_SESSION  M1_GPRS_REVENUE  \\\n",
       "0                            0.0              181              0.0   \n",
       "1                            0.0                0              0.0   \n",
       "2                            0.0              241              0.0   \n",
       "3                            0.0              146              0.0   \n",
       "4                            0.0              736              0.0   \n",
       "\n",
       "   M1_GPRS_VOLUME  M1_RECHARGES_NUMBER  M1_RECHARGES_VALUE  M1_OUT_DAYS  \\\n",
       "0     1345.479857                    1               10.91           22   \n",
       "1        0.000000                    1               10.91           30   \n",
       "2     1942.154999                    0                0.00           12   \n",
       "3     3448.914274                    0                0.00            4   \n",
       "4    11971.724609                    1               13.64           14   \n",
       "\n",
       "   M1_INC_DAYS  M1_BUNDLE_REVENUE  M2_TTL_OUT_CALLS  M2_TTL_OUT_MINUTES  \\\n",
       "0           14               10.0             105.0           37.166667   \n",
       "1           25               10.0             120.0          413.066667   \n",
       "2           28                0.0              17.0            5.300000   \n",
       "3           25                7.1              26.0           11.266667   \n",
       "4           13               12.1              38.0           24.183333   \n",
       "\n",
       "   M2_TTL_OUT_REVENUE  M2_V_CALLS_TO_FIXED_LINES  M2_V_MINUTES_TO_FIXED_LINES  \\\n",
       "0              0.0000                        8.0                    13.916667   \n",
       "1              4.8600                       25.0                   128.666667   \n",
       "2              0.0000                        2.0                     0.450000   \n",
       "3              0.0000                        0.0                     0.000000   \n",
       "4              5.1019                        0.0                     0.000000   \n",
       "\n",
       "   M2_V_REVENUE_TO_FIXED_LINES  M2_V_CALLS_TO_COMPETITION  \\\n",
       "0                          0.0                        7.0   \n",
       "1                          0.0                       84.0   \n",
       "2                          0.0                        4.0   \n",
       "3                          0.0                        1.0   \n",
       "4                          0.0                       28.0   \n",
       "\n",
       "   M2_V_MINUTES_TO_COMPETITION  M2_V_REVENUE_TO_COMPETITION  \\\n",
       "0                    17.966667                         0.00   \n",
       "1                   257.800000                         4.86   \n",
       "2                     4.850000                         0.00   \n",
       "3                     0.316667                         0.00   \n",
       "4                    21.250000                         4.86   \n",
       "\n",
       "   M2_V_CALLS_TO_INTERNATIONAL  M2_V_MINUTES_TO_INTERNATIONAL  \\\n",
       "0                          0.0                            0.0   \n",
       "1                          0.0                            0.0   \n",
       "2                          0.0                            0.0   \n",
       "3                          0.0                            0.0   \n",
       "4                          0.0                            0.0   \n",
       "\n",
       "   M2_V_REVENUE_TO_INTERNATIONAL  M2_GPRS_SESSION  M2_GPRS_REVENUE  \\\n",
       "0                            0.0            156.0              0.0   \n",
       "1                            0.0              0.0              0.0   \n",
       "2                            0.0            127.0              0.0   \n",
       "3                            0.0             69.0              0.0   \n",
       "4                            0.0            504.0              0.0   \n",
       "\n",
       "   M2_GPRS_VOLUME  M2_RECHARGES_NUMBER  M2_RECHARGES_VALUE  M2_OUT_DAYS  \\\n",
       "0     1570.142383                  1.0               13.64         24.0   \n",
       "1        0.000000                  1.0               10.91         26.0   \n",
       "2     1933.833850                  1.0               12.00         10.0   \n",
       "3      947.737025                  1.0               13.64         10.0   \n",
       "4     6281.374317                  3.0               40.92         15.0   \n",
       "\n",
       "   M2_INC_DAYS  M2_BUNDLE_REVENUE  M3_TTL_OUT_CALLS  M3_TTL_OUT_MINUTES  \\\n",
       "0         12.0              10.00             100.0           37.850000   \n",
       "1         23.0               7.06             119.0          441.683333   \n",
       "2         25.0              12.00              63.0            8.766667   \n",
       "3         19.0               0.00              59.0            4.983333   \n",
       "4         19.0              16.00              49.0           84.933333   \n",
       "\n",
       "   M3_TTL_OUT_REVENUE  M3_V_CALLS_TO_FIXED_LINES  M3_V_MINUTES_TO_FIXED_LINES  \\\n",
       "0              0.6628                        1.0                     0.900000   \n",
       "1              0.0000                       20.0                    74.183333   \n",
       "2              0.2944                        6.0                     8.083333   \n",
       "3              5.8432                        0.0                     0.000000   \n",
       "4              3.4819                        0.0                     0.000000   \n",
       "\n",
       "   M3_V_REVENUE_TO_FIXED_LINES  M3_V_CALLS_TO_COMPETITION  \\\n",
       "0                          0.0                        6.0   \n",
       "1                          0.0                       80.0   \n",
       "2                          0.0                        3.0   \n",
       "3                          0.0                        2.0   \n",
       "4                          0.0                       33.0   \n",
       "\n",
       "   M3_V_MINUTES_TO_COMPETITION  M3_V_REVENUE_TO_COMPETITION  \\\n",
       "0                     7.733333                         0.00   \n",
       "1                   292.066667                         0.00   \n",
       "2                     0.683333                         0.00   \n",
       "3                     1.250000                         0.00   \n",
       "4                    68.250000                         3.24   \n",
       "\n",
       "   M3_V_CALLS_TO_INTERNATIONAL  M3_V_MINUTES_TO_INTERNATIONAL  \\\n",
       "0                          0.0                            0.0   \n",
       "1                          0.0                            0.0   \n",
       "2                          0.0                            0.0   \n",
       "3                          0.0                            0.0   \n",
       "4                          0.0                            0.0   \n",
       "\n",
       "   M3_V_REVENUE_TO_INTERNATIONAL  M3_GPRS_SESSION  M3_GPRS_REVENUE  \\\n",
       "0                            0.0            208.0              0.0   \n",
       "1                            0.0              0.0              0.0   \n",
       "2                            0.0            113.0              0.0   \n",
       "3                            0.0             48.0              0.0   \n",
       "4                            0.0            449.0              0.0   \n",
       "\n",
       "   M3_GPRS_VOLUME  M3_RECHARGES_NUMBER  M3_RECHARGES_VALUE  M3_OUT_DAYS  \\\n",
       "0     2389.019342                  1.0               10.91         24.0   \n",
       "1        0.000000                  1.0               10.91         31.0   \n",
       "2     2981.029951                  1.0               10.00         18.0   \n",
       "3      767.634766                  1.0               10.91         10.0   \n",
       "4     4355.070110                  1.0               18.18         20.0   \n",
       "\n",
       "   M3_INC_DAYS  M3_BUNDLE_REVENUE  M4_TTL_OUT_CALLS  M4_TTL_OUT_MINUTES  \\\n",
       "0         13.0               10.0             106.0           55.566667   \n",
       "1         30.0               10.0             124.0          406.883333   \n",
       "2         28.0               10.0             101.0           36.333333   \n",
       "3         22.0               10.0             112.0           88.500000   \n",
       "4         21.0               10.0              49.0           48.783333   \n",
       "\n",
       "   M4_TTL_OUT_REVENUE  M4_V_CALLS_TO_FIXED_LINES  M4_V_MINUTES_TO_FIXED_LINES  \\\n",
       "0              0.2944                        7.0                    11.100000   \n",
       "1              0.9580                        5.0                    35.616667   \n",
       "2              0.5888                       12.0                    13.866667   \n",
       "3              0.0000                        0.0                     0.000000   \n",
       "4              0.0000                        0.0                     0.000000   \n",
       "\n",
       "   M4_V_REVENUE_TO_FIXED_LINES  M4_V_CALLS_TO_COMPETITION  \\\n",
       "0                         0.00                        8.0   \n",
       "1                         0.81                       94.0   \n",
       "2                         0.00                       13.0   \n",
       "3                         0.00                       18.0   \n",
       "4                         0.00                       35.0   \n",
       "\n",
       "   M4_V_MINUTES_TO_COMPETITION  M4_V_REVENUE_TO_COMPETITION  \\\n",
       "0                    20.500000                          0.0   \n",
       "1                   307.266667                          0.0   \n",
       "2                    19.583333                          0.0   \n",
       "3                     7.266667                          0.0   \n",
       "4                    43.666667                          0.0   \n",
       "\n",
       "   M4_V_CALLS_TO_INTERNATIONAL  M4_V_MINUTES_TO_INTERNATIONAL  \\\n",
       "0                          0.0                            0.0   \n",
       "1                          0.0                            0.0   \n",
       "2                          0.0                            0.0   \n",
       "3                          0.0                            0.0   \n",
       "4                          0.0                            0.0   \n",
       "\n",
       "   M4_V_REVENUE_TO_INTERNATIONAL  M4_GPRS_SESSION  M4_GPRS_REVENUE  \\\n",
       "0                            0.0            169.0              0.0   \n",
       "1                            0.0              0.0              0.0   \n",
       "2                            0.0            118.0              0.0   \n",
       "3                            0.0            120.0              2.0   \n",
       "4                            0.0            372.0              0.0   \n",
       "\n",
       "   M4_GPRS_VOLUME  M4_RECHARGES_NUMBER  M4_RECHARGES_VALUE  M4_OUT_DAYS  \\\n",
       "0     2535.487036                  1.0               10.71         25.0   \n",
       "1        0.000000                  1.0               10.71         29.0   \n",
       "2     2809.967098                  1.0                8.93         27.0   \n",
       "3     5121.527380                  1.0               13.39         20.0   \n",
       "4     5973.155681                  1.0               13.39         23.0   \n",
       "\n",
       "   M4_INC_DAYS  M4_BUNDLE_REVENUE  M5_TTL_OUT_CALLS  M5_TTL_OUT_MINUTES  \\\n",
       "0         15.0               10.0             119.0           23.833333   \n",
       "1         26.0               10.0             115.0          429.650000   \n",
       "2         31.0                8.5              42.0            5.766667   \n",
       "3         28.0               10.0             159.0          100.933333   \n",
       "4         19.0               11.0              51.0           57.016667   \n",
       "\n",
       "   M5_TTL_OUT_REVENUE  M5_V_CALLS_TO_FIXED_LINES  M5_V_MINUTES_TO_FIXED_LINES  \\\n",
       "0              0.4424                        6.0                     6.733333   \n",
       "1              1.0320                       14.0                    50.416667   \n",
       "2              0.0000                        1.0                     0.933333   \n",
       "3              0.2944                        5.0                     5.400000   \n",
       "4              5.9644                        6.0                    19.516667   \n",
       "\n",
       "   M5_V_REVENUE_TO_FIXED_LINES  M5_V_CALLS_TO_COMPETITION  \\\n",
       "0                          0.0                        4.0   \n",
       "1                          0.0                       76.0   \n",
       "2                          0.0                        6.0   \n",
       "3                          0.0                       12.0   \n",
       "4                          0.0                       35.0   \n",
       "\n",
       "   M5_V_MINUTES_TO_COMPETITION  M5_V_REVENUE_TO_COMPETITION  \\\n",
       "0                    10.000000                         0.00   \n",
       "1                   306.500000                         0.00   \n",
       "2                     4.833333                         0.00   \n",
       "3                     5.350000                         0.00   \n",
       "4                    33.116667                         5.67   \n",
       "\n",
       "   M5_V_CALLS_TO_INTERNATIONAL  M5_V_MINUTES_TO_INTERNATIONAL  \\\n",
       "0                          0.0                            0.0   \n",
       "1                          0.0                            0.0   \n",
       "2                          0.0                            0.0   \n",
       "3                          0.0                            0.0   \n",
       "4                          0.0                            0.0   \n",
       "\n",
       "   M5_V_REVENUE_TO_INTERNATIONAL  M5_GPRS_SESSION  M5_GPRS_REVENUE  \\\n",
       "0                            0.0            209.0              0.0   \n",
       "1                            0.0              0.0              0.0   \n",
       "2                            0.0             95.0              0.0   \n",
       "3                            0.0            128.0              2.0   \n",
       "4                            0.0            579.0              0.0   \n",
       "\n",
       "   M5_RECHARGES_NUMBER  M5_RECHARGES_VALUE  M5_GPRS_VOLUME  M5_OUT_DAYS  \\\n",
       "0                  1.0               10.71     2021.428553         25.0   \n",
       "1                  1.0               10.71        0.000000         29.0   \n",
       "2                  1.0                8.93     2708.172259         16.0   \n",
       "3                  0.0                0.00     3062.436725         30.0   \n",
       "4                  1.0               10.71    10979.259892         25.0   \n",
       "\n",
       "   M5_INC_DAYS  M5_BUNDLE_REVENUE  M6_TTL_OUT_CALLS  M6_TTL_OUT_MINUTES  \\\n",
       "0         14.0               10.0             148.0          213.583333   \n",
       "1         29.0               10.0             137.0          334.000000   \n",
       "2         30.0                8.5              21.0            7.616667   \n",
       "3         29.0                0.9               6.0            1.400000   \n",
       "4         17.0               14.5              36.0           66.266667   \n",
       "\n",
       "   M6_TTL_OUT_REVENUE  M6_V_CALLS_TO_FIXED_LINES  M6_V_MINUTES_TO_FIXED_LINES  \\\n",
       "0                 0.0                       28.0                   119.383333   \n",
       "1                 0.0                       21.0                    33.483333   \n",
       "2                 0.0                        1.0                     0.200000   \n",
       "3                 0.0                        0.0                     0.000000   \n",
       "4                 0.0                        0.0                     0.000000   \n",
       "\n",
       "   M6_V_REVENUE_TO_FIXED_LINES  M6_V_CALLS_TO_COMPETITION  \\\n",
       "0                          0.0                       16.0   \n",
       "1                          0.0                       91.0   \n",
       "2                          0.0                        5.0   \n",
       "3                          0.0                        2.0   \n",
       "4                          0.0                       29.0   \n",
       "\n",
       "   M6_V_MINUTES_TO_COMPETITION  M6_V_REVENUE_TO_COMPETITION  \\\n",
       "0                    40.666667                          0.0   \n",
       "1                   254.350000                          0.0   \n",
       "2                     7.416667                          0.0   \n",
       "3                     0.916667                          0.0   \n",
       "4                    66.200000                          0.0   \n",
       "\n",
       "   M6_V_CALLS_TO_INTERNATIONAL  M6_V_MINUTES_TO_INTERNATIONAL  \\\n",
       "0                          0.0                            0.0   \n",
       "1                          0.0                            0.0   \n",
       "2                          0.0                            0.0   \n",
       "3                          0.0                            0.0   \n",
       "4                          0.0                            0.0   \n",
       "\n",
       "   M6_V_REVENUE_TO_INTERNATIONAL  M6_GPRS_SESSION  M6_GPRS_REVENUE  \\\n",
       "0                            0.0            144.0              0.0   \n",
       "1                            0.0              0.0              0.0   \n",
       "2                            0.0             93.0              0.0   \n",
       "3                            0.0             29.0              0.0   \n",
       "4                            0.0            505.0              0.0   \n",
       "\n",
       "   M6_GPRS_VOLUME  M6_RECHARGES_NUMBER  M6_RECHARGES_VALUE  M6_OUT_DAYS  \\\n",
       "0     2231.815379                  1.0               10.71         30.0   \n",
       "1        0.000000                  1.0               10.71         31.0   \n",
       "2     1291.706381                  1.0                8.93          9.0   \n",
       "3      571.565807                  1.0               13.39          3.0   \n",
       "4    14519.130962                  2.0               24.10         16.0   \n",
       "\n",
       "   M6_INC_DAYS  M6_BUNDLE_REVENUE TARIFF_PLAN CONNECTION_DAY SMARTPHONE_FLAG  \\\n",
       "0         17.0               10.0          CU     2010-03-24               Y   \n",
       "1         28.0               12.0          CU     2017-04-04               N   \n",
       "2         30.0                8.5          CU     2012-10-16               Y   \n",
       "3         30.0               10.0          CU     2017-12-19               N   \n",
       "4         18.0               13.0          CU     2015-05-01               Y   \n",
       "\n",
       "     INSERTED  M1_MINUTES_PER_CALL  M2_MINUTES_PER_CALL  M3_MINUTES_PER_CALL  \\\n",
       "0  2022-03-31             0.513445             0.353968             0.378500   \n",
       "1  2022-03-31             3.152564             3.442222             3.711625   \n",
       "2  2022-03-31             0.736905             0.311765             0.139153   \n",
       "3  2022-03-31             0.070833             0.433333             0.084463   \n",
       "4  2022-03-31             0.526786             0.636404             1.733333   \n",
       "\n",
       "   M4_MINUTES_PER_CALL  M5_MINUTES_PER_CALL  M6_MINUTES_PER_CALL  \\\n",
       "0             0.524214             0.200280             1.443131   \n",
       "1             3.281317             3.736087             2.437956   \n",
       "2             0.359736             0.137302             0.362698   \n",
       "3             0.790179             0.634801             0.233333   \n",
       "4             0.995578             1.117974             1.840741   \n",
       "\n",
       "   TENURE_MONTHS CUSTOMER_TENURE  M1_ARPU  M2_ARPU  M3_ARPU  M4_ARPU  M5_ARPU  \\\n",
       "0            144               A  11.9192  10.0000  10.6628  10.2944  10.4424   \n",
       "1             59               A  10.9944  11.9200  10.0000  10.9580  11.0320   \n",
       "2            113               A   0.0000  12.0000  10.2944   9.0888   8.5000   \n",
       "3             51               A   7.1000   0.0000  15.8432  12.0000   3.1944   \n",
       "4             82               A  12.1000  21.1019  13.4819  11.0000  20.4644   \n",
       "\n",
       "   M6_ARPU  M1_ROC_TTL_OUT_CALLS  M1_ROC_TTL_OUT_MINUTES  \\\n",
       "0     10.0              2.941176              -16.983696   \n",
       "1     12.0              5.691057                1.179259   \n",
       "2      8.5            -71.311475              -19.127254   \n",
       "3     10.0            -94.475138              -99.315895   \n",
       "4     13.0            -37.219731              -73.771561   \n",
       "\n",
       "   M1_ROC_TTL_OUT_REVENUE  M1_ROC_V_CALLS_TO_FIXED_LINES  \\\n",
       "0              585.624464                      50.000000   \n",
       "1              -27.416058                     -41.176471   \n",
       "2             -100.000000                      -9.090909   \n",
       "3             -100.000000                    -100.000000   \n",
       "4             -100.000000                    -100.000000   \n",
       "\n",
       "   M1_ROC_V_MINUTES_TO_FIXED_LINES  M1_ROC_V_REVENUE_TO_FIXED_LINES  \\\n",
       "0                        -7.202368                              0.0   \n",
       "1                       -31.160170                           -100.0   \n",
       "2                        35.623229                              0.0   \n",
       "3                      -100.000000                              0.0   \n",
       "4                      -100.000000                              0.0   \n",
       "\n",
       "   M1_ROC_V_CALLS_TO_COMPETITION  M1_ROC_V_MINUTES_TO_COMPETITION  \\\n",
       "0                      58.536585                        45.302822   \n",
       "1                      21.176471                        14.464204   \n",
       "2                     -35.483871                       -47.368421   \n",
       "3                    -100.000000                      -100.000000   \n",
       "4                     -40.625000                       -69.926160   \n",
       "\n",
       "   M1_ROC_V_REVENUE_TO_COMPETITION  M1_ROC_V_CALLS_TO_INTERNATIONAL  \\\n",
       "0                              0.0                              0.0   \n",
       "1                           -100.0                              0.0   \n",
       "2                              0.0                              0.0   \n",
       "3                              0.0                              0.0   \n",
       "4                           -100.0                              0.0   \n",
       "\n",
       "   M1_ROC_V_MINUTES_TO_INTERNATIONAL  M1_ROC_V_REVENUE_TO_INTERNATIONAL  \\\n",
       "0                                0.0                                0.0   \n",
       "1                                0.0                                0.0   \n",
       "2                                0.0                                0.0   \n",
       "3                                0.0                                0.0   \n",
       "4                                0.0                                0.0   \n",
       "\n",
       "   M1_ROC_GPRS_SESSION  M1_ROC_GPRS_REVENUE  M1_ROC_GPRS_VOLUME  \\\n",
       "0             2.144470                  0.0          -37.407272   \n",
       "1             0.000000                  0.0            0.000000   \n",
       "2           120.695971                  0.0          -17.176840   \n",
       "3            85.279188               -100.0           64.690414   \n",
       "4            52.760482                  0.0           42.155020   \n",
       "\n",
       "   M1_ROC_RECHARGES_NUMBER  M1_ROC_RECHARGES_VALUE  M1_ROC_OUT_DAYS  \\\n",
       "0                      0.0               -3.757939       -14.062500   \n",
       "1                      0.0                1.112141         2.739726   \n",
       "2                   -100.0             -100.000000       -25.000000   \n",
       "3                   -100.0             -100.000000       -72.602740   \n",
       "4                    -37.5              -36.439888       -29.292929   \n",
       "\n",
       "   M1_ROC_INC_DAYS  M1_ROC_BUNDLE_REVENUE  M1_ROC_MINUTES_PER_CALL  \\\n",
       "0        -1.408451               0.000000               -11.477769   \n",
       "1        -8.088235               1.916021                -5.095889   \n",
       "2        -2.777778            -100.000000               181.120988   \n",
       "3        -2.343750              14.886731               -83.724776   \n",
       "4       -30.851064              -6.201550               -58.350471   \n",
       "\n",
       "   M1_ROC_ARPU  M13_AVG_TTL_OUT_CALLS  M46_AVG_TTL_OUT_CALLS  \\\n",
       "0    15.946428             108.000000             124.333333   \n",
       "1    -1.677696             123.000000             125.333333   \n",
       "2  -100.000000              31.333333              54.666667   \n",
       "3   -13.493967              29.666667              92.333333   \n",
       "4   -23.464418              38.333333              45.333333   \n",
       "\n",
       "   M16_AVG_TTL_OUT_CALLS  M13_AVG_TTL_OUT_MINUTES  M46_AVG_TTL_OUT_MINUTES  \\\n",
       "0             116.166667                45.372222                97.661111   \n",
       "1             124.166667               421.527778               390.177778   \n",
       "2              43.000000                 8.127778                16.572222   \n",
       "3              61.000000                 5.511111                63.611111   \n",
       "4              41.833333                41.288889                57.355556   \n",
       "\n",
       "   M16_AVG_TTL_OUT_MINUTES  M13_AVG_TTL_OUT_REVENUE  M46_AVG_TTL_OUT_REVENUE  \\\n",
       "0                71.516667                 0.860667                 0.245600   \n",
       "1               405.852778                 1.951467                 0.663333   \n",
       "2                12.350000                 0.098133                 0.196267   \n",
       "3                34.561111                 1.947733                 0.098133   \n",
       "4                49.322222                 2.861267                 1.988133   \n",
       "\n",
       "   M16_AVG_TTL_OUT_REVENUE  M13_AVG_V_CALLS_TO_FIXED_LINES  \\\n",
       "0                 0.553133                        8.000000   \n",
       "1                 1.307400                       18.333333   \n",
       "2                 0.147200                        4.000000   \n",
       "3                 1.022933                        0.000000   \n",
       "4                 2.424700                        0.000000   \n",
       "\n",
       "   M46_AVG_V_CALLS_TO_FIXED_LINES  M16_AVG_V_CALLS_TO_FIXED_LINES  \\\n",
       "0                       13.666667                       10.833333   \n",
       "1                       13.333333                       15.833333   \n",
       "2                        4.666667                        4.333333   \n",
       "3                        1.666667                        0.833333   \n",
       "4                        2.000000                        1.000000   \n",
       "\n",
       "   M13_AVG_V_MINUTES_TO_FIXED_LINES  M46_AVG_V_MINUTES_TO_FIXED_LINES  \\\n",
       "0                         14.344444                         45.738889   \n",
       "1                         82.411111                         39.838889   \n",
       "2                          4.972222                          5.000000   \n",
       "3                          0.000000                          1.800000   \n",
       "4                          0.000000                          6.505556   \n",
       "\n",
       "   M16_AVG_V_MINUTES_TO_FIXED_LINES  M13_AVG_V_REVENUE_TO_FIXED_LINES  \\\n",
       "0                         30.041667                               0.0   \n",
       "1                         61.125000                               0.0   \n",
       "2                          4.986111                               0.0   \n",
       "3                          0.900000                               0.0   \n",
       "4                          3.252778                               0.0   \n",
       "\n",
       "   M46_AVG_V_REVENUE_TO_FIXED_LINES  M16_AVG_V_REVENUE_TO_FIXED_LINES  \\\n",
       "0                              0.00                             0.000   \n",
       "1                              0.27                             0.135   \n",
       "2                              0.00                             0.000   \n",
       "3                              0.00                             0.000   \n",
       "4                              0.00                             0.000   \n",
       "\n",
       "   M13_AVG_V_CALLS_TO_COMPETITION  M46_AVG_V_CALLS_TO_COMPETITION  \\\n",
       "0                        8.666667                        9.333333   \n",
       "1                       89.000000                       87.000000   \n",
       "2                        3.666667                        8.000000   \n",
       "3                        1.000000                       10.666667   \n",
       "4                       26.666667                       33.000000   \n",
       "\n",
       "   M16_AVG_V_CALLS_TO_COMPETITION  M13_AVG_V_MINUTES_TO_COMPETITION  \\\n",
       "0                        9.000000                         17.950000   \n",
       "1                       88.000000                        291.494444   \n",
       "2                        5.833333                          3.155556   \n",
       "3                        5.833333                          0.522222   \n",
       "4                       29.833333                         34.494444   \n",
       "\n",
       "   M46_AVG_V_MINUTES_TO_COMPETITION  M16_AVG_V_MINUTES_TO_COMPETITION  \\\n",
       "0                         23.722222                         20.836111   \n",
       "1                        289.372222                        290.433333   \n",
       "2                         10.611111                          6.883333   \n",
       "3                          4.511111                          2.516667   \n",
       "4                         47.661111                         41.077778   \n",
       "\n",
       "   M13_AVG_V_REVENUE_TO_COMPETITION  M46_AVG_V_REVENUE_TO_COMPETITION  \\\n",
       "0                              0.00                              0.00   \n",
       "1                              1.62                              0.00   \n",
       "2                              0.00                              0.00   \n",
       "3                              0.00                              0.00   \n",
       "4                              2.70                              1.89   \n",
       "\n",
       "   M16_AVG_V_REVENUE_TO_COMPETITION  M13_AVG_V_CALLS_TO_INTERNATIONAL  \\\n",
       "0                             0.000                               0.0   \n",
       "1                             0.810                               0.0   \n",
       "2                             0.000                               0.0   \n",
       "3                             0.000                               0.0   \n",
       "4                             2.295                               0.0   \n",
       "\n",
       "   M46_AVG_V_CALLS_TO_INTERNATIONAL  M16_AVG_V_CALLS_TO_INTERNATIONAL  \\\n",
       "0                               0.0                               0.0   \n",
       "1                               0.0                               0.0   \n",
       "2                               0.0                               0.0   \n",
       "3                               0.0                               0.0   \n",
       "4                               0.0                               0.0   \n",
       "\n",
       "   M13_AVG_V_MINUTES_TO_INTERNATIONAL  M46_AVG_V_MINUTES_TO_INTERNATIONAL  \\\n",
       "0                                 0.0                                 0.0   \n",
       "1                                 0.0                                 0.0   \n",
       "2                                 0.0                                 0.0   \n",
       "3                                 0.0                                 0.0   \n",
       "4                                 0.0                                 0.0   \n",
       "\n",
       "   M16_AVG_V_MINUTES_TO_INTERNATIONAL  M13_AVG_V_REVENUE_TO_INTERNATIONAL  \\\n",
       "0                                 0.0                                 0.0   \n",
       "1                                 0.0                                 0.0   \n",
       "2                                 0.0                                 0.0   \n",
       "3                                 0.0                                 0.0   \n",
       "4                                 0.0                                 0.0   \n",
       "\n",
       "   M46_AVG_V_REVENUE_TO_INTERNATIONAL  M16_AVG_V_REVENUE_TO_INTERNATIONAL  \\\n",
       "0                                 0.0                                 0.0   \n",
       "1                                 0.0                                 0.0   \n",
       "2                                 0.0                                 0.0   \n",
       "3                                 0.0                                 0.0   \n",
       "4                                 0.0                                 0.0   \n",
       "\n",
       "   M13_AVG_GPRS_SESSION  M46_AVG_GPRS_SESSION  M16_AVG_GPRS_SESSION  \\\n",
       "0            181.666667            174.000000            177.833333   \n",
       "1              0.000000              0.000000              0.000000   \n",
       "2            160.333333            102.000000            131.166667   \n",
       "3             87.666667             92.333333             90.000000   \n",
       "4            563.000000            485.333333            524.166667   \n",
       "\n",
       "   M13_AVG_GPRS_REVENUE  M46_AVG_GPRS_REVENUE  M16_AVG_GPRS_REVENUE  \\\n",
       "0                   0.0              0.000000              0.000000   \n",
       "1                   0.0              0.000000              0.000000   \n",
       "2                   0.0              0.000000              0.000000   \n",
       "3                   0.0              1.333333              0.666667   \n",
       "4                   0.0              0.000000              0.000000   \n",
       "\n",
       "   M13_AVG_GPRS_VOLUME  M46_AVG_GPRS_VOLUME  M16_AVG_GPRS_VOLUME  \\\n",
       "0          1768.213861          2262.910323          2015.562092   \n",
       "1             0.000000             0.000000             0.000000   \n",
       "2          2285.672933          2269.948579          2277.810756   \n",
       "3          1721.428688          2918.509971          2319.969330   \n",
       "4          7536.056346         10490.515512          9013.285929   \n",
       "\n",
       "   M13_AVG_RECHARGES_NUMBER  M46_AVG_RECHARGES_NUMBER  \\\n",
       "0                  1.000000                  1.000000   \n",
       "1                  1.000000                  1.000000   \n",
       "2                  0.666667                  1.000000   \n",
       "3                  0.666667                  0.666667   \n",
       "4                  1.666667                  1.333333   \n",
       "\n",
       "   M16_AVG_RECHARGES_NUMBER  M13_AVG_RECHARGES_VALUE  M46_AVG_RECHARGES_VALUE  \\\n",
       "0                  1.000000                11.820000                10.710000   \n",
       "1                  1.000000                10.910000                10.710000   \n",
       "2                  0.833333                 7.333333                 8.930000   \n",
       "3                  0.666667                 8.183333                 8.926667   \n",
       "4                  1.500000                24.246667                16.066667   \n",
       "\n",
       "   M16_AVG_RECHARGES_VALUE  M13_AVG_OUT_DAYS  M46_AVG_OUT_DAYS  \\\n",
       "0                11.265000         23.333333         26.666667   \n",
       "1                10.810000         29.000000         29.666667   \n",
       "2                 8.131667         13.333333         17.333333   \n",
       "3                 8.555000          8.000000         17.666667   \n",
       "4                20.156667         16.333333         21.333333   \n",
       "\n",
       "   M16_AVG_OUT_DAYS  M13_AVG_INC_DAYS  M46_AVG_INC_DAYS  M16_AVG_INC_DAYS  \\\n",
       "0         25.000000         13.000000         15.333333         14.166667   \n",
       "1         29.333333         26.000000         27.666667         26.833333   \n",
       "2         15.333333         27.000000         30.333333         28.666667   \n",
       "3         12.833333         22.000000         29.000000         25.500000   \n",
       "4         18.833333         17.666667         18.000000         17.833333   \n",
       "\n",
       "   M13_AVG_BUNDLE_REVENUE  M46_AVG_BUNDLE_REVENUE  M16_AVG_BUNDLE_REVENUE  \\\n",
       "0               10.000000               10.000000               10.000000   \n",
       "1                9.020000               10.666667                9.843333   \n",
       "2                7.333333                8.500000                7.916667   \n",
       "3                5.700000                6.966667                6.333333   \n",
       "4               12.700000               12.833333               12.766667   \n",
       "\n",
       "   M13_AVG_MINUTES_PER_CALL  M46_AVG_MINUTES_PER_CALL  \\\n",
       "0                  0.415305                  0.722542   \n",
       "1                  3.435470                  3.151787   \n",
       "2                  0.395941                  0.286579   \n",
       "3                  0.196210                  0.552771   \n",
       "4                  0.965508                  1.318098   \n",
       "\n",
       "   M16_AVG_MINUTES_PER_CALL  M13_AVG_ARPU  M46_AVG_ARPU  M16_AVG_ARPU  \\\n",
       "0                  0.568923     10.860667     10.245600     10.553133   \n",
       "1                  3.293629     10.971467     11.330000     11.150733   \n",
       "2                  0.341260      7.431467      8.696267      8.063867   \n",
       "3                  0.374490      7.647733      8.398133      8.022933   \n",
       "4                  1.141803     15.561267     14.821467     15.191367   \n",
       "\n",
       "  STUDENTS_FLAG POST_CODE GENDER   AGE VF_COMBO_FLG  ACTIVE_TOTAL_LINES  \\\n",
       "0             N     54646      F  42.0            N                 1.0   \n",
       "1             N     DUMMY      O  75.0            N                 1.0   \n",
       "2             Y     56532      O  28.0            N                 1.0   \n",
       "3             N     15772      O  50.0            N                 1.0   \n",
       "4             N     71304      O  27.0            N                 1.0   \n",
       "\n",
       "        Periferiaki_enotita           Name    Population   Households  \\\n",
       "0              Thessaloniki  Thessaloníkis   5014.000000   2276.00000   \n",
       "1                       NaN            NaN  16292.504886   6307.13544   \n",
       "2              Thessaloniki    Pávlou Melá  10748.000000   3905.00000   \n",
       "3  Kentrikos Tomeas Athinon       Zográfou  34936.000000  16160.00000   \n",
       "4    Voreios Tomeas Athinon      Irakleíou  11631.000000   4610.00000   \n",
       "\n",
       "   Average_Household_Size  Male_Population  Female_Population  \\\n",
       "0                2.200000      2184.000000        2830.000000   \n",
       "1                2.568086      7824.311161        8468.193724   \n",
       "2                2.750000      5230.000000        5518.000000   \n",
       "3                2.160000     15872.000000       19064.000000   \n",
       "4                2.520000      5410.000000        6221.000000   \n",
       "\n",
       "   Population_aged_0-14  Male_Population_aged_0-14  \\\n",
       "0             444.00000                 222.000000   \n",
       "1            2366.30671                1214.169451   \n",
       "2            1826.00000                 924.000000   \n",
       "3            3915.00000                1996.000000   \n",
       "4            2291.00000                1117.000000   \n",
       "\n",
       "   Female_Population_aged_0-14  Population_aged_15-29  \\\n",
       "0                   222.000000             859.000000   \n",
       "1                  1152.137259            2616.914247   \n",
       "2                   902.000000            1836.000000   \n",
       "3                  1919.000000            6484.000000   \n",
       "4                  1174.000000            1741.000000   \n",
       "\n",
       "   Male_Population_aged_15-29  Female_Population_aged_15-29  \\\n",
       "0                  393.000000                    466.000000   \n",
       "1                 1300.683474                   1316.230773   \n",
       "2                  905.000000                    931.000000   \n",
       "3                 3092.000000                   3392.000000   \n",
       "4                  806.000000                    935.000000   \n",
       "\n",
       "   Population_aged_30-44  Male_Population_aged_30-44  \\\n",
       "0             882.000000                  418.000000   \n",
       "1            3522.997262                 1737.951555   \n",
       "2            2475.000000                 1218.000000   \n",
       "3            7331.000000                 3614.000000   \n",
       "4            2900.000000                 1260.000000   \n",
       "\n",
       "   Female_Population_aged_30-44  Population_aged_45-59  \\\n",
       "0                    464.000000            1089.000000   \n",
       "1                   1785.045707            3493.382146   \n",
       "2                   1257.000000            2500.000000   \n",
       "3                   3717.000000            7245.000000   \n",
       "4                   1640.000000            2027.000000   \n",
       "\n",
       "   Male_Population_aged_45-59  Female_Population_aged_45-59  \\\n",
       "0                  433.000000                    656.000000   \n",
       "1                 1651.905996                   1841.476151   \n",
       "2                 1238.000000                   1262.000000   \n",
       "3                 3114.000000                   4131.000000   \n",
       "4                 1004.000000                   1023.000000   \n",
       "\n",
       "   Purchasing_Power:_million_Euro  Purchasing_Power:_per_mill_of_country  \\\n",
       "0                       67.170000                               0.630000   \n",
       "1                      174.416346                               1.624233   \n",
       "2                       99.080000                               0.920000   \n",
       "3                      428.670000                               3.990000   \n",
       "4                      121.950000                               1.140000   \n",
       "\n",
       "   Purchasing_Power:_Euro_per_capita  \\\n",
       "0                       13396.240000   \n",
       "1                       10987.233943   \n",
       "2                        9218.310000   \n",
       "3                       12270.080000   \n",
       "4                       10485.010000   \n",
       "\n",
       "   Purchasing_Power:_index_(country_eq.100)  \\\n",
       "0                                129.710000   \n",
       "1                                106.383997   \n",
       "2                                 89.260000   \n",
       "3                                118.810000   \n",
       "4                                101.520000   \n",
       "\n",
       "   Purchasing_Power:_million_Euro_percentage  \\\n",
       "0                                  62.106529   \n",
       "1                                 161.268332   \n",
       "2                                  91.611060   \n",
       "3                                 396.355603   \n",
       "4                                 112.757053   \n",
       "\n",
       "   Purchasing_Power:_per_mill_of_country_percentage  \\\n",
       "0                                         62.564631   \n",
       "1                                        161.300891   \n",
       "2                                         91.364223   \n",
       "3                                        396.242662   \n",
       "4                                        113.212189   \n",
       "\n",
       "   Purchasing_Power:_Euro_per_capita_percentage  \\\n",
       "0                                    130.058423   \n",
       "1                                    106.670403   \n",
       "2                                     89.496669   \n",
       "3                                    119.125013   \n",
       "4                                    101.794524   \n",
       "\n",
       "   Purchasing_Power:_index_(country_eq.100)_percentage  VOICE_BUCKET  \\\n",
       "0                                         130.059221             0.0   \n",
       "1                                         106.670418           600.0   \n",
       "2                                          89.500317             0.0   \n",
       "3                                         119.129875             0.0   \n",
       "4                                         101.793325             0.0   \n",
       "\n",
       "   DATA_BUCKET  SMS_BUCKET  BALANCE  HIGHER_BUNDLE  \n",
       "0          0.0         0.0     0.00            0.0  \n",
       "1       1000.0       596.0    11.42            0.0  \n",
       "2          0.0         0.0    12.16            0.0  \n",
       "3          0.0         0.0     0.00            0.0  \n",
       "4        113.0         0.0     8.64            0.0  "
      ]
     },
     "execution_count": 11,
     "metadata": {},
     "output_type": "execute_result"
    }
   ],
   "source": [
    "previous_dataset.head()"
   ]
  },
  {
   "cell_type": "code",
   "execution_count": 5,
   "metadata": {},
   "outputs": [],
   "source": [
    "out_dir = 'C:/Users/zagkoui/OneDrive - Vodafone Group/Documents/HIGHER_BUNDLES/models/'"
   ]
  },
  {
   "cell_type": "code",
   "execution_count": 6,
   "metadata": {},
   "outputs": [
    {
     "name": "stdout",
     "output_type": "stream",
     "text": [
      "<class 'pandas.core.frame.DataFrame'>\n",
      "Int64Index: 907206 entries, 0 to 907205\n",
      "Columns: 265 entries, MSISDN to HIGHER_BUNDLE\n",
      "dtypes: float64(244), int64(10), object(11)\n",
      "memory usage: 1.8+ GB\n"
     ]
    }
   ],
   "source": [
    "previous_dataset.info()"
   ]
  },
  {
   "cell_type": "code",
   "execution_count": 7,
   "metadata": {},
   "outputs": [
    {
     "data": {
      "text/plain": [
       "0.0    868096\n",
       "1.0     39110\n",
       "Name: HIGHER_BUNDLE, dtype: int64"
      ]
     },
     "execution_count": 7,
     "metadata": {},
     "output_type": "execute_result"
    }
   ],
   "source": [
    "previous_dataset[\"HIGHER_BUNDLE\"].value_counts()"
   ]
  },
  {
   "cell_type": "markdown",
   "metadata": {},
   "source": [
    "# FUNCTIONS"
   ]
  },
  {
   "cell_type": "code",
   "execution_count": 8,
   "metadata": {},
   "outputs": [],
   "source": [
    "def downsampling(dataset, n_majority):\n",
    "    dataset_major = dataset[(dataset['HIGHER_BUNDLE'] == 0)]\n",
    "    dataset_minor = dataset[(dataset['HIGHER_BUNDLE'] == 1)]\n",
    "    major = dataset_major.sample(n=n_majority, random_state=10) #downsampling\n",
    "    df_sampled = pd.concat([major, dataset_minor])\n",
    "    df_shuffled = df_sampled.sample(frac=1)\n",
    "    \n",
    "    return df_shuffled"
   ]
  },
  {
   "cell_type": "code",
   "execution_count": 9,
   "metadata": {},
   "outputs": [],
   "source": [
    "def split_x_y(df):\n",
    "    X = df.drop([\"MSISDN\",\"HIGHER_BUNDLE\", \"INSERTED\", \"CONNECTION_DAY\", \"Periferiaki_enotita\", \"Name\", \"POST_CODE\"], axis=1)\n",
    "    y = df[\"HIGHER_BUNDLE\"].values\n",
    "    \n",
    "    return X,y"
   ]
  },
  {
   "cell_type": "code",
   "execution_count": 10,
   "metadata": {},
   "outputs": [],
   "source": [
    "def encoding_data(X, y):\n",
    "    le = LabelEncoder()\n",
    "    objects = X.select_dtypes(include=['object'])\n",
    "    object_names = list(objects.columns.values)\n",
    "    \n",
    "    # Encoding all the categorical columns\n",
    "    for object_name in object_names:\n",
    "        if (X[object_name].nunique() > 2):\n",
    "            enc_pc = pd.get_dummies(X[object_name], drop_first = True)\n",
    "            X = X.drop(object_name, axis = 1)\n",
    "            X = pd.concat([X,enc_pc], axis = 1)\n",
    "        elif (X[object_name].nunique() <= 2):\n",
    "            le.fit(X[object_name].astype(str))\n",
    "            X[object_name] = le.transform(X[object_name].astype(str))\n",
    "\n",
    "\n",
    "    y = le.fit_transform(y)\n",
    "    \n",
    "    return X,y"
   ]
  },
  {
   "cell_type": "code",
   "execution_count": 1,
   "metadata": {},
   "outputs": [],
   "source": [
    "def estimate_proportion(y):\n",
    "    count_train_0= (y == 0).sum()\n",
    "    count_train_1= (y == 1).sum()\n",
    "    \n",
    "    proportion = float(float(count_train_0) / float(count_train_1))\n",
    "    \n",
    "    return proportion"
   ]
  },
  {
   "cell_type": "code",
   "execution_count": 12,
   "metadata": {},
   "outputs": [],
   "source": [
    "def split_train_test(X,y):\n",
    "    X_train, X_test, y_train, y_test = train_test_split(X, y, test_size = 0.25, random_state = 1)\n",
    "    \n",
    "    return X_train, X_test, y_train, y_test"
   ]
  },
  {
   "cell_type": "code",
   "execution_count": 13,
   "metadata": {},
   "outputs": [],
   "source": [
    "def evaluation(X_test, y_test, classifier):\n",
    "    y_pred = classifier.predict(X_test)\n",
    "    cm = confusion_matrix(y_test, y_pred)\n",
    "    accuracy = accuracy_score(y_test, y_pred)\n",
    "    \n",
    "    target_names = ['No higher bundle', 'Higher Bundle']\n",
    "    evaluation_report = classification_report(y_test, y_pred, target_names=target_names)\n",
    "    \n",
    "    return cm, accuracy, evaluation_report"
   ]
  },
  {
   "cell_type": "code",
   "execution_count": null,
   "metadata": {},
   "outputs": [],
   "source": [
    "def feature_importance(X_test, classifier):\n",
    "    explainer = shap.TreeExplainer(classifier)\n",
    "    shap_values = explainer.shap_values(X_test)\n",
    "    shap.summary_plot(shap_values, X_test, feature_names, plot_type=\"bar\")\n",
    "    \n",
    "    shap.summary_plot(shap_values, X_test, feature_names)"
   ]
  },
  {
   "cell_type": "markdown",
   "metadata": {},
   "source": [
    "# PREPARE DATASET"
   ]
  },
  {
   "cell_type": "code",
   "execution_count": 14,
   "metadata": {},
   "outputs": [],
   "source": [
    "# Downsampling\n",
    "previous_sampled_dataset = downsampling(previous_dataset, n_majority= 100000)  # change this number\n",
    "# Define X and y\n",
    "X_previous, y_previous = split_x_y(previous_sampled_dataset)\n",
    "# Encoding\n",
    "X_previous, y_previous = encoding_data(X_previous,y_previous)\n",
    "# Save feature name\n",
    "feature_names= np.array(X_previous.columns)"
   ]
  },
  {
   "cell_type": "code",
   "execution_count": 15,
   "metadata": {},
   "outputs": [
    {
     "name": "stdout",
     "output_type": "stream",
     "text": [
      "2.0\n"
     ]
    }
   ],
   "source": [
    "previous_proportion = estimate_proportion(y_previous)\n",
    "print(previous_proportion)"
   ]
  },
  {
   "cell_type": "code",
   "execution_count": 16,
   "metadata": {},
   "outputs": [],
   "source": [
    "X_previous_new = X_previous.rename(columns = lambda x:re.sub('[^A-Za-z0-9_]+', '', x))"
   ]
  },
  {
   "cell_type": "markdown",
   "metadata": {},
   "source": [
    "# TRAINING"
   ]
  },
  {
   "cell_type": "code",
   "execution_count": 17,
   "metadata": {},
   "outputs": [],
   "source": [
    "lgbm = lgb.LGBMClassifier(boosting_type = 'gbdt',\n",
    "                                    importance_type = 'gain',\n",
    "                                    scale_pos_weight= previous_proportion,\n",
    "                                    n_estimators = 1000,\n",
    "                                    learning_rate=0.01, metric='auc', silent=True, n_jobs=-1, random_state=10) "
   ]
  },
  {
   "cell_type": "code",
   "execution_count": 23,
   "metadata": {},
   "outputs": [],
   "source": [
    "# lgbm = lgb.LGBMClassifier(boosting_type = 'gbdt',\n",
    "#                                     importance_type = 'gain',\n",
    "#                                     scale_pos_weight= 12,\n",
    "#                                     n_estimators = 500,\n",
    "#                                     learning_rate=0.1, metric='auc', silent=True, n_jobs=-1, random_state=10) "
   ]
  },
  {
   "cell_type": "code",
   "execution_count": 18,
   "metadata": {},
   "outputs": [
    {
     "data": {
      "text/plain": [
       "LGBMClassifier(boosting_type='gbdt', class_weight=None, colsample_bytree=1.0,\n",
       "        importance_type='gain', learning_rate=0.01, max_depth=-1,\n",
       "        metric='auc', min_child_samples=20, min_child_weight=0.001,\n",
       "        min_split_gain=0.0, n_estimators=1000, n_jobs=-1, num_leaves=31,\n",
       "        objective=None, random_state=10, reg_alpha=0.0, reg_lambda=0.0,\n",
       "        scale_pos_weight=2.0, silent=True, subsample=1.0,\n",
       "        subsample_for_bin=200000, subsample_freq=0)"
      ]
     },
     "execution_count": 18,
     "metadata": {},
     "output_type": "execute_result"
    }
   ],
   "source": [
    "lgbm.fit(X_previous_new, y_previous)"
   ]
  },
  {
   "cell_type": "code",
   "execution_count": 25,
   "metadata": {},
   "outputs": [
    {
     "data": {
      "text/plain": [
       "['C:/Users/zagkoui/OneDrive - Vodafone Group/Documents/HIGHER_BUNDLES/models/model.pkl']"
      ]
     },
     "execution_count": 25,
     "metadata": {},
     "output_type": "execute_result"
    }
   ],
   "source": [
    "#joblib.dump(lgbm, os.path.join(out_dir, 'model.pkl'))"
   ]
  },
  {
   "cell_type": "markdown",
   "metadata": {},
   "source": [
    "# EVALUATION"
   ]
  },
  {
   "cell_type": "code",
   "execution_count": 19,
   "metadata": {},
   "outputs": [],
   "source": [
    "next_dataset = pd.read_csv('C:/Users/zagkoui/OneDrive - Vodafone Group/Documents/HIGHER_BUNDLES/final_data/test/final_customer_db.csv', index_col=0)"
   ]
  },
  {
   "cell_type": "code",
   "execution_count": 20,
   "metadata": {},
   "outputs": [],
   "source": [
    "# Define X and y\n",
    "X_next, y_next = split_x_y(next_dataset)\n",
    "# Encoding\n",
    "X_next, y_next = encoding_data(X_next,y_next)\n",
    "# Save feature name\n",
    "feature_names = np.array(X_next.columns)"
   ]
  },
  {
   "cell_type": "code",
   "execution_count": 21,
   "metadata": {},
   "outputs": [
    {
     "name": "stderr",
     "output_type": "stream",
     "text": [
      "C:\\Users\\zagkoui\\AppData\\Local\\conda\\conda\\envs\\irida\\lib\\site-packages\\sklearn\\preprocessing\\label.py:151: DeprecationWarning: The truth value of an empty array is ambiguous. Returning False, but in future this will result in an error. Use `array.size > 0` to check that an array is not empty.\n",
      "  if diff:\n"
     ]
    },
    {
     "name": "stdout",
     "output_type": "stream",
     "text": [
      "[[673284 202319]\n",
      " [  8651  23578]]\n",
      "0.7676111879731051\n",
      "                  precision    recall  f1-score   support\n",
      "\n",
      "No higher bundle       0.99      0.77      0.86    875603\n",
      "   Higher Bundle       0.10      0.73      0.18     32229\n",
      "\n",
      "     avg / total       0.96      0.77      0.84    907832\n",
      "\n"
     ]
    }
   ],
   "source": [
    "cm, acc, class_report = evaluation(X_next, y_next, lgbm)\n",
    "print(cm)\n",
    "print(acc)\n",
    "print(class_report)"
   ]
  },
  {
   "cell_type": "markdown",
   "metadata": {},
   "source": [
    "# Feature importance"
   ]
  },
  {
   "cell_type": "code",
   "execution_count": null,
   "metadata": {},
   "outputs": [],
   "source": [
    "feature_importance(X_next, loaded_model)"
   ]
  },
  {
   "cell_type": "code",
   "execution_count": null,
   "metadata": {},
   "outputs": [],
   "source": []
  },
  {
   "cell_type": "code",
   "execution_count": null,
   "metadata": {},
   "outputs": [],
   "source": []
  },
  {
   "cell_type": "code",
   "execution_count": null,
   "metadata": {},
   "outputs": [],
   "source": [
    "pred_y_propab = loaded_model.predict_proba(X_next)\n",
    "pred_y_propab[:,1]\n",
    "condition = pred_y_propab[:,1] >= 0.5\n",
    "len(pred_y_propab[:,1][condition])"
   ]
  },
  {
   "cell_type": "markdown",
   "metadata": {},
   "source": [
    "# TUNING"
   ]
  },
  {
   "cell_type": "code",
   "execution_count": 23,
   "metadata": {},
   "outputs": [
    {
     "name": "stdout",
     "output_type": "stream",
     "text": [
      "('gbdt', 2, 100, 0.01)\n"
     ]
    },
    {
     "data": {
      "text/plain": [
       "LGBMClassifier(boosting_type='gbdt', class_weight=None, colsample_bytree=1.0,\n",
       "        importance_type='gain', learning_rate=0.01, max_depth=-1,\n",
       "        metric='auc', min_child_samples=20, min_child_weight=0.001,\n",
       "        min_split_gain=0.0, n_estimators=100, n_jobs=-1, num_leaves=31,\n",
       "        objective=None, random_state=10, reg_alpha=0.0, reg_lambda=0.0,\n",
       "        scale_pos_weight=2, silent=True, subsample=1.0,\n",
       "        subsample_for_bin=200000, subsample_freq=0)"
      ]
     },
     "execution_count": 23,
     "metadata": {},
     "output_type": "execute_result"
    },
    {
     "name": "stderr",
     "output_type": "stream",
     "text": [
      "C:\\Users\\zagkoui\\AppData\\Local\\conda\\conda\\envs\\irida\\lib\\site-packages\\sklearn\\preprocessing\\label.py:151: DeprecationWarning: The truth value of an empty array is ambiguous. Returning False, but in future this will result in an error. Use `array.size > 0` to check that an array is not empty.\n",
      "  if diff:\n"
     ]
    },
    {
     "name": "stdout",
     "output_type": "stream",
     "text": [
      "[[816749  58854]\n",
      " [ 23284   8945]]\n",
      "0.9095229073220595\n",
      "                  precision    recall  f1-score   support\n",
      "\n",
      "No higher bundle       0.97      0.93      0.95    875603\n",
      "   Higher Bundle       0.13      0.28      0.18     32229\n",
      "\n",
      "     avg / total       0.94      0.91      0.92    907832\n",
      "\n"
     ]
    },
    {
     "data": {
      "text/plain": [
       "array([0.10791508, 0.43173956, 0.14413622, ..., 0.26971628, 0.43461874,\n",
       "       0.24286671])"
      ]
     },
     "execution_count": 23,
     "metadata": {},
     "output_type": "execute_result"
    },
    {
     "data": {
      "text/plain": [
       "67799"
      ]
     },
     "execution_count": 23,
     "metadata": {},
     "output_type": "execute_result"
    },
    {
     "name": "stdout",
     "output_type": "stream",
     "text": [
      "('gbdt', 2, 100, 0.1)\n"
     ]
    },
    {
     "data": {
      "text/plain": [
       "LGBMClassifier(boosting_type='gbdt', class_weight=None, colsample_bytree=1.0,\n",
       "        importance_type='gain', learning_rate=0.1, max_depth=-1,\n",
       "        metric='auc', min_child_samples=20, min_child_weight=0.001,\n",
       "        min_split_gain=0.0, n_estimators=100, n_jobs=-1, num_leaves=31,\n",
       "        objective=None, random_state=10, reg_alpha=0.0, reg_lambda=0.0,\n",
       "        scale_pos_weight=2, silent=True, subsample=1.0,\n",
       "        subsample_for_bin=200000, subsample_freq=0)"
      ]
     },
     "execution_count": 23,
     "metadata": {},
     "output_type": "execute_result"
    },
    {
     "name": "stderr",
     "output_type": "stream",
     "text": [
      "C:\\Users\\zagkoui\\AppData\\Local\\conda\\conda\\envs\\irida\\lib\\site-packages\\sklearn\\preprocessing\\label.py:151: DeprecationWarning: The truth value of an empty array is ambiguous. Returning False, but in future this will result in an error. Use `array.size > 0` to check that an array is not empty.\n",
      "  if diff:\n"
     ]
    },
    {
     "name": "stdout",
     "output_type": "stream",
     "text": [
      "[[671971 203632]\n",
      " [  8666  23563]]\n",
      "0.7661483622520466\n",
      "                  precision    recall  f1-score   support\n",
      "\n",
      "No higher bundle       0.99      0.77      0.86    875603\n",
      "   Higher Bundle       0.10      0.73      0.18     32229\n",
      "\n",
      "     avg / total       0.96      0.77      0.84    907832\n",
      "\n"
     ]
    },
    {
     "data": {
      "text/plain": [
       "array([0.00174663, 0.45312494, 0.00623511, ..., 0.04478675, 0.45941858,\n",
       "       0.1925389 ])"
      ]
     },
     "execution_count": 23,
     "metadata": {},
     "output_type": "execute_result"
    },
    {
     "data": {
      "text/plain": [
       "227195"
      ]
     },
     "execution_count": 23,
     "metadata": {},
     "output_type": "execute_result"
    },
    {
     "name": "stdout",
     "output_type": "stream",
     "text": [
      "('gbdt', 2, 500, 0.01)\n"
     ]
    },
    {
     "data": {
      "text/plain": [
       "LGBMClassifier(boosting_type='gbdt', class_weight=None, colsample_bytree=1.0,\n",
       "        importance_type='gain', learning_rate=0.01, max_depth=-1,\n",
       "        metric='auc', min_child_samples=20, min_child_weight=0.001,\n",
       "        min_split_gain=0.0, n_estimators=500, n_jobs=-1, num_leaves=31,\n",
       "        objective=None, random_state=10, reg_alpha=0.0, reg_lambda=0.0,\n",
       "        scale_pos_weight=2, silent=True, subsample=1.0,\n",
       "        subsample_for_bin=200000, subsample_freq=0)"
      ]
     },
     "execution_count": 23,
     "metadata": {},
     "output_type": "execute_result"
    },
    {
     "name": "stderr",
     "output_type": "stream",
     "text": [
      "C:\\Users\\zagkoui\\AppData\\Local\\conda\\conda\\envs\\irida\\lib\\site-packages\\sklearn\\preprocessing\\label.py:151: DeprecationWarning: The truth value of an empty array is ambiguous. Returning False, but in future this will result in an error. Use `array.size > 0` to check that an array is not empty.\n",
      "  if diff:\n"
     ]
    },
    {
     "name": "stdout",
     "output_type": "stream",
     "text": [
      "[[679232 196371]\n",
      " [  9393  22836]]\n",
      "0.7733457291657487\n",
      "                  precision    recall  f1-score   support\n",
      "\n",
      "No higher bundle       0.99      0.78      0.87    875603\n",
      "   Higher Bundle       0.10      0.71      0.18     32229\n",
      "\n",
      "     avg / total       0.96      0.77      0.84    907832\n",
      "\n"
     ]
    },
    {
     "data": {
      "text/plain": [
       "array([0.00444493, 0.49838442, 0.0178674 , ..., 0.13184081, 0.50571852,\n",
       "       0.21754727])"
      ]
     },
     "execution_count": 23,
     "metadata": {},
     "output_type": "execute_result"
    },
    {
     "data": {
      "text/plain": [
       "219207"
      ]
     },
     "execution_count": 23,
     "metadata": {},
     "output_type": "execute_result"
    },
    {
     "name": "stdout",
     "output_type": "stream",
     "text": [
      "('gbdt', 2, 500, 0.1)\n"
     ]
    },
    {
     "data": {
      "text/plain": [
       "LGBMClassifier(boosting_type='gbdt', class_weight=None, colsample_bytree=1.0,\n",
       "        importance_type='gain', learning_rate=0.1, max_depth=-1,\n",
       "        metric='auc', min_child_samples=20, min_child_weight=0.001,\n",
       "        min_split_gain=0.0, n_estimators=500, n_jobs=-1, num_leaves=31,\n",
       "        objective=None, random_state=10, reg_alpha=0.0, reg_lambda=0.0,\n",
       "        scale_pos_weight=2, silent=True, subsample=1.0,\n",
       "        subsample_for_bin=200000, subsample_freq=0)"
      ]
     },
     "execution_count": 23,
     "metadata": {},
     "output_type": "execute_result"
    },
    {
     "name": "stderr",
     "output_type": "stream",
     "text": [
      "C:\\Users\\zagkoui\\AppData\\Local\\conda\\conda\\envs\\irida\\lib\\site-packages\\sklearn\\preprocessing\\label.py:151: DeprecationWarning: The truth value of an empty array is ambiguous. Returning False, but in future this will result in an error. Use `array.size > 0` to check that an array is not empty.\n",
      "  if diff:\n"
     ]
    },
    {
     "name": "stdout",
     "output_type": "stream",
     "text": [
      "[[685659 189944]\n",
      " [  9800  22429]]\n",
      "0.7799769120277761\n",
      "                  precision    recall  f1-score   support\n",
      "\n",
      "No higher bundle       0.99      0.78      0.87    875603\n",
      "   Higher Bundle       0.11      0.70      0.18     32229\n",
      "\n",
      "     avg / total       0.95      0.78      0.85    907832\n",
      "\n"
     ]
    },
    {
     "data": {
      "text/plain": [
       "array([0.00060896, 0.37972961, 0.00174184, ..., 0.00763554, 0.30200842,\n",
       "       0.20868613])"
      ]
     },
     "execution_count": 23,
     "metadata": {},
     "output_type": "execute_result"
    },
    {
     "data": {
      "text/plain": [
       "212373"
      ]
     },
     "execution_count": 23,
     "metadata": {},
     "output_type": "execute_result"
    },
    {
     "name": "stdout",
     "output_type": "stream",
     "text": [
      "('gbdt', 2, 1000, 0.01)\n"
     ]
    },
    {
     "data": {
      "text/plain": [
       "LGBMClassifier(boosting_type='gbdt', class_weight=None, colsample_bytree=1.0,\n",
       "        importance_type='gain', learning_rate=0.01, max_depth=-1,\n",
       "        metric='auc', min_child_samples=20, min_child_weight=0.001,\n",
       "        min_split_gain=0.0, n_estimators=1000, n_jobs=-1, num_leaves=31,\n",
       "        objective=None, random_state=10, reg_alpha=0.0, reg_lambda=0.0,\n",
       "        scale_pos_weight=2, silent=True, subsample=1.0,\n",
       "        subsample_for_bin=200000, subsample_freq=0)"
      ]
     },
     "execution_count": 23,
     "metadata": {},
     "output_type": "execute_result"
    },
    {
     "name": "stderr",
     "output_type": "stream",
     "text": [
      "C:\\Users\\zagkoui\\AppData\\Local\\conda\\conda\\envs\\irida\\lib\\site-packages\\sklearn\\preprocessing\\label.py:151: DeprecationWarning: The truth value of an empty array is ambiguous. Returning False, but in future this will result in an error. Use `array.size > 0` to check that an array is not empty.\n",
      "  if diff:\n"
     ]
    },
    {
     "name": "stdout",
     "output_type": "stream",
     "text": [
      "[[673284 202319]\n",
      " [  8651  23578]]\n",
      "0.7676111879731051\n",
      "                  precision    recall  f1-score   support\n",
      "\n",
      "No higher bundle       0.99      0.77      0.86    875603\n",
      "   Higher Bundle       0.10      0.73      0.18     32229\n",
      "\n",
      "     avg / total       0.96      0.77      0.84    907832\n",
      "\n"
     ]
    },
    {
     "data": {
      "text/plain": [
       "array([0.00155534, 0.49404693, 0.00725958, ..., 0.07493424, 0.48386451,\n",
       "       0.20904546])"
      ]
     },
     "execution_count": 23,
     "metadata": {},
     "output_type": "execute_result"
    },
    {
     "data": {
      "text/plain": [
       "225897"
      ]
     },
     "execution_count": 23,
     "metadata": {},
     "output_type": "execute_result"
    },
    {
     "name": "stdout",
     "output_type": "stream",
     "text": [
      "('gbdt', 2, 1000, 0.1)\n"
     ]
    },
    {
     "data": {
      "text/plain": [
       "LGBMClassifier(boosting_type='gbdt', class_weight=None, colsample_bytree=1.0,\n",
       "        importance_type='gain', learning_rate=0.1, max_depth=-1,\n",
       "        metric='auc', min_child_samples=20, min_child_weight=0.001,\n",
       "        min_split_gain=0.0, n_estimators=1000, n_jobs=-1, num_leaves=31,\n",
       "        objective=None, random_state=10, reg_alpha=0.0, reg_lambda=0.0,\n",
       "        scale_pos_weight=2, silent=True, subsample=1.0,\n",
       "        subsample_for_bin=200000, subsample_freq=0)"
      ]
     },
     "execution_count": 23,
     "metadata": {},
     "output_type": "execute_result"
    },
    {
     "name": "stderr",
     "output_type": "stream",
     "text": [
      "C:\\Users\\zagkoui\\AppData\\Local\\conda\\conda\\envs\\irida\\lib\\site-packages\\sklearn\\preprocessing\\label.py:151: DeprecationWarning: The truth value of an empty array is ambiguous. Returning False, but in future this will result in an error. Use `array.size > 0` to check that an array is not empty.\n",
      "  if diff:\n"
     ]
    },
    {
     "name": "stdout",
     "output_type": "stream",
     "text": [
      "[[700677 174926]\n",
      " [ 11149  21080]]\n",
      "0.7950336626159906\n",
      "                  precision    recall  f1-score   support\n",
      "\n",
      "No higher bundle       0.98      0.80      0.88    875603\n",
      "   Higher Bundle       0.11      0.65      0.18     32229\n",
      "\n",
      "     avg / total       0.95      0.80      0.86    907832\n",
      "\n"
     ]
    },
    {
     "data": {
      "text/plain": [
       "array([2.73281189e-04, 3.43916969e-01, 8.03946002e-04, ...,\n",
       "       5.83854860e-03, 3.05433924e-01, 1.47237421e-01])"
      ]
     },
     "execution_count": 23,
     "metadata": {},
     "output_type": "execute_result"
    },
    {
     "data": {
      "text/plain": [
       "196006"
      ]
     },
     "execution_count": 23,
     "metadata": {},
     "output_type": "execute_result"
    },
    {
     "name": "stdout",
     "output_type": "stream",
     "text": [
      "('gbdt', 4, 100, 0.01)\n"
     ]
    },
    {
     "data": {
      "text/plain": [
       "LGBMClassifier(boosting_type='gbdt', class_weight=None, colsample_bytree=1.0,\n",
       "        importance_type='gain', learning_rate=0.01, max_depth=-1,\n",
       "        metric='auc', min_child_samples=20, min_child_weight=0.001,\n",
       "        min_split_gain=0.0, n_estimators=100, n_jobs=-1, num_leaves=31,\n",
       "        objective=None, random_state=10, reg_alpha=0.0, reg_lambda=0.0,\n",
       "        scale_pos_weight=4, silent=True, subsample=1.0,\n",
       "        subsample_for_bin=200000, subsample_freq=0)"
      ]
     },
     "execution_count": 23,
     "metadata": {},
     "output_type": "execute_result"
    },
    {
     "name": "stderr",
     "output_type": "stream",
     "text": [
      "C:\\Users\\zagkoui\\AppData\\Local\\conda\\conda\\envs\\irida\\lib\\site-packages\\sklearn\\preprocessing\\label.py:151: DeprecationWarning: The truth value of an empty array is ambiguous. Returning False, but in future this will result in an error. Use `array.size > 0` to check that an array is not empty.\n",
      "  if diff:\n"
     ]
    },
    {
     "name": "stdout",
     "output_type": "stream",
     "text": [
      "[[643247 232356]\n",
      " [  8850  23379]]\n",
      "0.734305466209607\n",
      "                  precision    recall  f1-score   support\n",
      "\n",
      "No higher bundle       0.99      0.73      0.84    875603\n",
      "   Higher Bundle       0.09      0.73      0.16     32229\n",
      "\n",
      "     avg / total       0.95      0.73      0.82    907832\n",
      "\n"
     ]
    },
    {
     "data": {
      "text/plain": [
       "array([0.1072472 , 0.56002161, 0.16462712, ..., 0.41771418, 0.44087901,\n",
       "       0.28711574])"
      ]
     },
     "execution_count": 23,
     "metadata": {},
     "output_type": "execute_result"
    },
    {
     "data": {
      "text/plain": [
       "255735"
      ]
     },
     "execution_count": 23,
     "metadata": {},
     "output_type": "execute_result"
    },
    {
     "name": "stdout",
     "output_type": "stream",
     "text": [
      "('gbdt', 4, 100, 0.1)\n"
     ]
    },
    {
     "data": {
      "text/plain": [
       "LGBMClassifier(boosting_type='gbdt', class_weight=None, colsample_bytree=1.0,\n",
       "        importance_type='gain', learning_rate=0.1, max_depth=-1,\n",
       "        metric='auc', min_child_samples=20, min_child_weight=0.001,\n",
       "        min_split_gain=0.0, n_estimators=100, n_jobs=-1, num_leaves=31,\n",
       "        objective=None, random_state=10, reg_alpha=0.0, reg_lambda=0.0,\n",
       "        scale_pos_weight=4, silent=True, subsample=1.0,\n",
       "        subsample_for_bin=200000, subsample_freq=0)"
      ]
     },
     "execution_count": 23,
     "metadata": {},
     "output_type": "execute_result"
    },
    {
     "name": "stderr",
     "output_type": "stream",
     "text": [
      "C:\\Users\\zagkoui\\AppData\\Local\\conda\\conda\\envs\\irida\\lib\\site-packages\\sklearn\\preprocessing\\label.py:151: DeprecationWarning: The truth value of an empty array is ambiguous. Returning False, but in future this will result in an error. Use `array.size > 0` to check that an array is not empty.\n",
      "  if diff:\n"
     ]
    },
    {
     "name": "stdout",
     "output_type": "stream",
     "text": [
      "[[561515 314088]\n",
      " [  3936  28293]]\n",
      "0.6496884886190396\n",
      "                  precision    recall  f1-score   support\n",
      "\n",
      "No higher bundle       0.99      0.64      0.78    875603\n",
      "   Higher Bundle       0.08      0.88      0.15     32229\n",
      "\n",
      "     avg / total       0.96      0.65      0.76    907832\n",
      "\n"
     ]
    },
    {
     "data": {
      "text/plain": [
       "array([0.0030379 , 0.69643947, 0.00678626, ..., 0.1093575 , 0.60654128,\n",
       "       0.30572008])"
      ]
     },
     "execution_count": 23,
     "metadata": {},
     "output_type": "execute_result"
    },
    {
     "data": {
      "text/plain": [
       "342381"
      ]
     },
     "execution_count": 23,
     "metadata": {},
     "output_type": "execute_result"
    },
    {
     "name": "stdout",
     "output_type": "stream",
     "text": [
      "('gbdt', 4, 500, 0.01)\n"
     ]
    },
    {
     "data": {
      "text/plain": [
       "LGBMClassifier(boosting_type='gbdt', class_weight=None, colsample_bytree=1.0,\n",
       "        importance_type='gain', learning_rate=0.01, max_depth=-1,\n",
       "        metric='auc', min_child_samples=20, min_child_weight=0.001,\n",
       "        min_split_gain=0.0, n_estimators=500, n_jobs=-1, num_leaves=31,\n",
       "        objective=None, random_state=10, reg_alpha=0.0, reg_lambda=0.0,\n",
       "        scale_pos_weight=4, silent=True, subsample=1.0,\n",
       "        subsample_for_bin=200000, subsample_freq=0)"
      ]
     },
     "execution_count": 23,
     "metadata": {},
     "output_type": "execute_result"
    },
    {
     "name": "stderr",
     "output_type": "stream",
     "text": [
      "C:\\Users\\zagkoui\\AppData\\Local\\conda\\conda\\envs\\irida\\lib\\site-packages\\sklearn\\preprocessing\\label.py:151: DeprecationWarning: The truth value of an empty array is ambiguous. Returning False, but in future this will result in an error. Use `array.size > 0` to check that an array is not empty.\n",
      "  if diff:\n"
     ]
    },
    {
     "name": "stdout",
     "output_type": "stream",
     "text": [
      "[[546025 329578]\n",
      " [  3710  28519]]\n",
      "0.6328748050300056\n",
      "                  precision    recall  f1-score   support\n",
      "\n",
      "No higher bundle       0.99      0.62      0.77    875603\n",
      "   Higher Bundle       0.08      0.88      0.15     32229\n",
      "\n",
      "     avg / total       0.96      0.63      0.74    907832\n",
      "\n"
     ]
    },
    {
     "data": {
      "text/plain": [
       "array([0.00655774, 0.68837601, 0.02177025, ..., 0.23183687, 0.60180747,\n",
       "       0.33326678])"
      ]
     },
     "execution_count": 23,
     "metadata": {},
     "output_type": "execute_result"
    },
    {
     "data": {
      "text/plain": [
       "358097"
      ]
     },
     "execution_count": 23,
     "metadata": {},
     "output_type": "execute_result"
    },
    {
     "name": "stdout",
     "output_type": "stream",
     "text": [
      "('gbdt', 4, 500, 0.1)\n"
     ]
    },
    {
     "data": {
      "text/plain": [
       "LGBMClassifier(boosting_type='gbdt', class_weight=None, colsample_bytree=1.0,\n",
       "        importance_type='gain', learning_rate=0.1, max_depth=-1,\n",
       "        metric='auc', min_child_samples=20, min_child_weight=0.001,\n",
       "        min_split_gain=0.0, n_estimators=500, n_jobs=-1, num_leaves=31,\n",
       "        objective=None, random_state=10, reg_alpha=0.0, reg_lambda=0.0,\n",
       "        scale_pos_weight=4, silent=True, subsample=1.0,\n",
       "        subsample_for_bin=200000, subsample_freq=0)"
      ]
     },
     "execution_count": 23,
     "metadata": {},
     "output_type": "execute_result"
    },
    {
     "name": "stderr",
     "output_type": "stream",
     "text": [
      "C:\\Users\\zagkoui\\AppData\\Local\\conda\\conda\\envs\\irida\\lib\\site-packages\\sklearn\\preprocessing\\label.py:151: DeprecationWarning: The truth value of an empty array is ambiguous. Returning False, but in future this will result in an error. Use `array.size > 0` to check that an array is not empty.\n",
      "  if diff:\n"
     ]
    },
    {
     "name": "stdout",
     "output_type": "stream",
     "text": [
      "[[599743 275860]\n",
      " [  5774  26455]]\n",
      "0.6897729976471417\n",
      "                  precision    recall  f1-score   support\n",
      "\n",
      "No higher bundle       0.99      0.68      0.81    875603\n",
      "   Higher Bundle       0.09      0.82      0.16     32229\n",
      "\n",
      "     avg / total       0.96      0.69      0.79    907832\n",
      "\n"
     ]
    },
    {
     "data": {
      "text/plain": [
       "array([5.75953898e-04, 7.84621722e-01, 1.59790054e-03, ...,\n",
       "       1.99409936e-02, 4.94586837e-01, 3.20088376e-01])"
      ]
     },
     "execution_count": 23,
     "metadata": {},
     "output_type": "execute_result"
    },
    {
     "data": {
      "text/plain": [
       "302315"
      ]
     },
     "execution_count": 23,
     "metadata": {},
     "output_type": "execute_result"
    },
    {
     "name": "stdout",
     "output_type": "stream",
     "text": [
      "('gbdt', 4, 1000, 0.01)\n"
     ]
    },
    {
     "data": {
      "text/plain": [
       "LGBMClassifier(boosting_type='gbdt', class_weight=None, colsample_bytree=1.0,\n",
       "        importance_type='gain', learning_rate=0.01, max_depth=-1,\n",
       "        metric='auc', min_child_samples=20, min_child_weight=0.001,\n",
       "        min_split_gain=0.0, n_estimators=1000, n_jobs=-1, num_leaves=31,\n",
       "        objective=None, random_state=10, reg_alpha=0.0, reg_lambda=0.0,\n",
       "        scale_pos_weight=4, silent=True, subsample=1.0,\n",
       "        subsample_for_bin=200000, subsample_freq=0)"
      ]
     },
     "execution_count": 23,
     "metadata": {},
     "output_type": "execute_result"
    },
    {
     "name": "stderr",
     "output_type": "stream",
     "text": [
      "C:\\Users\\zagkoui\\AppData\\Local\\conda\\conda\\envs\\irida\\lib\\site-packages\\sklearn\\preprocessing\\label.py:151: DeprecationWarning: The truth value of an empty array is ambiguous. Returning False, but in future this will result in an error. Use `array.size > 0` to check that an array is not empty.\n",
      "  if diff:\n"
     ]
    },
    {
     "name": "stdout",
     "output_type": "stream",
     "text": [
      "[[554011 321592]\n",
      " [  3669  28560]]\n",
      "0.6417167493545061\n",
      "                  precision    recall  f1-score   support\n",
      "\n",
      "No higher bundle       0.99      0.63      0.77    875603\n",
      "   Higher Bundle       0.08      0.89      0.15     32229\n",
      "\n",
      "     avg / total       0.96      0.64      0.75    907832\n",
      "\n"
     ]
    },
    {
     "data": {
      "text/plain": [
       "array([0.002853  , 0.65687402, 0.00990353, ..., 0.12412344, 0.5470062 ,\n",
       "       0.3205644 ])"
      ]
     },
     "execution_count": 23,
     "metadata": {},
     "output_type": "execute_result"
    },
    {
     "data": {
      "text/plain": [
       "350152"
      ]
     },
     "execution_count": 23,
     "metadata": {},
     "output_type": "execute_result"
    },
    {
     "name": "stdout",
     "output_type": "stream",
     "text": [
      "('gbdt', 4, 1000, 0.1)\n"
     ]
    },
    {
     "data": {
      "text/plain": [
       "LGBMClassifier(boosting_type='gbdt', class_weight=None, colsample_bytree=1.0,\n",
       "        importance_type='gain', learning_rate=0.1, max_depth=-1,\n",
       "        metric='auc', min_child_samples=20, min_child_weight=0.001,\n",
       "        min_split_gain=0.0, n_estimators=1000, n_jobs=-1, num_leaves=31,\n",
       "        objective=None, random_state=10, reg_alpha=0.0, reg_lambda=0.0,\n",
       "        scale_pos_weight=4, silent=True, subsample=1.0,\n",
       "        subsample_for_bin=200000, subsample_freq=0)"
      ]
     },
     "execution_count": 23,
     "metadata": {},
     "output_type": "execute_result"
    },
    {
     "name": "stderr",
     "output_type": "stream",
     "text": [
      "C:\\Users\\zagkoui\\AppData\\Local\\conda\\conda\\envs\\irida\\lib\\site-packages\\sklearn\\preprocessing\\label.py:151: DeprecationWarning: The truth value of an empty array is ambiguous. Returning False, but in future this will result in an error. Use `array.size > 0` to check that an array is not empty.\n",
      "  if diff:\n"
     ]
    },
    {
     "name": "stdout",
     "output_type": "stream",
     "text": [
      "[[645003 230600]\n",
      " [  8242  23987]]\n",
      "0.736909472237154\n",
      "                  precision    recall  f1-score   support\n",
      "\n",
      "No higher bundle       0.99      0.74      0.84    875603\n",
      "   Higher Bundle       0.09      0.74      0.17     32229\n",
      "\n",
      "     avg / total       0.96      0.74      0.82    907832\n",
      "\n"
     ]
    },
    {
     "data": {
      "text/plain": [
       "array([4.06383815e-04, 7.66512219e-01, 1.06790530e-03, ...,\n",
       "       1.62980816e-02, 4.96768490e-01, 1.99297135e-01])"
      ]
     },
     "execution_count": 23,
     "metadata": {},
     "output_type": "execute_result"
    },
    {
     "data": {
      "text/plain": [
       "254587"
      ]
     },
     "execution_count": 23,
     "metadata": {},
     "output_type": "execute_result"
    },
    {
     "name": "stdout",
     "output_type": "stream",
     "text": [
      "('gbdt', 8, 100, 0.01)\n"
     ]
    },
    {
     "data": {
      "text/plain": [
       "LGBMClassifier(boosting_type='gbdt', class_weight=None, colsample_bytree=1.0,\n",
       "        importance_type='gain', learning_rate=0.01, max_depth=-1,\n",
       "        metric='auc', min_child_samples=20, min_child_weight=0.001,\n",
       "        min_split_gain=0.0, n_estimators=100, n_jobs=-1, num_leaves=31,\n",
       "        objective=None, random_state=10, reg_alpha=0.0, reg_lambda=0.0,\n",
       "        scale_pos_weight=8, silent=True, subsample=1.0,\n",
       "        subsample_for_bin=200000, subsample_freq=0)"
      ]
     },
     "execution_count": 23,
     "metadata": {},
     "output_type": "execute_result"
    },
    {
     "name": "stderr",
     "output_type": "stream",
     "text": [
      "C:\\Users\\zagkoui\\AppData\\Local\\conda\\conda\\envs\\irida\\lib\\site-packages\\sklearn\\preprocessing\\label.py:151: DeprecationWarning: The truth value of an empty array is ambiguous. Returning False, but in future this will result in an error. Use `array.size > 0` to check that an array is not empty.\n",
      "  if diff:\n"
     ]
    },
    {
     "name": "stdout",
     "output_type": "stream",
     "text": [
      "[[483041 392562]\n",
      " [  2910  29319]]\n",
      "0.5643775500312833\n",
      "                  precision    recall  f1-score   support\n",
      "\n",
      "No higher bundle       0.99      0.55      0.71    875603\n",
      "   Higher Bundle       0.07      0.91      0.13     32229\n",
      "\n",
      "     avg / total       0.96      0.56      0.69    907832\n",
      "\n"
     ]
    },
    {
     "data": {
      "text/plain": [
       "array([0.10872291, 0.62794683, 0.1217807 , ..., 0.56578964, 0.54538089,\n",
       "       0.40866276])"
      ]
     },
     "execution_count": 23,
     "metadata": {},
     "output_type": "execute_result"
    },
    {
     "data": {
      "text/plain": [
       "421881"
      ]
     },
     "execution_count": 23,
     "metadata": {},
     "output_type": "execute_result"
    },
    {
     "name": "stdout",
     "output_type": "stream",
     "text": [
      "('gbdt', 8, 100, 0.1)\n"
     ]
    },
    {
     "data": {
      "text/plain": [
       "LGBMClassifier(boosting_type='gbdt', class_weight=None, colsample_bytree=1.0,\n",
       "        importance_type='gain', learning_rate=0.1, max_depth=-1,\n",
       "        metric='auc', min_child_samples=20, min_child_weight=0.001,\n",
       "        min_split_gain=0.0, n_estimators=100, n_jobs=-1, num_leaves=31,\n",
       "        objective=None, random_state=10, reg_alpha=0.0, reg_lambda=0.0,\n",
       "        scale_pos_weight=8, silent=True, subsample=1.0,\n",
       "        subsample_for_bin=200000, subsample_freq=0)"
      ]
     },
     "execution_count": 23,
     "metadata": {},
     "output_type": "execute_result"
    },
    {
     "name": "stderr",
     "output_type": "stream",
     "text": [
      "C:\\Users\\zagkoui\\AppData\\Local\\conda\\conda\\envs\\irida\\lib\\site-packages\\sklearn\\preprocessing\\label.py:151: DeprecationWarning: The truth value of an empty array is ambiguous. Returning False, but in future this will result in an error. Use `array.size > 0` to check that an array is not empty.\n",
      "  if diff:\n"
     ]
    },
    {
     "name": "stdout",
     "output_type": "stream",
     "text": [
      "[[453558 422045]\n",
      " [  1582  30647]]\n",
      "0.5333641026092933\n",
      "                  precision    recall  f1-score   support\n",
      "\n",
      "No higher bundle       1.00      0.52      0.68    875603\n",
      "   Higher Bundle       0.07      0.95      0.13     32229\n",
      "\n",
      "     avg / total       0.96      0.53      0.66    907832\n",
      "\n"
     ]
    },
    {
     "data": {
      "text/plain": [
       "array([0.0044267 , 0.73943169, 0.0042667 , ..., 0.27977729, 0.69441195,\n",
       "       0.48201063])"
      ]
     },
     "execution_count": 23,
     "metadata": {},
     "output_type": "execute_result"
    },
    {
     "data": {
      "text/plain": [
       "452692"
      ]
     },
     "execution_count": 23,
     "metadata": {},
     "output_type": "execute_result"
    },
    {
     "name": "stdout",
     "output_type": "stream",
     "text": [
      "('gbdt', 8, 500, 0.01)\n"
     ]
    },
    {
     "data": {
      "text/plain": [
       "LGBMClassifier(boosting_type='gbdt', class_weight=None, colsample_bytree=1.0,\n",
       "        importance_type='gain', learning_rate=0.01, max_depth=-1,\n",
       "        metric='auc', min_child_samples=20, min_child_weight=0.001,\n",
       "        min_split_gain=0.0, n_estimators=500, n_jobs=-1, num_leaves=31,\n",
       "        objective=None, random_state=10, reg_alpha=0.0, reg_lambda=0.0,\n",
       "        scale_pos_weight=8, silent=True, subsample=1.0,\n",
       "        subsample_for_bin=200000, subsample_freq=0)"
      ]
     },
     "execution_count": 23,
     "metadata": {},
     "output_type": "execute_result"
    },
    {
     "name": "stderr",
     "output_type": "stream",
     "text": [
      "C:\\Users\\zagkoui\\AppData\\Local\\conda\\conda\\envs\\irida\\lib\\site-packages\\sklearn\\preprocessing\\label.py:151: DeprecationWarning: The truth value of an empty array is ambiguous. Returning False, but in future this will result in an error. Use `array.size > 0` to check that an array is not empty.\n",
      "  if diff:\n"
     ]
    },
    {
     "name": "stdout",
     "output_type": "stream",
     "text": [
      "[[434969 440634]\n",
      " [  1363  30866]]\n",
      "0.5131290811515787\n",
      "                  precision    recall  f1-score   support\n",
      "\n",
      "No higher bundle       1.00      0.50      0.66    875603\n",
      "   Higher Bundle       0.07      0.96      0.12     32229\n",
      "\n",
      "     avg / total       0.96      0.51      0.64    907832\n",
      "\n"
     ]
    },
    {
     "data": {
      "text/plain": [
       "array([0.00926611, 0.79635921, 0.01314553, ..., 0.37641101, 0.76401046,\n",
       "       0.54279558])"
      ]
     },
     "execution_count": 23,
     "metadata": {},
     "output_type": "execute_result"
    },
    {
     "data": {
      "text/plain": [
       "471500"
      ]
     },
     "execution_count": 23,
     "metadata": {},
     "output_type": "execute_result"
    },
    {
     "name": "stdout",
     "output_type": "stream",
     "text": [
      "('gbdt', 8, 500, 0.1)\n"
     ]
    },
    {
     "data": {
      "text/plain": [
       "LGBMClassifier(boosting_type='gbdt', class_weight=None, colsample_bytree=1.0,\n",
       "        importance_type='gain', learning_rate=0.1, max_depth=-1,\n",
       "        metric='auc', min_child_samples=20, min_child_weight=0.001,\n",
       "        min_split_gain=0.0, n_estimators=500, n_jobs=-1, num_leaves=31,\n",
       "        objective=None, random_state=10, reg_alpha=0.0, reg_lambda=0.0,\n",
       "        scale_pos_weight=8, silent=True, subsample=1.0,\n",
       "        subsample_for_bin=200000, subsample_freq=0)"
      ]
     },
     "execution_count": 23,
     "metadata": {},
     "output_type": "execute_result"
    },
    {
     "name": "stderr",
     "output_type": "stream",
     "text": [
      "C:\\Users\\zagkoui\\AppData\\Local\\conda\\conda\\envs\\irida\\lib\\site-packages\\sklearn\\preprocessing\\label.py:151: DeprecationWarning: The truth value of an empty array is ambiguous. Returning False, but in future this will result in an error. Use `array.size > 0` to check that an array is not empty.\n",
      "  if diff:\n"
     ]
    },
    {
     "name": "stdout",
     "output_type": "stream",
     "text": [
      "[[523889 351714]\n",
      " [  3569  28660]]\n",
      "0.6086467540249738\n",
      "                  precision    recall  f1-score   support\n",
      "\n",
      "No higher bundle       0.99      0.60      0.75    875603\n",
      "   Higher Bundle       0.08      0.89      0.14     32229\n",
      "\n",
      "     avg / total       0.96      0.61      0.73    907832\n",
      "\n"
     ]
    },
    {
     "data": {
      "text/plain": [
       "array([0.00157603, 0.83024085, 0.00152091, ..., 0.07980691, 0.18917014,\n",
       "       0.47785918])"
      ]
     },
     "execution_count": 23,
     "metadata": {},
     "output_type": "execute_result"
    },
    {
     "data": {
      "text/plain": [
       "380374"
      ]
     },
     "execution_count": 23,
     "metadata": {},
     "output_type": "execute_result"
    },
    {
     "name": "stdout",
     "output_type": "stream",
     "text": [
      "('gbdt', 8, 1000, 0.01)\n"
     ]
    },
    {
     "data": {
      "text/plain": [
       "LGBMClassifier(boosting_type='gbdt', class_weight=None, colsample_bytree=1.0,\n",
       "        importance_type='gain', learning_rate=0.01, max_depth=-1,\n",
       "        metric='auc', min_child_samples=20, min_child_weight=0.001,\n",
       "        min_split_gain=0.0, n_estimators=1000, n_jobs=-1, num_leaves=31,\n",
       "        objective=None, random_state=10, reg_alpha=0.0, reg_lambda=0.0,\n",
       "        scale_pos_weight=8, silent=True, subsample=1.0,\n",
       "        subsample_for_bin=200000, subsample_freq=0)"
      ]
     },
     "execution_count": 23,
     "metadata": {},
     "output_type": "execute_result"
    },
    {
     "name": "stderr",
     "output_type": "stream",
     "text": [
      "C:\\Users\\zagkoui\\AppData\\Local\\conda\\conda\\envs\\irida\\lib\\site-packages\\sklearn\\preprocessing\\label.py:151: DeprecationWarning: The truth value of an empty array is ambiguous. Returning False, but in future this will result in an error. Use `array.size > 0` to check that an array is not empty.\n",
      "  if diff:\n"
     ]
    },
    {
     "name": "stdout",
     "output_type": "stream",
     "text": [
      "[[450036 425567]\n",
      " [  1504  30725]]\n",
      "0.529570449157994\n",
      "                  precision    recall  f1-score   support\n",
      "\n",
      "No higher bundle       1.00      0.51      0.68    875603\n",
      "   Higher Bundle       0.07      0.95      0.13     32229\n",
      "\n",
      "     avg / total       0.96      0.53      0.66    907832\n",
      "\n"
     ]
    },
    {
     "data": {
      "text/plain": [
       "array([0.0038189 , 0.79475429, 0.00620976, ..., 0.27618465, 0.72751409,\n",
       "       0.51459958])"
      ]
     },
     "execution_count": 23,
     "metadata": {},
     "output_type": "execute_result"
    },
    {
     "data": {
      "text/plain": [
       "456292"
      ]
     },
     "execution_count": 23,
     "metadata": {},
     "output_type": "execute_result"
    },
    {
     "name": "stdout",
     "output_type": "stream",
     "text": [
      "('gbdt', 8, 1000, 0.1)\n"
     ]
    },
    {
     "data": {
      "text/plain": [
       "LGBMClassifier(boosting_type='gbdt', class_weight=None, colsample_bytree=1.0,\n",
       "        importance_type='gain', learning_rate=0.1, max_depth=-1,\n",
       "        metric='auc', min_child_samples=20, min_child_weight=0.001,\n",
       "        min_split_gain=0.0, n_estimators=1000, n_jobs=-1, num_leaves=31,\n",
       "        objective=None, random_state=10, reg_alpha=0.0, reg_lambda=0.0,\n",
       "        scale_pos_weight=8, silent=True, subsample=1.0,\n",
       "        subsample_for_bin=200000, subsample_freq=0)"
      ]
     },
     "execution_count": 23,
     "metadata": {},
     "output_type": "execute_result"
    },
    {
     "name": "stderr",
     "output_type": "stream",
     "text": [
      "C:\\Users\\zagkoui\\AppData\\Local\\conda\\conda\\envs\\irida\\lib\\site-packages\\sklearn\\preprocessing\\label.py:151: DeprecationWarning: The truth value of an empty array is ambiguous. Returning False, but in future this will result in an error. Use `array.size > 0` to check that an array is not empty.\n",
      "  if diff:\n"
     ]
    },
    {
     "name": "stdout",
     "output_type": "stream",
     "text": [
      "[[581665 293938]\n",
      " [  5873  26356]]\n",
      "0.6697505705901532\n",
      "                  precision    recall  f1-score   support\n",
      "\n",
      "No higher bundle       0.99      0.66      0.80    875603\n",
      "   Higher Bundle       0.08      0.82      0.15     32229\n",
      "\n",
      "     avg / total       0.96      0.67      0.77    907832\n",
      "\n"
     ]
    },
    {
     "data": {
      "text/plain": [
       "array([0.00124761, 0.61079892, 0.0006337 , ..., 0.07575022, 0.07701748,\n",
       "       0.41450594])"
      ]
     },
     "execution_count": 23,
     "metadata": {},
     "output_type": "execute_result"
    },
    {
     "data": {
      "text/plain": [
       "320294"
      ]
     },
     "execution_count": 23,
     "metadata": {},
     "output_type": "execute_result"
    },
    {
     "name": "stdout",
     "output_type": "stream",
     "text": [
      "('dart', 2, 100, 0.01)\n"
     ]
    },
    {
     "data": {
      "text/plain": [
       "LGBMClassifier(boosting_type='dart', class_weight=None, colsample_bytree=1.0,\n",
       "        importance_type='gain', learning_rate=0.01, max_depth=-1,\n",
       "        metric='auc', min_child_samples=20, min_child_weight=0.001,\n",
       "        min_split_gain=0.0, n_estimators=100, n_jobs=-1, num_leaves=31,\n",
       "        objective=None, random_state=10, reg_alpha=0.0, reg_lambda=0.0,\n",
       "        scale_pos_weight=2, silent=True, subsample=1.0,\n",
       "        subsample_for_bin=200000, subsample_freq=0)"
      ]
     },
     "execution_count": 23,
     "metadata": {},
     "output_type": "execute_result"
    },
    {
     "name": "stderr",
     "output_type": "stream",
     "text": [
      "C:\\Users\\zagkoui\\AppData\\Local\\conda\\conda\\envs\\irida\\lib\\site-packages\\sklearn\\preprocessing\\label.py:151: DeprecationWarning: The truth value of an empty array is ambiguous. Returning False, but in future this will result in an error. Use `array.size > 0` to check that an array is not empty.\n",
      "  if diff:\n"
     ]
    },
    {
     "name": "stdout",
     "output_type": "stream",
     "text": [
      "[[853184  22419]\n",
      " [ 28327   3902]]\n",
      "0.9441019924391297\n",
      "                  precision    recall  f1-score   support\n",
      "\n",
      "No higher bundle       0.97      0.97      0.97    875603\n",
      "   Higher Bundle       0.15      0.12      0.13     32229\n",
      "\n",
      "     avg / total       0.94      0.94      0.94    907832\n",
      "\n"
     ]
    },
    {
     "data": {
      "text/plain": [
       "array([0.28915408, 0.44693255, 0.31279592, ..., 0.34387749, 0.4740294 ,\n",
       "       0.36267022])"
      ]
     },
     "execution_count": 23,
     "metadata": {},
     "output_type": "execute_result"
    },
    {
     "data": {
      "text/plain": [
       "26321"
      ]
     },
     "execution_count": 23,
     "metadata": {},
     "output_type": "execute_result"
    },
    {
     "name": "stdout",
     "output_type": "stream",
     "text": [
      "('dart', 2, 100, 0.1)\n"
     ]
    },
    {
     "data": {
      "text/plain": [
       "LGBMClassifier(boosting_type='dart', class_weight=None, colsample_bytree=1.0,\n",
       "        importance_type='gain', learning_rate=0.1, max_depth=-1,\n",
       "        metric='auc', min_child_samples=20, min_child_weight=0.001,\n",
       "        min_split_gain=0.0, n_estimators=100, n_jobs=-1, num_leaves=31,\n",
       "        objective=None, random_state=10, reg_alpha=0.0, reg_lambda=0.0,\n",
       "        scale_pos_weight=2, silent=True, subsample=1.0,\n",
       "        subsample_for_bin=200000, subsample_freq=0)"
      ]
     },
     "execution_count": 23,
     "metadata": {},
     "output_type": "execute_result"
    },
    {
     "name": "stderr",
     "output_type": "stream",
     "text": [
      "C:\\Users\\zagkoui\\AppData\\Local\\conda\\conda\\envs\\irida\\lib\\site-packages\\sklearn\\preprocessing\\label.py:151: DeprecationWarning: The truth value of an empty array is ambiguous. Returning False, but in future this will result in an error. Use `array.size > 0` to check that an array is not empty.\n",
      "  if diff:\n"
     ]
    },
    {
     "name": "stdout",
     "output_type": "stream",
     "text": [
      "[[687320 188283]\n",
      " [ 10210  22019]]\n",
      "0.7813549202936226\n",
      "                  precision    recall  f1-score   support\n",
      "\n",
      "No higher bundle       0.99      0.78      0.87    875603\n",
      "   Higher Bundle       0.10      0.68      0.18     32229\n",
      "\n",
      "     avg / total       0.95      0.78      0.85    907832\n",
      "\n"
     ]
    },
    {
     "data": {
      "text/plain": [
       "array([0.01659537, 0.52374433, 0.04187423, ..., 0.20685461, 0.47985494,\n",
       "       0.3057992 ])"
      ]
     },
     "execution_count": 23,
     "metadata": {},
     "output_type": "execute_result"
    },
    {
     "data": {
      "text/plain": [
       "210302"
      ]
     },
     "execution_count": 23,
     "metadata": {},
     "output_type": "execute_result"
    },
    {
     "name": "stdout",
     "output_type": "stream",
     "text": [
      "('dart', 2, 500, 0.01)\n"
     ]
    },
    {
     "data": {
      "text/plain": [
       "LGBMClassifier(boosting_type='dart', class_weight=None, colsample_bytree=1.0,\n",
       "        importance_type='gain', learning_rate=0.01, max_depth=-1,\n",
       "        metric='auc', min_child_samples=20, min_child_weight=0.001,\n",
       "        min_split_gain=0.0, n_estimators=500, n_jobs=-1, num_leaves=31,\n",
       "        objective=None, random_state=10, reg_alpha=0.0, reg_lambda=0.0,\n",
       "        scale_pos_weight=2, silent=True, subsample=1.0,\n",
       "        subsample_for_bin=200000, subsample_freq=0)"
      ]
     },
     "execution_count": 23,
     "metadata": {},
     "output_type": "execute_result"
    },
    {
     "name": "stderr",
     "output_type": "stream",
     "text": [
      "C:\\Users\\zagkoui\\AppData\\Local\\conda\\conda\\envs\\irida\\lib\\site-packages\\sklearn\\preprocessing\\label.py:151: DeprecationWarning: The truth value of an empty array is ambiguous. Returning False, but in future this will result in an error. Use `array.size > 0` to check that an array is not empty.\n",
      "  if diff:\n"
     ]
    },
    {
     "name": "stdout",
     "output_type": "stream",
     "text": [
      "[[707186 168417]\n",
      " [ 12760  19469]]\n",
      "0.8004289339877863\n",
      "                  precision    recall  f1-score   support\n",
      "\n",
      "No higher bundle       0.98      0.81      0.89    875603\n",
      "   Higher Bundle       0.10      0.60      0.18     32229\n",
      "\n",
      "     avg / total       0.95      0.80      0.86    907832\n",
      "\n"
     ]
    },
    {
     "data": {
      "text/plain": [
       "array([0.15350685, 0.51630767, 0.19325917, ..., 0.31101624, 0.50931324,\n",
       "       0.32738657])"
      ]
     },
     "execution_count": 23,
     "metadata": {},
     "output_type": "execute_result"
    },
    {
     "data": {
      "text/plain": [
       "187886"
      ]
     },
     "execution_count": 23,
     "metadata": {},
     "output_type": "execute_result"
    },
    {
     "name": "stdout",
     "output_type": "stream",
     "text": [
      "('dart', 2, 500, 0.1)\n"
     ]
    },
    {
     "data": {
      "text/plain": [
       "LGBMClassifier(boosting_type='dart', class_weight=None, colsample_bytree=1.0,\n",
       "        importance_type='gain', learning_rate=0.1, max_depth=-1,\n",
       "        metric='auc', min_child_samples=20, min_child_weight=0.001,\n",
       "        min_split_gain=0.0, n_estimators=500, n_jobs=-1, num_leaves=31,\n",
       "        objective=None, random_state=10, reg_alpha=0.0, reg_lambda=0.0,\n",
       "        scale_pos_weight=2, silent=True, subsample=1.0,\n",
       "        subsample_for_bin=200000, subsample_freq=0)"
      ]
     },
     "execution_count": 23,
     "metadata": {},
     "output_type": "execute_result"
    },
    {
     "name": "stderr",
     "output_type": "stream",
     "text": [
      "C:\\Users\\zagkoui\\AppData\\Local\\conda\\conda\\envs\\irida\\lib\\site-packages\\sklearn\\preprocessing\\label.py:151: DeprecationWarning: The truth value of an empty array is ambiguous. Returning False, but in future this will result in an error. Use `array.size > 0` to check that an array is not empty.\n",
      "  if diff:\n"
     ]
    },
    {
     "name": "stdout",
     "output_type": "stream",
     "text": [
      "[[679224 196379]\n",
      " [  8716  23513]]\n",
      "0.7740826496532398\n",
      "                  precision    recall  f1-score   support\n",
      "\n",
      "No higher bundle       0.99      0.78      0.87    875603\n",
      "   Higher Bundle       0.11      0.73      0.19     32229\n",
      "\n",
      "     avg / total       0.96      0.77      0.84    907832\n",
      "\n"
     ]
    },
    {
     "data": {
      "text/plain": [
       "array([0.00116508, 0.52160585, 0.00359444, ..., 0.08156262, 0.48148684,\n",
       "       0.28258161])"
      ]
     },
     "execution_count": 23,
     "metadata": {},
     "output_type": "execute_result"
    },
    {
     "data": {
      "text/plain": [
       "219892"
      ]
     },
     "execution_count": 23,
     "metadata": {},
     "output_type": "execute_result"
    },
    {
     "name": "stdout",
     "output_type": "stream",
     "text": [
      "('dart', 2, 1000, 0.01)\n"
     ]
    },
    {
     "data": {
      "text/plain": [
       "LGBMClassifier(boosting_type='dart', class_weight=None, colsample_bytree=1.0,\n",
       "        importance_type='gain', learning_rate=0.01, max_depth=-1,\n",
       "        metric='auc', min_child_samples=20, min_child_weight=0.001,\n",
       "        min_split_gain=0.0, n_estimators=1000, n_jobs=-1, num_leaves=31,\n",
       "        objective=None, random_state=10, reg_alpha=0.0, reg_lambda=0.0,\n",
       "        scale_pos_weight=2, silent=True, subsample=1.0,\n",
       "        subsample_for_bin=200000, subsample_freq=0)"
      ]
     },
     "execution_count": 23,
     "metadata": {},
     "output_type": "execute_result"
    },
    {
     "name": "stderr",
     "output_type": "stream",
     "text": [
      "C:\\Users\\zagkoui\\AppData\\Local\\conda\\conda\\envs\\irida\\lib\\site-packages\\sklearn\\preprocessing\\label.py:151: DeprecationWarning: The truth value of an empty array is ambiguous. Returning False, but in future this will result in an error. Use `array.size > 0` to check that an array is not empty.\n",
      "  if diff:\n"
     ]
    },
    {
     "name": "stdout",
     "output_type": "stream",
     "text": [
      "[[689630 185973]\n",
      " [ 10916  21313]]\n",
      "0.7831217670229734\n",
      "                  precision    recall  f1-score   support\n",
      "\n",
      "No higher bundle       0.98      0.79      0.88    875603\n",
      "   Higher Bundle       0.10      0.66      0.18     32229\n",
      "\n",
      "     avg / total       0.95      0.78      0.85    907832\n",
      "\n"
     ]
    },
    {
     "data": {
      "text/plain": [
       "array([0.05401643, 0.50656942, 0.09391616, ..., 0.25730011, 0.50474034,\n",
       "       0.29221461])"
      ]
     },
     "execution_count": 23,
     "metadata": {},
     "output_type": "execute_result"
    },
    {
     "data": {
      "text/plain": [
       "207286"
      ]
     },
     "execution_count": 23,
     "metadata": {},
     "output_type": "execute_result"
    },
    {
     "name": "stdout",
     "output_type": "stream",
     "text": [
      "('dart', 2, 1000, 0.1)\n"
     ]
    },
    {
     "data": {
      "text/plain": [
       "LGBMClassifier(boosting_type='dart', class_weight=None, colsample_bytree=1.0,\n",
       "        importance_type='gain', learning_rate=0.1, max_depth=-1,\n",
       "        metric='auc', min_child_samples=20, min_child_weight=0.001,\n",
       "        min_split_gain=0.0, n_estimators=1000, n_jobs=-1, num_leaves=31,\n",
       "        objective=None, random_state=10, reg_alpha=0.0, reg_lambda=0.0,\n",
       "        scale_pos_weight=2, silent=True, subsample=1.0,\n",
       "        subsample_for_bin=200000, subsample_freq=0)"
      ]
     },
     "execution_count": 23,
     "metadata": {},
     "output_type": "execute_result"
    },
    {
     "name": "stderr",
     "output_type": "stream",
     "text": [
      "C:\\Users\\zagkoui\\AppData\\Local\\conda\\conda\\envs\\irida\\lib\\site-packages\\sklearn\\preprocessing\\label.py:151: DeprecationWarning: The truth value of an empty array is ambiguous. Returning False, but in future this will result in an error. Use `array.size > 0` to check that an array is not empty.\n",
      "  if diff:\n"
     ]
    },
    {
     "name": "stdout",
     "output_type": "stream",
     "text": [
      "[[684439 191164]\n",
      " [  9057  23172]]\n",
      "0.7794514844156187\n",
      "                  precision    recall  f1-score   support\n",
      "\n",
      "No higher bundle       0.99      0.78      0.87    875603\n",
      "   Higher Bundle       0.11      0.72      0.19     32229\n",
      "\n",
      "     avg / total       0.96      0.78      0.85    907832\n",
      "\n"
     ]
    },
    {
     "data": {
      "text/plain": [
       "array([0.00063764, 0.56747393, 0.0010225 , ..., 0.09590477, 0.36176574,\n",
       "       0.23286721])"
      ]
     },
     "execution_count": 23,
     "metadata": {},
     "output_type": "execute_result"
    },
    {
     "data": {
      "text/plain": [
       "214336"
      ]
     },
     "execution_count": 23,
     "metadata": {},
     "output_type": "execute_result"
    },
    {
     "name": "stdout",
     "output_type": "stream",
     "text": [
      "('dart', 4, 100, 0.01)\n"
     ]
    },
    {
     "data": {
      "text/plain": [
       "LGBMClassifier(boosting_type='dart', class_weight=None, colsample_bytree=1.0,\n",
       "        importance_type='gain', learning_rate=0.01, max_depth=-1,\n",
       "        metric='auc', min_child_samples=20, min_child_weight=0.001,\n",
       "        min_split_gain=0.0, n_estimators=100, n_jobs=-1, num_leaves=31,\n",
       "        objective=None, random_state=10, reg_alpha=0.0, reg_lambda=0.0,\n",
       "        scale_pos_weight=4, silent=True, subsample=1.0,\n",
       "        subsample_for_bin=200000, subsample_freq=0)"
      ]
     },
     "execution_count": 23,
     "metadata": {},
     "output_type": "execute_result"
    },
    {
     "name": "stderr",
     "output_type": "stream",
     "text": [
      "C:\\Users\\zagkoui\\AppData\\Local\\conda\\conda\\envs\\irida\\lib\\site-packages\\sklearn\\preprocessing\\label.py:151: DeprecationWarning: The truth value of an empty array is ambiguous. Returning False, but in future this will result in an error. Use `array.size > 0` to check that an array is not empty.\n",
      "  if diff:\n"
     ]
    },
    {
     "name": "stdout",
     "output_type": "stream",
     "text": [
      "[[702810 172793]\n",
      " [ 13301  18928]]\n",
      "0.7950127336335358\n",
      "                  precision    recall  f1-score   support\n",
      "\n",
      "No higher bundle       0.98      0.80      0.88    875603\n",
      "   Higher Bundle       0.10      0.59      0.17     32229\n",
      "\n",
      "     avg / total       0.95      0.80      0.86    907832\n",
      "\n"
     ]
    },
    {
     "data": {
      "text/plain": [
       "array([0.28853895, 0.50993001, 0.32942654, ..., 0.43610837, 0.46330463,\n",
       "       0.36625705])"
      ]
     },
     "execution_count": 23,
     "metadata": {},
     "output_type": "execute_result"
    },
    {
     "data": {
      "text/plain": [
       "191721"
      ]
     },
     "execution_count": 23,
     "metadata": {},
     "output_type": "execute_result"
    },
    {
     "name": "stdout",
     "output_type": "stream",
     "text": [
      "('dart', 4, 100, 0.1)\n"
     ]
    },
    {
     "data": {
      "text/plain": [
       "LGBMClassifier(boosting_type='dart', class_weight=None, colsample_bytree=1.0,\n",
       "        importance_type='gain', learning_rate=0.1, max_depth=-1,\n",
       "        metric='auc', min_child_samples=20, min_child_weight=0.001,\n",
       "        min_split_gain=0.0, n_estimators=100, n_jobs=-1, num_leaves=31,\n",
       "        objective=None, random_state=10, reg_alpha=0.0, reg_lambda=0.0,\n",
       "        scale_pos_weight=4, silent=True, subsample=1.0,\n",
       "        subsample_for_bin=200000, subsample_freq=0)"
      ]
     },
     "execution_count": 23,
     "metadata": {},
     "output_type": "execute_result"
    },
    {
     "name": "stderr",
     "output_type": "stream",
     "text": [
      "C:\\Users\\zagkoui\\AppData\\Local\\conda\\conda\\envs\\irida\\lib\\site-packages\\sklearn\\preprocessing\\label.py:151: DeprecationWarning: The truth value of an empty array is ambiguous. Returning False, but in future this will result in an error. Use `array.size > 0` to check that an array is not empty.\n",
      "  if diff:\n"
     ]
    },
    {
     "name": "stdout",
     "output_type": "stream",
     "text": [
      "[[541611 333992]\n",
      " [  3689  28540]]\n",
      "0.6280358039813534\n",
      "                  precision    recall  f1-score   support\n",
      "\n",
      "No higher bundle       0.99      0.62      0.76    875603\n",
      "   Higher Bundle       0.08      0.89      0.14     32229\n",
      "\n",
      "     avg / total       0.96      0.63      0.74    907832\n",
      "\n"
     ]
    },
    {
     "data": {
      "text/plain": [
       "array([0.01866966, 0.63390093, 0.04457083, ..., 0.30422499, 0.61685825,\n",
       "       0.39054809])"
      ]
     },
     "execution_count": 23,
     "metadata": {},
     "output_type": "execute_result"
    },
    {
     "data": {
      "text/plain": [
       "362532"
      ]
     },
     "execution_count": 23,
     "metadata": {},
     "output_type": "execute_result"
    },
    {
     "name": "stdout",
     "output_type": "stream",
     "text": [
      "('dart', 4, 500, 0.01)\n"
     ]
    },
    {
     "data": {
      "text/plain": [
       "LGBMClassifier(boosting_type='dart', class_weight=None, colsample_bytree=1.0,\n",
       "        importance_type='gain', learning_rate=0.01, max_depth=-1,\n",
       "        metric='auc', min_child_samples=20, min_child_weight=0.001,\n",
       "        min_split_gain=0.0, n_estimators=500, n_jobs=-1, num_leaves=31,\n",
       "        objective=None, random_state=10, reg_alpha=0.0, reg_lambda=0.0,\n",
       "        scale_pos_weight=4, silent=True, subsample=1.0,\n",
       "        subsample_for_bin=200000, subsample_freq=0)"
      ]
     },
     "execution_count": 23,
     "metadata": {},
     "output_type": "execute_result"
    },
    {
     "name": "stderr",
     "output_type": "stream",
     "text": [
      "C:\\Users\\zagkoui\\AppData\\Local\\conda\\conda\\envs\\irida\\lib\\site-packages\\sklearn\\preprocessing\\label.py:151: DeprecationWarning: The truth value of an empty array is ambiguous. Returning False, but in future this will result in an error. Use `array.size > 0` to check that an array is not empty.\n",
      "  if diff:\n"
     ]
    },
    {
     "name": "stdout",
     "output_type": "stream",
     "text": [
      "[[534730 340873]\n",
      " [  4033  28196]]\n",
      "0.6200772830215282\n",
      "                  precision    recall  f1-score   support\n",
      "\n",
      "No higher bundle       0.99      0.61      0.76    875603\n",
      "   Higher Bundle       0.08      0.87      0.14     32229\n",
      "\n",
      "     avg / total       0.96      0.62      0.73    907832\n",
      "\n"
     ]
    },
    {
     "data": {
      "text/plain": [
       "array([0.15440587, 0.62194863, 0.20959367, ..., 0.40872565, 0.56770913,\n",
       "       0.36746205])"
      ]
     },
     "execution_count": 23,
     "metadata": {},
     "output_type": "execute_result"
    },
    {
     "data": {
      "text/plain": [
       "369069"
      ]
     },
     "execution_count": 23,
     "metadata": {},
     "output_type": "execute_result"
    },
    {
     "name": "stdout",
     "output_type": "stream",
     "text": [
      "('dart', 4, 500, 0.1)\n"
     ]
    },
    {
     "data": {
      "text/plain": [
       "LGBMClassifier(boosting_type='dart', class_weight=None, colsample_bytree=1.0,\n",
       "        importance_type='gain', learning_rate=0.1, max_depth=-1,\n",
       "        metric='auc', min_child_samples=20, min_child_weight=0.001,\n",
       "        min_split_gain=0.0, n_estimators=500, n_jobs=-1, num_leaves=31,\n",
       "        objective=None, random_state=10, reg_alpha=0.0, reg_lambda=0.0,\n",
       "        scale_pos_weight=4, silent=True, subsample=1.0,\n",
       "        subsample_for_bin=200000, subsample_freq=0)"
      ]
     },
     "execution_count": 23,
     "metadata": {},
     "output_type": "execute_result"
    },
    {
     "name": "stderr",
     "output_type": "stream",
     "text": [
      "C:\\Users\\zagkoui\\AppData\\Local\\conda\\conda\\envs\\irida\\lib\\site-packages\\sklearn\\preprocessing\\label.py:151: DeprecationWarning: The truth value of an empty array is ambiguous. Returning False, but in future this will result in an error. Use `array.size > 0` to check that an array is not empty.\n",
      "  if diff:\n"
     ]
    },
    {
     "name": "stdout",
     "output_type": "stream",
     "text": [
      "[[550398 325205]\n",
      " [  3461  28768]]\n",
      "0.6379660553935089\n",
      "                  precision    recall  f1-score   support\n",
      "\n",
      "No higher bundle       0.99      0.63      0.77    875603\n",
      "   Higher Bundle       0.08      0.89      0.15     32229\n",
      "\n",
      "     avg / total       0.96      0.64      0.75    907832\n",
      "\n"
     ]
    },
    {
     "data": {
      "text/plain": [
       "array([0.00163744, 0.65828397, 0.00386688, ..., 0.16879158, 0.57964575,\n",
       "       0.44045549])"
      ]
     },
     "execution_count": 23,
     "metadata": {},
     "output_type": "execute_result"
    },
    {
     "data": {
      "text/plain": [
       "353973"
      ]
     },
     "execution_count": 23,
     "metadata": {},
     "output_type": "execute_result"
    },
    {
     "name": "stdout",
     "output_type": "stream",
     "text": [
      "('dart', 4, 1000, 0.01)\n"
     ]
    },
    {
     "data": {
      "text/plain": [
       "LGBMClassifier(boosting_type='dart', class_weight=None, colsample_bytree=1.0,\n",
       "        importance_type='gain', learning_rate=0.01, max_depth=-1,\n",
       "        metric='auc', min_child_samples=20, min_child_weight=0.001,\n",
       "        min_split_gain=0.0, n_estimators=1000, n_jobs=-1, num_leaves=31,\n",
       "        objective=None, random_state=10, reg_alpha=0.0, reg_lambda=0.0,\n",
       "        scale_pos_weight=4, silent=True, subsample=1.0,\n",
       "        subsample_for_bin=200000, subsample_freq=0)"
      ]
     },
     "execution_count": 23,
     "metadata": {},
     "output_type": "execute_result"
    },
    {
     "name": "stderr",
     "output_type": "stream",
     "text": [
      "C:\\Users\\zagkoui\\AppData\\Local\\conda\\conda\\envs\\irida\\lib\\site-packages\\sklearn\\preprocessing\\label.py:151: DeprecationWarning: The truth value of an empty array is ambiguous. Returning False, but in future this will result in an error. Use `array.size > 0` to check that an array is not empty.\n",
      "  if diff:\n"
     ]
    },
    {
     "name": "stdout",
     "output_type": "stream",
     "text": [
      "[[535082 340521]\n",
      " [  3843  28386]]\n",
      "0.6206743097841891\n",
      "                  precision    recall  f1-score   support\n",
      "\n",
      "No higher bundle       0.99      0.61      0.76    875603\n",
      "   Higher Bundle       0.08      0.88      0.14     32229\n",
      "\n",
      "     avg / total       0.96      0.62      0.73    907832\n",
      "\n"
     ]
    },
    {
     "data": {
      "text/plain": [
       "array([0.05543303, 0.65348832, 0.09662099, ..., 0.35609612, 0.5885256 ,\n",
       "       0.40952428])"
      ]
     },
     "execution_count": 23,
     "metadata": {},
     "output_type": "execute_result"
    },
    {
     "data": {
      "text/plain": [
       "368907"
      ]
     },
     "execution_count": 23,
     "metadata": {},
     "output_type": "execute_result"
    },
    {
     "name": "stdout",
     "output_type": "stream",
     "text": [
      "('dart', 4, 1000, 0.1)\n"
     ]
    },
    {
     "data": {
      "text/plain": [
       "LGBMClassifier(boosting_type='dart', class_weight=None, colsample_bytree=1.0,\n",
       "        importance_type='gain', learning_rate=0.1, max_depth=-1,\n",
       "        metric='auc', min_child_samples=20, min_child_weight=0.001,\n",
       "        min_split_gain=0.0, n_estimators=1000, n_jobs=-1, num_leaves=31,\n",
       "        objective=None, random_state=10, reg_alpha=0.0, reg_lambda=0.0,\n",
       "        scale_pos_weight=4, silent=True, subsample=1.0,\n",
       "        subsample_for_bin=200000, subsample_freq=0)"
      ]
     },
     "execution_count": 23,
     "metadata": {},
     "output_type": "execute_result"
    },
    {
     "name": "stderr",
     "output_type": "stream",
     "text": [
      "C:\\Users\\zagkoui\\AppData\\Local\\conda\\conda\\envs\\irida\\lib\\site-packages\\sklearn\\preprocessing\\label.py:151: DeprecationWarning: The truth value of an empty array is ambiguous. Returning False, but in future this will result in an error. Use `array.size > 0` to check that an array is not empty.\n",
      "  if diff:\n"
     ]
    },
    {
     "name": "stdout",
     "output_type": "stream",
     "text": [
      "[[569870 305733]\n",
      " [  4144  28085]]\n",
      "0.6586626159906238\n",
      "                  precision    recall  f1-score   support\n",
      "\n",
      "No higher bundle       0.99      0.65      0.79    875603\n",
      "   Higher Bundle       0.08      0.87      0.15     32229\n",
      "\n",
      "     avg / total       0.96      0.66      0.76    907832\n",
      "\n"
     ]
    },
    {
     "data": {
      "text/plain": [
       "array([6.78970780e-04, 7.48580994e-01, 1.24451326e-03, ...,\n",
       "       1.39532154e-01, 4.54855580e-01, 4.75547307e-01])"
      ]
     },
     "execution_count": 23,
     "metadata": {},
     "output_type": "execute_result"
    },
    {
     "data": {
      "text/plain": [
       "333818"
      ]
     },
     "execution_count": 23,
     "metadata": {},
     "output_type": "execute_result"
    },
    {
     "name": "stdout",
     "output_type": "stream",
     "text": [
      "('dart', 8, 100, 0.01)\n"
     ]
    },
    {
     "data": {
      "text/plain": [
       "LGBMClassifier(boosting_type='dart', class_weight=None, colsample_bytree=1.0,\n",
       "        importance_type='gain', learning_rate=0.01, max_depth=-1,\n",
       "        metric='auc', min_child_samples=20, min_child_weight=0.001,\n",
       "        min_split_gain=0.0, n_estimators=100, n_jobs=-1, num_leaves=31,\n",
       "        objective=None, random_state=10, reg_alpha=0.0, reg_lambda=0.0,\n",
       "        scale_pos_weight=8, silent=True, subsample=1.0,\n",
       "        subsample_for_bin=200000, subsample_freq=0)"
      ]
     },
     "execution_count": 23,
     "metadata": {},
     "output_type": "execute_result"
    },
    {
     "name": "stderr",
     "output_type": "stream",
     "text": [
      "C:\\Users\\zagkoui\\AppData\\Local\\conda\\conda\\envs\\irida\\lib\\site-packages\\sklearn\\preprocessing\\label.py:151: DeprecationWarning: The truth value of an empty array is ambiguous. Returning False, but in future this will result in an error. Use `array.size > 0` to check that an array is not empty.\n",
      "  if diff:\n"
     ]
    },
    {
     "name": "stdout",
     "output_type": "stream",
     "text": [
      "[[515772 359831]\n",
      " [  3950  28279]]\n",
      "0.5992859912406701\n",
      "                  precision    recall  f1-score   support\n",
      "\n",
      "No higher bundle       0.99      0.59      0.74    875603\n",
      "   Higher Bundle       0.07      0.88      0.13     32229\n",
      "\n",
      "     avg / total       0.96      0.60      0.72    907832\n",
      "\n"
     ]
    },
    {
     "data": {
      "text/plain": [
       "array([0.29057168, 0.53936596, 0.32756109, ..., 0.51405133, 0.49752713,\n",
       "       0.42190576])"
      ]
     },
     "execution_count": 23,
     "metadata": {},
     "output_type": "execute_result"
    },
    {
     "data": {
      "text/plain": [
       "388110"
      ]
     },
     "execution_count": 23,
     "metadata": {},
     "output_type": "execute_result"
    },
    {
     "name": "stdout",
     "output_type": "stream",
     "text": [
      "('dart', 8, 100, 0.1)\n"
     ]
    },
    {
     "data": {
      "text/plain": [
       "LGBMClassifier(boosting_type='dart', class_weight=None, colsample_bytree=1.0,\n",
       "        importance_type='gain', learning_rate=0.1, max_depth=-1,\n",
       "        metric='auc', min_child_samples=20, min_child_weight=0.001,\n",
       "        min_split_gain=0.0, n_estimators=100, n_jobs=-1, num_leaves=31,\n",
       "        objective=None, random_state=10, reg_alpha=0.0, reg_lambda=0.0,\n",
       "        scale_pos_weight=8, silent=True, subsample=1.0,\n",
       "        subsample_for_bin=200000, subsample_freq=0)"
      ]
     },
     "execution_count": 23,
     "metadata": {},
     "output_type": "execute_result"
    },
    {
     "name": "stderr",
     "output_type": "stream",
     "text": [
      "C:\\Users\\zagkoui\\AppData\\Local\\conda\\conda\\envs\\irida\\lib\\site-packages\\sklearn\\preprocessing\\label.py:151: DeprecationWarning: The truth value of an empty array is ambiguous. Returning False, but in future this will result in an error. Use `array.size > 0` to check that an array is not empty.\n",
      "  if diff:\n"
     ]
    },
    {
     "name": "stdout",
     "output_type": "stream",
     "text": [
      "[[429260 446343]\n",
      " [  1325  30904]]\n",
      "0.5068823306514861\n",
      "                  precision    recall  f1-score   support\n",
      "\n",
      "No higher bundle       1.00      0.49      0.66    875603\n",
      "   Higher Bundle       0.06      0.96      0.12     32229\n",
      "\n",
      "     avg / total       0.96      0.51      0.64    907832\n",
      "\n"
     ]
    },
    {
     "data": {
      "text/plain": [
       "array([0.02318663, 0.77899066, 0.03699479, ..., 0.54531483, 0.73421214,\n",
       "       0.54871073])"
      ]
     },
     "execution_count": 23,
     "metadata": {},
     "output_type": "execute_result"
    },
    {
     "data": {
      "text/plain": [
       "477247"
      ]
     },
     "execution_count": 23,
     "metadata": {},
     "output_type": "execute_result"
    },
    {
     "name": "stdout",
     "output_type": "stream",
     "text": [
      "('dart', 8, 500, 0.01)\n"
     ]
    },
    {
     "data": {
      "text/plain": [
       "LGBMClassifier(boosting_type='dart', class_weight=None, colsample_bytree=1.0,\n",
       "        importance_type='gain', learning_rate=0.01, max_depth=-1,\n",
       "        metric='auc', min_child_samples=20, min_child_weight=0.001,\n",
       "        min_split_gain=0.0, n_estimators=500, n_jobs=-1, num_leaves=31,\n",
       "        objective=None, random_state=10, reg_alpha=0.0, reg_lambda=0.0,\n",
       "        scale_pos_weight=8, silent=True, subsample=1.0,\n",
       "        subsample_for_bin=200000, subsample_freq=0)"
      ]
     },
     "execution_count": 23,
     "metadata": {},
     "output_type": "execute_result"
    },
    {
     "name": "stderr",
     "output_type": "stream",
     "text": [
      "C:\\Users\\zagkoui\\AppData\\Local\\conda\\conda\\envs\\irida\\lib\\site-packages\\sklearn\\preprocessing\\label.py:151: DeprecationWarning: The truth value of an empty array is ambiguous. Returning False, but in future this will result in an error. Use `array.size > 0` to check that an array is not empty.\n",
      "  if diff:\n"
     ]
    },
    {
     "name": "stdout",
     "output_type": "stream",
     "text": [
      "[[412653 462950]\n",
      " [  1342  30887]]\n",
      "0.48857057252883795\n",
      "                  precision    recall  f1-score   support\n",
      "\n",
      "No higher bundle       1.00      0.47      0.64    875603\n",
      "   Higher Bundle       0.06      0.96      0.12     32229\n",
      "\n",
      "     avg / total       0.96      0.49      0.62    907832\n",
      "\n"
     ]
    },
    {
     "data": {
      "text/plain": [
       "array([0.15572474, 0.71028502, 0.19099524, ..., 0.61369114, 0.61930486,\n",
       "       0.46812473])"
      ]
     },
     "execution_count": 23,
     "metadata": {},
     "output_type": "execute_result"
    },
    {
     "data": {
      "text/plain": [
       "493837"
      ]
     },
     "execution_count": 23,
     "metadata": {},
     "output_type": "execute_result"
    },
    {
     "name": "stdout",
     "output_type": "stream",
     "text": [
      "('dart', 8, 500, 0.1)\n"
     ]
    },
    {
     "data": {
      "text/plain": [
       "LGBMClassifier(boosting_type='dart', class_weight=None, colsample_bytree=1.0,\n",
       "        importance_type='gain', learning_rate=0.1, max_depth=-1,\n",
       "        metric='auc', min_child_samples=20, min_child_weight=0.001,\n",
       "        min_split_gain=0.0, n_estimators=500, n_jobs=-1, num_leaves=31,\n",
       "        objective=None, random_state=10, reg_alpha=0.0, reg_lambda=0.0,\n",
       "        scale_pos_weight=8, silent=True, subsample=1.0,\n",
       "        subsample_for_bin=200000, subsample_freq=0)"
      ]
     },
     "execution_count": 23,
     "metadata": {},
     "output_type": "execute_result"
    },
    {
     "name": "stderr",
     "output_type": "stream",
     "text": [
      "C:\\Users\\zagkoui\\AppData\\Local\\conda\\conda\\envs\\irida\\lib\\site-packages\\sklearn\\preprocessing\\label.py:151: DeprecationWarning: The truth value of an empty array is ambiguous. Returning False, but in future this will result in an error. Use `array.size > 0` to check that an array is not empty.\n",
      "  if diff:\n"
     ]
    },
    {
     "name": "stdout",
     "output_type": "stream",
     "text": [
      "[[449476 426127]\n",
      " [  1391  30838]]\n",
      "0.5290780673076075\n",
      "                  precision    recall  f1-score   support\n",
      "\n",
      "No higher bundle       1.00      0.51      0.68    875603\n",
      "   Higher Bundle       0.07      0.96      0.13     32229\n",
      "\n",
      "     avg / total       0.96      0.53      0.66    907832\n",
      "\n"
     ]
    },
    {
     "data": {
      "text/plain": [
       "array([0.00160683, 0.8217521 , 0.00324036, ..., 0.34479543, 0.67459651,\n",
       "       0.57147529])"
      ]
     },
     "execution_count": 23,
     "metadata": {},
     "output_type": "execute_result"
    },
    {
     "data": {
      "text/plain": [
       "456965"
      ]
     },
     "execution_count": 23,
     "metadata": {},
     "output_type": "execute_result"
    },
    {
     "name": "stdout",
     "output_type": "stream",
     "text": [
      "('dart', 8, 1000, 0.01)\n"
     ]
    },
    {
     "data": {
      "text/plain": [
       "LGBMClassifier(boosting_type='dart', class_weight=None, colsample_bytree=1.0,\n",
       "        importance_type='gain', learning_rate=0.01, max_depth=-1,\n",
       "        metric='auc', min_child_samples=20, min_child_weight=0.001,\n",
       "        min_split_gain=0.0, n_estimators=1000, n_jobs=-1, num_leaves=31,\n",
       "        objective=None, random_state=10, reg_alpha=0.0, reg_lambda=0.0,\n",
       "        scale_pos_weight=8, silent=True, subsample=1.0,\n",
       "        subsample_for_bin=200000, subsample_freq=0)"
      ]
     },
     "execution_count": 23,
     "metadata": {},
     "output_type": "execute_result"
    },
    {
     "name": "stderr",
     "output_type": "stream",
     "text": [
      "C:\\Users\\zagkoui\\AppData\\Local\\conda\\conda\\envs\\irida\\lib\\site-packages\\sklearn\\preprocessing\\label.py:151: DeprecationWarning: The truth value of an empty array is ambiguous. Returning False, but in future this will result in an error. Use `array.size > 0` to check that an array is not empty.\n",
      "  if diff:\n"
     ]
    },
    {
     "name": "stdout",
     "output_type": "stream",
     "text": [
      "[[412857 462746]\n",
      " [  1216  31013]]\n",
      "0.48893407590831783\n",
      "                  precision    recall  f1-score   support\n",
      "\n",
      "No higher bundle       1.00      0.47      0.64    875603\n",
      "   Higher Bundle       0.06      0.96      0.12     32229\n",
      "\n",
      "     avg / total       0.96      0.49      0.62    907832\n",
      "\n"
     ]
    },
    {
     "data": {
      "text/plain": [
       "array([0.05918418, 0.76506907, 0.09345485, ..., 0.4868084 , 0.69200893,\n",
       "       0.55009246])"
      ]
     },
     "execution_count": 23,
     "metadata": {},
     "output_type": "execute_result"
    },
    {
     "data": {
      "text/plain": [
       "493759"
      ]
     },
     "execution_count": 23,
     "metadata": {},
     "output_type": "execute_result"
    },
    {
     "name": "stdout",
     "output_type": "stream",
     "text": [
      "('dart', 8, 1000, 0.1)\n"
     ]
    },
    {
     "data": {
      "text/plain": [
       "LGBMClassifier(boosting_type='dart', class_weight=None, colsample_bytree=1.0,\n",
       "        importance_type='gain', learning_rate=0.1, max_depth=-1,\n",
       "        metric='auc', min_child_samples=20, min_child_weight=0.001,\n",
       "        min_split_gain=0.0, n_estimators=1000, n_jobs=-1, num_leaves=31,\n",
       "        objective=None, random_state=10, reg_alpha=0.0, reg_lambda=0.0,\n",
       "        scale_pos_weight=8, silent=True, subsample=1.0,\n",
       "        subsample_for_bin=200000, subsample_freq=0)"
      ]
     },
     "execution_count": 23,
     "metadata": {},
     "output_type": "execute_result"
    },
    {
     "name": "stderr",
     "output_type": "stream",
     "text": [
      "C:\\Users\\zagkoui\\AppData\\Local\\conda\\conda\\envs\\irida\\lib\\site-packages\\sklearn\\preprocessing\\label.py:151: DeprecationWarning: The truth value of an empty array is ambiguous. Returning False, but in future this will result in an error. Use `array.size > 0` to check that an array is not empty.\n",
      "  if diff:\n"
     ]
    },
    {
     "name": "stdout",
     "output_type": "stream",
     "text": [
      "[[486624 388979]\n",
      " [  2133  30096]]\n",
      "0.5691802007419875\n",
      "                  precision    recall  f1-score   support\n",
      "\n",
      "No higher bundle       1.00      0.56      0.71    875603\n",
      "   Higher Bundle       0.07      0.93      0.13     32229\n",
      "\n",
      "     avg / total       0.96      0.57      0.69    907832\n",
      "\n"
     ]
    },
    {
     "data": {
      "text/plain": [
       "array([0.00101694, 0.73737867, 0.00082597, ..., 0.37711577, 0.69291584,\n",
       "       0.60177926])"
      ]
     },
     "execution_count": 23,
     "metadata": {},
     "output_type": "execute_result"
    },
    {
     "data": {
      "text/plain": [
       "419075"
      ]
     },
     "execution_count": 23,
     "metadata": {},
     "output_type": "execute_result"
    }
   ],
   "source": [
    "for booster in ['gbdt', 'dart']:\n",
    "    for scale in [2, 4]:\n",
    "    #for scale in [feb_proportion/2, feb_proportion]:\n",
    "        for est in [100, 500, 1000]:\n",
    "            for lr in [0.01, 0.1]:\n",
    "                print (booster, scale, est, lr)\n",
    "                # ----------------TRAINING-------------------\n",
    "                lgbm = lgb.LGBMClassifier(boosting_type = booster,\n",
    "                                    importance_type = 'gain',\n",
    "                                    scale_pos_weight= scale,\n",
    "                                    n_estimators = est,\n",
    "                                    learning_rate=lr, metric='auc', silent=True, n_jobs=-1, random_state=10) \n",
    "\n",
    "                lgbm.fit(X_previous_new, y_previous)\n",
    "                # ----------------TESTING-------------------\n",
    "                cm, acc, class_report = evaluation(X_next, y_next, lgbm)\n",
    "                print(cm)\n",
    "                print(acc)\n",
    "                print(class_report)\n",
    "\n",
    "                # -----------------EVALUATION-------------------\n",
    "                pred_y_propab = lgbm.predict_proba(X_next)\n",
    "                pred_y_propab[:,1]\n",
    "                condition = pred_y_propab[:,1] >= 0.5\n",
    "                len(pred_y_propab[:,1][condition])"
   ]
  },
  {
   "cell_type": "code",
   "execution_count": null,
   "metadata": {},
   "outputs": [],
   "source": []
  }
 ],
 "metadata": {
  "kernelspec": {
   "display_name": "Python 3",
   "language": "python",
   "name": "python3"
  },
  "language_info": {
   "codemirror_mode": {
    "name": "ipython",
    "version": 3
   },
   "file_extension": ".py",
   "mimetype": "text/x-python",
   "name": "python",
   "nbconvert_exporter": "python",
   "pygments_lexer": "ipython3",
   "version": "3.6.5"
  }
 },
 "nbformat": 4,
 "nbformat_minor": 2
}
