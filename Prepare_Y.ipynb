{
 "cells": [
  {
   "cell_type": "code",
   "execution_count": null,
   "metadata": {},
   "outputs": [],
   "source": [
    "# DEFINE DATASET !!!!!!!!!!! \n",
    "# prev and next"
   ]
  },
  {
   "cell_type": "code",
   "execution_count": 157,
   "metadata": {},
   "outputs": [],
   "source": [
    "import re\n",
    "import math\n",
    "import warnings\n",
    "warnings.filterwarnings(\"ignore\")\n",
    "import datetime\n",
    "import operator\n",
    "import numpy as np\n",
    "import pandas as pd\n",
    "import seaborn as sns\n",
    "import datetime as dt\n",
    "import matplotlib.pyplot as plt\n",
    "%matplotlib inline"
   ]
  },
  {
   "cell_type": "code",
   "execution_count": 158,
   "metadata": {},
   "outputs": [],
   "source": [
    "pd.set_option('display.max_columns', 550)\n",
    "pd.set_option('display.max_rows', 550)\n",
    "from IPython.core.interactiveshell import InteractiveShell\n",
    "InteractiveShell.ast_node_interactivity = \"all\""
   ]
  },
  {
   "cell_type": "code",
   "execution_count": 159,
   "metadata": {},
   "outputs": [],
   "source": [
    "# no students\n",
    "mask_mar_apr_ns = pd.read_csv(\"C:/Users/zagkoui/OneDrive - Vodafone Group/Documents/HIGHER_BUNDLES/database_y/higher_bundles_mar_apr.csv\", sep='|', parse_dates= [\"DAY_MONTH\"], dayfirst=True)\n",
    "mask_may_ns = pd.read_csv(\"C:/Users/zagkoui/OneDrive - Vodafone Group/Documents/HIGHER_BUNDLES/database_y/higher_bundles_may.csv\", sep='|', parse_dates= [\"DAY_MONTH\"], dayfirst=True)\n",
    "# students\n",
    "mask_mar_students = pd.read_csv(\"C:/Users/zagkoui/OneDrive - Vodafone Group/Documents/HIGHER_BUNDLES/database_y/Y_students_MAR22.csv\", sep='|', parse_dates= [\"DAY_MONTH\"], dayfirst=True)\n",
    "mask_apr_students = pd.read_csv(\"C:/Users/zagkoui/OneDrive - Vodafone Group/Documents/HIGHER_BUNDLES/database_y/Y_students_APR22.csv\", sep='|', parse_dates= [\"DAY_MONTH\"], dayfirst=True)\n",
    "mask_may_students = pd.read_csv(\"C:/Users/zagkoui/OneDrive - Vodafone Group/Documents/HIGHER_BUNDLES/database_y/Y_students_MAY22.csv\", sep='|', parse_dates= [\"DAY_MONTH\"], dayfirst=True)"
   ]
  },
  {
   "cell_type": "code",
   "execution_count": 160,
   "metadata": {},
   "outputs": [],
   "source": [
    "mask_mar_ns = mask_mar_apr_ns[(mask_mar_apr_ns[\"DAY_MONTH\"] >= '2022-03-01') & (mask_mar_apr_ns[\"DAY_MONTH\"] <= '2022-03-31')]\n",
    "mask_apr_ns = mask_mar_apr_ns[(mask_mar_apr_ns[\"DAY_MONTH\"] >= '2022-04-01') & (mask_mar_apr_ns[\"DAY_MONTH\"] <= '2022-04-30')]"
   ]
  },
  {
   "cell_type": "code",
   "execution_count": 161,
   "metadata": {},
   "outputs": [
    {
     "data": {
      "text/html": [
       "<div>\n",
       "<style scoped>\n",
       "    .dataframe tbody tr th:only-of-type {\n",
       "        vertical-align: middle;\n",
       "    }\n",
       "\n",
       "    .dataframe tbody tr th {\n",
       "        vertical-align: top;\n",
       "    }\n",
       "\n",
       "    .dataframe thead th {\n",
       "        text-align: right;\n",
       "    }\n",
       "</style>\n",
       "<table border=\"1\" class=\"dataframe\">\n",
       "  <thead>\n",
       "    <tr style=\"text-align: right;\">\n",
       "      <th></th>\n",
       "      <th>MONTH</th>\n",
       "      <th>DAY_MONTH</th>\n",
       "      <th>MSISDN</th>\n",
       "      <th>BUNDLE_NAME</th>\n",
       "      <th>BUNDLE_GROUP</th>\n",
       "      <th>TP_CATEGORY</th>\n",
       "      <th>NO_OF_SUBSCRIPTIONS</th>\n",
       "      <th>BUNDLE_REVENUE</th>\n",
       "      <th>ENHANCED_REFERENCE</th>\n",
       "      <th>REQUESTING_SYSTEM</th>\n",
       "    </tr>\n",
       "  </thead>\n",
       "  <tbody>\n",
       "    <tr>\n",
       "      <th>0</th>\n",
       "      <td>01/03/2022 00:00:00</td>\n",
       "      <td>2022-03-01</td>\n",
       "      <td>6906269227</td>\n",
       "      <td>Voice/SMS Bundle CU Combo 500+100 Subscription</td>\n",
       "      <td>CU COMBO</td>\n",
       "      <td>CU</td>\n",
       "      <td>1</td>\n",
       "      <td>10.0</td>\n",
       "      <td>CUapp</td>\n",
       "      <td>CUapp</td>\n",
       "    </tr>\n",
       "    <tr>\n",
       "      <th>1</th>\n",
       "      <td>01/03/2022 00:00:00</td>\n",
       "      <td>2022-03-01</td>\n",
       "      <td>6906423181</td>\n",
       "      <td>Voice/SMS Bundle CU Combo 500+100 Subscription</td>\n",
       "      <td>CU COMBO</td>\n",
       "      <td>CU</td>\n",
       "      <td>1</td>\n",
       "      <td>10.0</td>\n",
       "      <td>RECUR</td>\n",
       "      <td>IVR</td>\n",
       "    </tr>\n",
       "    <tr>\n",
       "      <th>2</th>\n",
       "      <td>01/03/2022 00:00:00</td>\n",
       "      <td>2022-03-01</td>\n",
       "      <td>6906454111</td>\n",
       "      <td>Voice/SMS Bundle CU Combo 500+100 Subscription</td>\n",
       "      <td>CU COMBO</td>\n",
       "      <td>CU</td>\n",
       "      <td>1</td>\n",
       "      <td>10.0</td>\n",
       "      <td>CUsite</td>\n",
       "      <td>CUsite</td>\n",
       "    </tr>\n",
       "    <tr>\n",
       "      <th>3</th>\n",
       "      <td>01/03/2022 00:00:00</td>\n",
       "      <td>2022-03-01</td>\n",
       "      <td>6906604729</td>\n",
       "      <td>Voice/SMS Bundle CU Combo 500+100 Subscription</td>\n",
       "      <td>CU COMBO</td>\n",
       "      <td>CU</td>\n",
       "      <td>1</td>\n",
       "      <td>10.0</td>\n",
       "      <td>CUapp</td>\n",
       "      <td>CUapp</td>\n",
       "    </tr>\n",
       "    <tr>\n",
       "      <th>4</th>\n",
       "      <td>01/03/2022 00:00:00</td>\n",
       "      <td>2022-03-01</td>\n",
       "      <td>6906663027</td>\n",
       "      <td>Voice/SMS Bundle CU Combo 500+100 Subscription</td>\n",
       "      <td>CU COMBO</td>\n",
       "      <td>CU</td>\n",
       "      <td>1</td>\n",
       "      <td>10.0</td>\n",
       "      <td>IVR</td>\n",
       "      <td>IVR</td>\n",
       "    </tr>\n",
       "  </tbody>\n",
       "</table>\n",
       "</div>"
      ],
      "text/plain": [
       "                 MONTH  DAY_MONTH      MSISDN  \\\n",
       "0  01/03/2022 00:00:00 2022-03-01  6906269227   \n",
       "1  01/03/2022 00:00:00 2022-03-01  6906423181   \n",
       "2  01/03/2022 00:00:00 2022-03-01  6906454111   \n",
       "3  01/03/2022 00:00:00 2022-03-01  6906604729   \n",
       "4  01/03/2022 00:00:00 2022-03-01  6906663027   \n",
       "\n",
       "                                      BUNDLE_NAME BUNDLE_GROUP TP_CATEGORY  \\\n",
       "0  Voice/SMS Bundle CU Combo 500+100 Subscription     CU COMBO          CU   \n",
       "1  Voice/SMS Bundle CU Combo 500+100 Subscription     CU COMBO          CU   \n",
       "2  Voice/SMS Bundle CU Combo 500+100 Subscription     CU COMBO          CU   \n",
       "3  Voice/SMS Bundle CU Combo 500+100 Subscription     CU COMBO          CU   \n",
       "4  Voice/SMS Bundle CU Combo 500+100 Subscription     CU COMBO          CU   \n",
       "\n",
       "   NO_OF_SUBSCRIPTIONS  BUNDLE_REVENUE ENHANCED_REFERENCE REQUESTING_SYSTEM  \n",
       "0                    1            10.0              CUapp             CUapp  \n",
       "1                    1            10.0              RECUR               IVR  \n",
       "2                    1            10.0             CUsite            CUsite  \n",
       "3                    1            10.0              CUapp             CUapp  \n",
       "4                    1            10.0                IVR               IVR  "
      ]
     },
     "execution_count": 161,
     "metadata": {},
     "output_type": "execute_result"
    }
   ],
   "source": [
    "mask_mar_ns.head()"
   ]
  },
  {
   "cell_type": "markdown",
   "metadata": {},
   "source": [
    "# APPEND TWO Y DATASETS"
   ]
  },
  {
   "cell_type": "markdown",
   "metadata": {},
   "source": [
    "# MARCH"
   ]
  },
  {
   "cell_type": "code",
   "execution_count": 162,
   "metadata": {},
   "outputs": [
    {
     "data": {
      "text/plain": [
       "(437973, 10)"
      ]
     },
     "execution_count": 162,
     "metadata": {},
     "output_type": "execute_result"
    },
    {
     "data": {
      "text/plain": [
       "(191954, 3)"
      ]
     },
     "execution_count": 162,
     "metadata": {},
     "output_type": "execute_result"
    }
   ],
   "source": [
    "mask_mar_ns.shape\n",
    "mask_mar_students.shape"
   ]
  },
  {
   "cell_type": "code",
   "execution_count": 163,
   "metadata": {},
   "outputs": [
    {
     "data": {
      "text/plain": [
       "(629927, 10)"
      ]
     },
     "execution_count": 163,
     "metadata": {},
     "output_type": "execute_result"
    }
   ],
   "source": [
    "# Append two y datasets and drop duplicates\n",
    "mask_mar = mask_mar_ns.append(other=mask_mar_students, ignore_index=True)\n",
    "mask_mar.shape"
   ]
  },
  {
   "cell_type": "code",
   "execution_count": 164,
   "metadata": {},
   "outputs": [
    {
     "data": {
      "text/plain": [
       "(55540, 10)"
      ]
     },
     "execution_count": 164,
     "metadata": {},
     "output_type": "execute_result"
    }
   ],
   "source": [
    "mask_mar[mask_mar[\"MSISDN\"].duplicated()].shape"
   ]
  },
  {
   "cell_type": "markdown",
   "metadata": {},
   "source": [
    "# APRIL"
   ]
  },
  {
   "cell_type": "code",
   "execution_count": 165,
   "metadata": {},
   "outputs": [
    {
     "data": {
      "text/plain": [
       "(411949, 10)"
      ]
     },
     "execution_count": 165,
     "metadata": {},
     "output_type": "execute_result"
    },
    {
     "data": {
      "text/plain": [
       "(185874, 3)"
      ]
     },
     "execution_count": 165,
     "metadata": {},
     "output_type": "execute_result"
    }
   ],
   "source": [
    "mask_apr_ns.shape\n",
    "mask_apr_students.shape"
   ]
  },
  {
   "cell_type": "code",
   "execution_count": 166,
   "metadata": {},
   "outputs": [
    {
     "data": {
      "text/plain": [
       "(597823, 10)"
      ]
     },
     "execution_count": 166,
     "metadata": {},
     "output_type": "execute_result"
    }
   ],
   "source": [
    "# Append two y datasets and drop duplicates\n",
    "mask_apr = mask_apr_ns.append(other=mask_apr_students, ignore_index=True)\n",
    "mask_apr.shape"
   ]
  },
  {
   "cell_type": "code",
   "execution_count": 167,
   "metadata": {},
   "outputs": [
    {
     "data": {
      "text/plain": [
       "(35368, 10)"
      ]
     },
     "execution_count": 167,
     "metadata": {},
     "output_type": "execute_result"
    }
   ],
   "source": [
    "mask_apr[mask_apr[\"MSISDN\"].duplicated()].shape"
   ]
  },
  {
   "cell_type": "markdown",
   "metadata": {},
   "source": [
    "# MAY"
   ]
  },
  {
   "cell_type": "code",
   "execution_count": 168,
   "metadata": {},
   "outputs": [
    {
     "data": {
      "text/plain": [
       "(414296, 10)"
      ]
     },
     "execution_count": 168,
     "metadata": {},
     "output_type": "execute_result"
    },
    {
     "data": {
      "text/plain": [
       "(194589, 3)"
      ]
     },
     "execution_count": 168,
     "metadata": {},
     "output_type": "execute_result"
    }
   ],
   "source": [
    "mask_may_ns.shape\n",
    "mask_may_students.shape"
   ]
  },
  {
   "cell_type": "code",
   "execution_count": 169,
   "metadata": {},
   "outputs": [
    {
     "data": {
      "text/plain": [
       "(608885, 10)"
      ]
     },
     "execution_count": 169,
     "metadata": {},
     "output_type": "execute_result"
    }
   ],
   "source": [
    "# Append two y datasets and drop duplicates\n",
    "mask_may = mask_may_ns.append(other=mask_may_students, ignore_index=True)\n",
    "mask_may.shape"
   ]
  },
  {
   "cell_type": "code",
   "execution_count": 170,
   "metadata": {},
   "outputs": [
    {
     "data": {
      "text/plain": [
       "(42521, 10)"
      ]
     },
     "execution_count": 170,
     "metadata": {},
     "output_type": "execute_result"
    }
   ],
   "source": [
    "mask_may[mask_may[\"MSISDN\"].duplicated()].shape"
   ]
  },
  {
   "cell_type": "markdown",
   "metadata": {},
   "source": [
    "# DEFINE MY DATASET FOR PROCESSING"
   ]
  },
  {
   "cell_type": "code",
   "execution_count": 171,
   "metadata": {},
   "outputs": [],
   "source": [
    "# MARCH\n",
    "mask_prev = mask_mar\n",
    "mask_next = mask_apr\n",
    "\n",
    "out_dir = 'C:/Users/zagkoui/OneDrive - Vodafone Group/Documents/HIGHER_BUNDLES/database_y/Y_MAR_APR_22.csv'\n",
    "\n",
    "# APRIL\n",
    "# mask_prev = mask_apr\n",
    "# mask_next = mask_may\n",
    "\n",
    "# out_dir = 'C:/Users/zagkoui/OneDrive - Vodafone Group/Documents/HIGHER_BUNDLES/database_y/Y_APR_MAY_22.csv'"
   ]
  },
  {
   "cell_type": "code",
   "execution_count": 172,
   "metadata": {},
   "outputs": [
    {
     "data": {
      "text/plain": [
       "Voice/SMS Bundle CU Combo 500+100 Subscription        375141\n",
       "Combo Bundle CU Student Xclusive 7 Subscription       134460\n",
       "Combo Bundle CU 10E Subscription                       49288\n",
       "Combo Bundle CU Student Xclusive 10 Subscription       35539\n",
       "Combo Bundle CU Student Xclusive 12 Subscription       20839\n",
       "Combo Bundle CU 700+700+700MB Subscription             13109\n",
       "Combo Bundle CU Student Xclusive 17.5 Subscription      1116\n",
       "Combo Bundle CU 13E Subscription                         435\n",
       "Name: BUNDLE_NAME, dtype: int64"
      ]
     },
     "execution_count": 172,
     "metadata": {},
     "output_type": "execute_result"
    }
   ],
   "source": [
    "mask_prev[\"BUNDLE_NAME\"].value_counts()"
   ]
  },
  {
   "cell_type": "code",
   "execution_count": 173,
   "metadata": {},
   "outputs": [
    {
     "data": {
      "text/plain": [
       "Voice/SMS Bundle CU Combo 500+100 Subscription        323914\n",
       "Combo Bundle CU Student Xclusive 7 Subscription       130300\n",
       "Combo Bundle CU 10E Subscription                       40112\n",
       "Combo Bundle CU Student Xclusive 10 Subscription       36045\n",
       "Combo Bundle CU 13E Subscription                       28946\n",
       "Combo Bundle CU 700+700+700MB Subscription             18977\n",
       "Combo Bundle CU Student Xclusive 12 Subscription       17855\n",
       "Combo Bundle CU Student Xclusive 17.5 Subscription      1674\n",
       "Name: BUNDLE_NAME, dtype: int64"
      ]
     },
     "execution_count": 173,
     "metadata": {},
     "output_type": "execute_result"
    }
   ],
   "source": [
    "mask_next[\"BUNDLE_NAME\"].value_counts()"
   ]
  },
  {
   "cell_type": "markdown",
   "metadata": {},
   "source": [
    "# ADD PRICE COLUMN"
   ]
  },
  {
   "cell_type": "code",
   "execution_count": 174,
   "metadata": {},
   "outputs": [
    {
     "data": {
      "text/html": [
       "<div>\n",
       "<style scoped>\n",
       "    .dataframe tbody tr th:only-of-type {\n",
       "        vertical-align: middle;\n",
       "    }\n",
       "\n",
       "    .dataframe tbody tr th {\n",
       "        vertical-align: top;\n",
       "    }\n",
       "\n",
       "    .dataframe thead th {\n",
       "        text-align: right;\n",
       "    }\n",
       "</style>\n",
       "<table border=\"1\" class=\"dataframe\">\n",
       "  <thead>\n",
       "    <tr style=\"text-align: right;\">\n",
       "      <th></th>\n",
       "      <th>MONTH</th>\n",
       "      <th>DAY_MONTH</th>\n",
       "      <th>MSISDN</th>\n",
       "      <th>BUNDLE_NAME</th>\n",
       "      <th>BUNDLE_GROUP</th>\n",
       "      <th>TP_CATEGORY</th>\n",
       "      <th>NO_OF_SUBSCRIPTIONS</th>\n",
       "      <th>BUNDLE_REVENUE</th>\n",
       "      <th>ENHANCED_REFERENCE</th>\n",
       "      <th>REQUESTING_SYSTEM</th>\n",
       "      <th>BUNDLE_PRICE</th>\n",
       "    </tr>\n",
       "  </thead>\n",
       "  <tbody>\n",
       "    <tr>\n",
       "      <th>0</th>\n",
       "      <td>01/03/2022 00:00:00</td>\n",
       "      <td>2022-03-01</td>\n",
       "      <td>6906269227</td>\n",
       "      <td>Voice/SMS Bundle CU Combo 500+100 Subscription</td>\n",
       "      <td>CU COMBO</td>\n",
       "      <td>CU</td>\n",
       "      <td>1.0</td>\n",
       "      <td>10.0</td>\n",
       "      <td>CUapp</td>\n",
       "      <td>CUapp</td>\n",
       "      <td>10.0</td>\n",
       "    </tr>\n",
       "    <tr>\n",
       "      <th>1</th>\n",
       "      <td>01/03/2022 00:00:00</td>\n",
       "      <td>2022-03-01</td>\n",
       "      <td>6906423181</td>\n",
       "      <td>Voice/SMS Bundle CU Combo 500+100 Subscription</td>\n",
       "      <td>CU COMBO</td>\n",
       "      <td>CU</td>\n",
       "      <td>1.0</td>\n",
       "      <td>10.0</td>\n",
       "      <td>RECUR</td>\n",
       "      <td>IVR</td>\n",
       "      <td>10.0</td>\n",
       "    </tr>\n",
       "    <tr>\n",
       "      <th>2</th>\n",
       "      <td>01/03/2022 00:00:00</td>\n",
       "      <td>2022-03-01</td>\n",
       "      <td>6906454111</td>\n",
       "      <td>Voice/SMS Bundle CU Combo 500+100 Subscription</td>\n",
       "      <td>CU COMBO</td>\n",
       "      <td>CU</td>\n",
       "      <td>1.0</td>\n",
       "      <td>10.0</td>\n",
       "      <td>CUsite</td>\n",
       "      <td>CUsite</td>\n",
       "      <td>10.0</td>\n",
       "    </tr>\n",
       "    <tr>\n",
       "      <th>3</th>\n",
       "      <td>01/03/2022 00:00:00</td>\n",
       "      <td>2022-03-01</td>\n",
       "      <td>6906604729</td>\n",
       "      <td>Voice/SMS Bundle CU Combo 500+100 Subscription</td>\n",
       "      <td>CU COMBO</td>\n",
       "      <td>CU</td>\n",
       "      <td>1.0</td>\n",
       "      <td>10.0</td>\n",
       "      <td>CUapp</td>\n",
       "      <td>CUapp</td>\n",
       "      <td>10.0</td>\n",
       "    </tr>\n",
       "    <tr>\n",
       "      <th>4</th>\n",
       "      <td>01/03/2022 00:00:00</td>\n",
       "      <td>2022-03-01</td>\n",
       "      <td>6906663027</td>\n",
       "      <td>Voice/SMS Bundle CU Combo 500+100 Subscription</td>\n",
       "      <td>CU COMBO</td>\n",
       "      <td>CU</td>\n",
       "      <td>1.0</td>\n",
       "      <td>10.0</td>\n",
       "      <td>IVR</td>\n",
       "      <td>IVR</td>\n",
       "      <td>10.0</td>\n",
       "    </tr>\n",
       "  </tbody>\n",
       "</table>\n",
       "</div>"
      ],
      "text/plain": [
       "                 MONTH  DAY_MONTH      MSISDN  \\\n",
       "0  01/03/2022 00:00:00 2022-03-01  6906269227   \n",
       "1  01/03/2022 00:00:00 2022-03-01  6906423181   \n",
       "2  01/03/2022 00:00:00 2022-03-01  6906454111   \n",
       "3  01/03/2022 00:00:00 2022-03-01  6906604729   \n",
       "4  01/03/2022 00:00:00 2022-03-01  6906663027   \n",
       "\n",
       "                                      BUNDLE_NAME BUNDLE_GROUP TP_CATEGORY  \\\n",
       "0  Voice/SMS Bundle CU Combo 500+100 Subscription     CU COMBO          CU   \n",
       "1  Voice/SMS Bundle CU Combo 500+100 Subscription     CU COMBO          CU   \n",
       "2  Voice/SMS Bundle CU Combo 500+100 Subscription     CU COMBO          CU   \n",
       "3  Voice/SMS Bundle CU Combo 500+100 Subscription     CU COMBO          CU   \n",
       "4  Voice/SMS Bundle CU Combo 500+100 Subscription     CU COMBO          CU   \n",
       "\n",
       "   NO_OF_SUBSCRIPTIONS  BUNDLE_REVENUE ENHANCED_REFERENCE REQUESTING_SYSTEM  \\\n",
       "0                  1.0            10.0              CUapp             CUapp   \n",
       "1                  1.0            10.0              RECUR               IVR   \n",
       "2                  1.0            10.0             CUsite            CUsite   \n",
       "3                  1.0            10.0              CUapp             CUapp   \n",
       "4                  1.0            10.0                IVR               IVR   \n",
       "\n",
       "   BUNDLE_PRICE  \n",
       "0          10.0  \n",
       "1          10.0  \n",
       "2          10.0  \n",
       "3          10.0  \n",
       "4          10.0  "
      ]
     },
     "execution_count": 174,
     "metadata": {},
     "output_type": "execute_result"
    }
   ],
   "source": [
    "# create a list of our conditions\n",
    "conditions = [\n",
    "    ((mask_prev[\"BUNDLE_NAME\"] == 'Voice/SMS Bundle CU Combo 500+100 Subscription') | (mask_prev[\"BUNDLE_NAME\"] == 'Combo Bundle CU Student Xclusive 10 Subscription')),\n",
    "    ((mask_prev[\"BUNDLE_NAME\"] == 'Combo Bundle CU 10E Subscription') | (mask_prev[\"BUNDLE_NAME\"] == 'Combo Bundle CU Student Xclusive 12 Subscription')),\n",
    "    (mask_prev[\"BUNDLE_NAME\"] == 'Combo Bundle CU 13E Subscription'),\n",
    "    (mask_prev[\"BUNDLE_NAME\"] == 'Combo Bundle CU 700+700+700MB Subscription'),\n",
    "    (mask_prev[\"BUNDLE_NAME\"] == 'Combo Bundle CU Student Xclusive 7 Subscription'),\n",
    "    (mask_prev[\"BUNDLE_NAME\"] == 'Combo Bundle CU Student Xclusive 17.5 Subscription')\n",
    "    ]\n",
    "\n",
    "# create a list of the values we want to assign for each condition\n",
    "values = [10, 12, 13.5, 15, 8.5, 17.5]\n",
    "\n",
    "# create a new column and use np.select to assign values to it using our lists as arguments\n",
    "mask_prev['BUNDLE_PRICE'] = np.select(conditions, values)\n",
    "\n",
    "\n",
    "# display updated DataFrame\n",
    "mask_prev.head()"
   ]
  },
  {
   "cell_type": "code",
   "execution_count": 175,
   "metadata": {},
   "outputs": [
    {
     "data": {
      "text/html": [
       "<div>\n",
       "<style scoped>\n",
       "    .dataframe tbody tr th:only-of-type {\n",
       "        vertical-align: middle;\n",
       "    }\n",
       "\n",
       "    .dataframe tbody tr th {\n",
       "        vertical-align: top;\n",
       "    }\n",
       "\n",
       "    .dataframe thead th {\n",
       "        text-align: right;\n",
       "    }\n",
       "</style>\n",
       "<table border=\"1\" class=\"dataframe\">\n",
       "  <thead>\n",
       "    <tr style=\"text-align: right;\">\n",
       "      <th></th>\n",
       "      <th>MONTH</th>\n",
       "      <th>DAY_MONTH</th>\n",
       "      <th>MSISDN</th>\n",
       "      <th>BUNDLE_NAME</th>\n",
       "      <th>BUNDLE_GROUP</th>\n",
       "      <th>TP_CATEGORY</th>\n",
       "      <th>NO_OF_SUBSCRIPTIONS</th>\n",
       "      <th>BUNDLE_REVENUE</th>\n",
       "      <th>ENHANCED_REFERENCE</th>\n",
       "      <th>REQUESTING_SYSTEM</th>\n",
       "      <th>BUNDLE_PRICE</th>\n",
       "    </tr>\n",
       "  </thead>\n",
       "  <tbody>\n",
       "    <tr>\n",
       "      <th>0</th>\n",
       "      <td>01/04/2022 00:00:00</td>\n",
       "      <td>2022-04-01</td>\n",
       "      <td>6907651352</td>\n",
       "      <td>Combo Bundle CU 10E Subscription</td>\n",
       "      <td>CU COMBO</td>\n",
       "      <td>CU</td>\n",
       "      <td>1.0</td>\n",
       "      <td>12.0</td>\n",
       "      <td>RECUR</td>\n",
       "      <td>VOP</td>\n",
       "      <td>12.0</td>\n",
       "    </tr>\n",
       "    <tr>\n",
       "      <th>1</th>\n",
       "      <td>01/04/2022 00:00:00</td>\n",
       "      <td>2022-04-01</td>\n",
       "      <td>6907914443</td>\n",
       "      <td>Voice/SMS Bundle CU Combo 500+100 Subscription</td>\n",
       "      <td>CU COMBO</td>\n",
       "      <td>CU</td>\n",
       "      <td>1.0</td>\n",
       "      <td>10.0</td>\n",
       "      <td>CUapp</td>\n",
       "      <td>CUapp</td>\n",
       "      <td>10.0</td>\n",
       "    </tr>\n",
       "    <tr>\n",
       "      <th>2</th>\n",
       "      <td>01/04/2022 00:00:00</td>\n",
       "      <td>2022-04-01</td>\n",
       "      <td>6908262003</td>\n",
       "      <td>Combo Bundle CU 10E Subscription</td>\n",
       "      <td>CU COMBO</td>\n",
       "      <td>CU</td>\n",
       "      <td>1.0</td>\n",
       "      <td>12.0</td>\n",
       "      <td>VF489</td>\n",
       "      <td>VFShop</td>\n",
       "      <td>12.0</td>\n",
       "    </tr>\n",
       "    <tr>\n",
       "      <th>3</th>\n",
       "      <td>01/04/2022 00:00:00</td>\n",
       "      <td>2022-04-01</td>\n",
       "      <td>6906151556</td>\n",
       "      <td>Voice/SMS Bundle CU Combo 500+100 Subscription</td>\n",
       "      <td>CU COMBO</td>\n",
       "      <td>CU</td>\n",
       "      <td>1.0</td>\n",
       "      <td>10.0</td>\n",
       "      <td>CUapp</td>\n",
       "      <td>CUapp</td>\n",
       "      <td>10.0</td>\n",
       "    </tr>\n",
       "    <tr>\n",
       "      <th>4</th>\n",
       "      <td>01/04/2022 00:00:00</td>\n",
       "      <td>2022-04-01</td>\n",
       "      <td>6943717431</td>\n",
       "      <td>Combo Bundle CU 13E Subscription</td>\n",
       "      <td>CU COMBO</td>\n",
       "      <td>CU</td>\n",
       "      <td>1.0</td>\n",
       "      <td>13.5</td>\n",
       "      <td>IVR</td>\n",
       "      <td>IVR</td>\n",
       "      <td>13.5</td>\n",
       "    </tr>\n",
       "  </tbody>\n",
       "</table>\n",
       "</div>"
      ],
      "text/plain": [
       "                 MONTH  DAY_MONTH      MSISDN  \\\n",
       "0  01/04/2022 00:00:00 2022-04-01  6907651352   \n",
       "1  01/04/2022 00:00:00 2022-04-01  6907914443   \n",
       "2  01/04/2022 00:00:00 2022-04-01  6908262003   \n",
       "3  01/04/2022 00:00:00 2022-04-01  6906151556   \n",
       "4  01/04/2022 00:00:00 2022-04-01  6943717431   \n",
       "\n",
       "                                      BUNDLE_NAME BUNDLE_GROUP TP_CATEGORY  \\\n",
       "0                Combo Bundle CU 10E Subscription     CU COMBO          CU   \n",
       "1  Voice/SMS Bundle CU Combo 500+100 Subscription     CU COMBO          CU   \n",
       "2                Combo Bundle CU 10E Subscription     CU COMBO          CU   \n",
       "3  Voice/SMS Bundle CU Combo 500+100 Subscription     CU COMBO          CU   \n",
       "4                Combo Bundle CU 13E Subscription     CU COMBO          CU   \n",
       "\n",
       "   NO_OF_SUBSCRIPTIONS  BUNDLE_REVENUE ENHANCED_REFERENCE REQUESTING_SYSTEM  \\\n",
       "0                  1.0            12.0              RECUR               VOP   \n",
       "1                  1.0            10.0              CUapp             CUapp   \n",
       "2                  1.0            12.0              VF489            VFShop   \n",
       "3                  1.0            10.0              CUapp             CUapp   \n",
       "4                  1.0            13.5                IVR               IVR   \n",
       "\n",
       "   BUNDLE_PRICE  \n",
       "0          12.0  \n",
       "1          10.0  \n",
       "2          12.0  \n",
       "3          10.0  \n",
       "4          13.5  "
      ]
     },
     "execution_count": 175,
     "metadata": {},
     "output_type": "execute_result"
    }
   ],
   "source": [
    "# create a list of our conditions\n",
    "conditions = [\n",
    "    ((mask_next[\"BUNDLE_NAME\"] == 'Voice/SMS Bundle CU Combo 500+100 Subscription') | (mask_next[\"BUNDLE_NAME\"] == 'Combo Bundle CU Student Xclusive 10 Subscription')),\n",
    "    ((mask_next[\"BUNDLE_NAME\"] == 'Combo Bundle CU 10E Subscription') | (mask_next[\"BUNDLE_NAME\"] == 'Combo Bundle CU Student Xclusive 12 Subscription')),\n",
    "    (mask_next[\"BUNDLE_NAME\"] == 'Combo Bundle CU 13E Subscription'),\n",
    "    (mask_next[\"BUNDLE_NAME\"] == 'Combo Bundle CU 700+700+700MB Subscription'),\n",
    "    (mask_next[\"BUNDLE_NAME\"] == 'Combo Bundle CU Student Xclusive 7 Subscription'),\n",
    "    (mask_next[\"BUNDLE_NAME\"] == 'Combo Bundle CU Student Xclusive 17.5 Subscription')\n",
    "    ]\n",
    "\n",
    "# create a list of the values we want to assign for each condition\n",
    "values = [10, 12, 13.5, 15, 8.5, 17.5]\n",
    "\n",
    "# create a new column and use np.select to assign values to it using our lists as arguments\n",
    "mask_next['BUNDLE_PRICE'] = np.select(conditions, values)\n",
    "\n",
    "\n",
    "# display updated DataFrame\n",
    "mask_next.head()"
   ]
  },
  {
   "cell_type": "markdown",
   "metadata": {},
   "source": [
    "# DUPLICATES"
   ]
  },
  {
   "cell_type": "markdown",
   "metadata": {},
   "source": [
    "# PREVIOUS"
   ]
  },
  {
   "cell_type": "code",
   "execution_count": 176,
   "metadata": {},
   "outputs": [
    {
     "data": {
      "text/plain": [
       "(103628, 11)"
      ]
     },
     "execution_count": 176,
     "metadata": {},
     "output_type": "execute_result"
    }
   ],
   "source": [
    "mask_prev[mask_prev[\"MSISDN\"].duplicated(keep=False)].shape"
   ]
  },
  {
   "cell_type": "code",
   "execution_count": 177,
   "metadata": {},
   "outputs": [],
   "source": [
    "mask_prev = mask_prev.sort_values(by=['MSISDN'])"
   ]
  },
  {
   "cell_type": "code",
   "execution_count": 178,
   "metadata": {},
   "outputs": [
    {
     "data": {
      "text/html": [
       "<div>\n",
       "<style scoped>\n",
       "    .dataframe tbody tr th:only-of-type {\n",
       "        vertical-align: middle;\n",
       "    }\n",
       "\n",
       "    .dataframe tbody tr th {\n",
       "        vertical-align: top;\n",
       "    }\n",
       "\n",
       "    .dataframe thead th {\n",
       "        text-align: right;\n",
       "    }\n",
       "</style>\n",
       "<table border=\"1\" class=\"dataframe\">\n",
       "  <thead>\n",
       "    <tr style=\"text-align: right;\">\n",
       "      <th></th>\n",
       "      <th>MONTH</th>\n",
       "      <th>DAY_MONTH</th>\n",
       "      <th>MSISDN</th>\n",
       "      <th>BUNDLE_NAME</th>\n",
       "      <th>BUNDLE_GROUP</th>\n",
       "      <th>TP_CATEGORY</th>\n",
       "      <th>NO_OF_SUBSCRIPTIONS</th>\n",
       "      <th>BUNDLE_REVENUE</th>\n",
       "      <th>ENHANCED_REFERENCE</th>\n",
       "      <th>REQUESTING_SYSTEM</th>\n",
       "      <th>BUNDLE_PRICE</th>\n",
       "    </tr>\n",
       "  </thead>\n",
       "  <tbody>\n",
       "    <tr>\n",
       "      <th>206902</th>\n",
       "      <td>01/03/2022 00:00:00</td>\n",
       "      <td>2022-03-05</td>\n",
       "      <td>6906006344</td>\n",
       "      <td>Voice/SMS Bundle CU Combo 500+100 Subscription</td>\n",
       "      <td>CU COMBO</td>\n",
       "      <td>CU</td>\n",
       "      <td>1.0</td>\n",
       "      <td>10.0</td>\n",
       "      <td>VE284</td>\n",
       "      <td>VFShop</td>\n",
       "      <td>10.0</td>\n",
       "    </tr>\n",
       "    <tr>\n",
       "      <th>42785</th>\n",
       "      <td>01/03/2022 00:00:00</td>\n",
       "      <td>2022-03-19</td>\n",
       "      <td>6906006344</td>\n",
       "      <td>Voice/SMS Bundle CU Combo 500+100 Subscription</td>\n",
       "      <td>CU COMBO</td>\n",
       "      <td>CU</td>\n",
       "      <td>1.0</td>\n",
       "      <td>10.0</td>\n",
       "      <td>VE284</td>\n",
       "      <td>VFShop</td>\n",
       "      <td>10.0</td>\n",
       "    </tr>\n",
       "    <tr>\n",
       "      <th>504030</th>\n",
       "      <td>NaN</td>\n",
       "      <td>2022-03-01</td>\n",
       "      <td>6906053943</td>\n",
       "      <td>Combo Bundle CU Student Xclusive 7 Subscription</td>\n",
       "      <td>NaN</td>\n",
       "      <td>NaN</td>\n",
       "      <td>NaN</td>\n",
       "      <td>NaN</td>\n",
       "      <td>NaN</td>\n",
       "      <td>NaN</td>\n",
       "      <td>8.5</td>\n",
       "    </tr>\n",
       "    <tr>\n",
       "      <th>602253</th>\n",
       "      <td>NaN</td>\n",
       "      <td>2022-03-29</td>\n",
       "      <td>6906053943</td>\n",
       "      <td>Combo Bundle CU Student Xclusive 7 Subscription</td>\n",
       "      <td>NaN</td>\n",
       "      <td>NaN</td>\n",
       "      <td>NaN</td>\n",
       "      <td>NaN</td>\n",
       "      <td>NaN</td>\n",
       "      <td>NaN</td>\n",
       "      <td>8.5</td>\n",
       "    </tr>\n",
       "    <tr>\n",
       "      <th>417245</th>\n",
       "      <td>01/03/2022 00:00:00</td>\n",
       "      <td>2022-03-24</td>\n",
       "      <td>6906057102</td>\n",
       "      <td>Voice/SMS Bundle CU Combo 500+100 Subscription</td>\n",
       "      <td>CU COMBO</td>\n",
       "      <td>CU</td>\n",
       "      <td>1.0</td>\n",
       "      <td>10.0</td>\n",
       "      <td>CUapp</td>\n",
       "      <td>CUapp</td>\n",
       "      <td>10.0</td>\n",
       "    </tr>\n",
       "  </tbody>\n",
       "</table>\n",
       "</div>"
      ],
      "text/plain": [
       "                      MONTH  DAY_MONTH      MSISDN  \\\n",
       "206902  01/03/2022 00:00:00 2022-03-05  6906006344   \n",
       "42785   01/03/2022 00:00:00 2022-03-19  6906006344   \n",
       "504030                  NaN 2022-03-01  6906053943   \n",
       "602253                  NaN 2022-03-29  6906053943   \n",
       "417245  01/03/2022 00:00:00 2022-03-24  6906057102   \n",
       "\n",
       "                                            BUNDLE_NAME BUNDLE_GROUP  \\\n",
       "206902   Voice/SMS Bundle CU Combo 500+100 Subscription     CU COMBO   \n",
       "42785    Voice/SMS Bundle CU Combo 500+100 Subscription     CU COMBO   \n",
       "504030  Combo Bundle CU Student Xclusive 7 Subscription          NaN   \n",
       "602253  Combo Bundle CU Student Xclusive 7 Subscription          NaN   \n",
       "417245   Voice/SMS Bundle CU Combo 500+100 Subscription     CU COMBO   \n",
       "\n",
       "       TP_CATEGORY  NO_OF_SUBSCRIPTIONS  BUNDLE_REVENUE ENHANCED_REFERENCE  \\\n",
       "206902          CU                  1.0            10.0              VE284   \n",
       "42785           CU                  1.0            10.0              VE284   \n",
       "504030         NaN                  NaN             NaN                NaN   \n",
       "602253         NaN                  NaN             NaN                NaN   \n",
       "417245          CU                  1.0            10.0              CUapp   \n",
       "\n",
       "       REQUESTING_SYSTEM  BUNDLE_PRICE  \n",
       "206902            VFShop          10.0  \n",
       "42785             VFShop          10.0  \n",
       "504030               NaN           8.5  \n",
       "602253               NaN           8.5  \n",
       "417245             CUapp          10.0  "
      ]
     },
     "execution_count": 178,
     "metadata": {},
     "output_type": "execute_result"
    }
   ],
   "source": [
    "prev_duplicates = mask_prev[mask_prev[\"MSISDN\"].duplicated(keep=False)]\n",
    "prev_duplicates.head()"
   ]
  },
  {
   "cell_type": "code",
   "execution_count": 179,
   "metadata": {
    "scrolled": true
   },
   "outputs": [
    {
     "data": {
      "text/plain": [
       "2     42686\n",
       "3      4103\n",
       "4       881\n",
       "5       251\n",
       "6        90\n",
       "7        39\n",
       "8        19\n",
       "9         7\n",
       "11        5\n",
       "10        4\n",
       "17        1\n",
       "16        1\n",
       "12        1\n",
       "dtype: int64"
      ]
     },
     "execution_count": 179,
     "metadata": {},
     "output_type": "execute_result"
    }
   ],
   "source": [
    "# count how many bundles purchased customers with more than 1\n",
    "prev_duplicates.groupby(by=[\"MSISDN\"]).size().value_counts()"
   ]
  },
  {
   "cell_type": "markdown",
   "metadata": {},
   "source": [
    "# Keep the higher bundle that purchased"
   ]
  },
  {
   "cell_type": "code",
   "execution_count": 180,
   "metadata": {
    "collapsed": true
   },
   "outputs": [
    {
     "data": {
      "text/html": [
       "<div>\n",
       "<style scoped>\n",
       "    .dataframe tbody tr th:only-of-type {\n",
       "        vertical-align: middle;\n",
       "    }\n",
       "\n",
       "    .dataframe tbody tr th {\n",
       "        vertical-align: top;\n",
       "    }\n",
       "\n",
       "    .dataframe thead th {\n",
       "        text-align: right;\n",
       "    }\n",
       "</style>\n",
       "<table border=\"1\" class=\"dataframe\">\n",
       "  <thead>\n",
       "    <tr style=\"text-align: right;\">\n",
       "      <th></th>\n",
       "      <th>MONTH</th>\n",
       "      <th>DAY_MONTH</th>\n",
       "      <th>MSISDN</th>\n",
       "      <th>BUNDLE_NAME</th>\n",
       "      <th>BUNDLE_GROUP</th>\n",
       "      <th>TP_CATEGORY</th>\n",
       "      <th>NO_OF_SUBSCRIPTIONS</th>\n",
       "      <th>BUNDLE_REVENUE</th>\n",
       "      <th>ENHANCED_REFERENCE</th>\n",
       "      <th>REQUESTING_SYSTEM</th>\n",
       "      <th>BUNDLE_PRICE</th>\n",
       "    </tr>\n",
       "  </thead>\n",
       "  <tbody>\n",
       "    <tr>\n",
       "      <th>482507</th>\n",
       "      <td>NaN</td>\n",
       "      <td>2022-03-13</td>\n",
       "      <td>6940624999</td>\n",
       "      <td>Combo Bundle CU Student Xclusive 17.5 Subscrip...</td>\n",
       "      <td>NaN</td>\n",
       "      <td>NaN</td>\n",
       "      <td>NaN</td>\n",
       "      <td>NaN</td>\n",
       "      <td>NaN</td>\n",
       "      <td>NaN</td>\n",
       "      <td>17.5</td>\n",
       "    </tr>\n",
       "    <tr>\n",
       "      <th>560643</th>\n",
       "      <td>NaN</td>\n",
       "      <td>2022-03-27</td>\n",
       "      <td>6970838096</td>\n",
       "      <td>Combo Bundle CU Student Xclusive 17.5 Subscrip...</td>\n",
       "      <td>NaN</td>\n",
       "      <td>NaN</td>\n",
       "      <td>NaN</td>\n",
       "      <td>NaN</td>\n",
       "      <td>NaN</td>\n",
       "      <td>NaN</td>\n",
       "      <td>17.5</td>\n",
       "    </tr>\n",
       "    <tr>\n",
       "      <th>618137</th>\n",
       "      <td>NaN</td>\n",
       "      <td>2022-03-15</td>\n",
       "      <td>6970984522</td>\n",
       "      <td>Combo Bundle CU Student Xclusive 17.5 Subscrip...</td>\n",
       "      <td>NaN</td>\n",
       "      <td>NaN</td>\n",
       "      <td>NaN</td>\n",
       "      <td>NaN</td>\n",
       "      <td>NaN</td>\n",
       "      <td>NaN</td>\n",
       "      <td>17.5</td>\n",
       "    </tr>\n",
       "    <tr>\n",
       "      <th>560696</th>\n",
       "      <td>NaN</td>\n",
       "      <td>2022-03-13</td>\n",
       "      <td>6942528833</td>\n",
       "      <td>Combo Bundle CU Student Xclusive 17.5 Subscrip...</td>\n",
       "      <td>NaN</td>\n",
       "      <td>NaN</td>\n",
       "      <td>NaN</td>\n",
       "      <td>NaN</td>\n",
       "      <td>NaN</td>\n",
       "      <td>NaN</td>\n",
       "      <td>17.5</td>\n",
       "    </tr>\n",
       "    <tr>\n",
       "      <th>553131</th>\n",
       "      <td>NaN</td>\n",
       "      <td>2022-03-17</td>\n",
       "      <td>6948685420</td>\n",
       "      <td>Combo Bundle CU Student Xclusive 17.5 Subscrip...</td>\n",
       "      <td>NaN</td>\n",
       "      <td>NaN</td>\n",
       "      <td>NaN</td>\n",
       "      <td>NaN</td>\n",
       "      <td>NaN</td>\n",
       "      <td>NaN</td>\n",
       "      <td>17.5</td>\n",
       "    </tr>\n",
       "    <tr>\n",
       "      <th>...</th>\n",
       "      <td>...</td>\n",
       "      <td>...</td>\n",
       "      <td>...</td>\n",
       "      <td>...</td>\n",
       "      <td>...</td>\n",
       "      <td>...</td>\n",
       "      <td>...</td>\n",
       "      <td>...</td>\n",
       "      <td>...</td>\n",
       "      <td>...</td>\n",
       "      <td>...</td>\n",
       "    </tr>\n",
       "    <tr>\n",
       "      <th>477280</th>\n",
       "      <td>NaN</td>\n",
       "      <td>2022-03-06</td>\n",
       "      <td>6955854688</td>\n",
       "      <td>Combo Bundle CU Student Xclusive 7 Subscription</td>\n",
       "      <td>NaN</td>\n",
       "      <td>NaN</td>\n",
       "      <td>NaN</td>\n",
       "      <td>NaN</td>\n",
       "      <td>NaN</td>\n",
       "      <td>NaN</td>\n",
       "      <td>8.5</td>\n",
       "    </tr>\n",
       "    <tr>\n",
       "      <th>549077</th>\n",
       "      <td>NaN</td>\n",
       "      <td>2022-03-10</td>\n",
       "      <td>6947215939</td>\n",
       "      <td>Combo Bundle CU Student Xclusive 7 Subscription</td>\n",
       "      <td>NaN</td>\n",
       "      <td>NaN</td>\n",
       "      <td>NaN</td>\n",
       "      <td>NaN</td>\n",
       "      <td>NaN</td>\n",
       "      <td>NaN</td>\n",
       "      <td>8.5</td>\n",
       "    </tr>\n",
       "    <tr>\n",
       "      <th>562458</th>\n",
       "      <td>NaN</td>\n",
       "      <td>2022-03-11</td>\n",
       "      <td>6955854675</td>\n",
       "      <td>Combo Bundle CU Student Xclusive 7 Subscription</td>\n",
       "      <td>NaN</td>\n",
       "      <td>NaN</td>\n",
       "      <td>NaN</td>\n",
       "      <td>NaN</td>\n",
       "      <td>NaN</td>\n",
       "      <td>NaN</td>\n",
       "      <td>8.5</td>\n",
       "    </tr>\n",
       "    <tr>\n",
       "      <th>523609</th>\n",
       "      <td>NaN</td>\n",
       "      <td>2022-03-19</td>\n",
       "      <td>6942281903</td>\n",
       "      <td>Combo Bundle CU Student Xclusive 7 Subscription</td>\n",
       "      <td>NaN</td>\n",
       "      <td>NaN</td>\n",
       "      <td>NaN</td>\n",
       "      <td>NaN</td>\n",
       "      <td>NaN</td>\n",
       "      <td>NaN</td>\n",
       "      <td>8.5</td>\n",
       "    </tr>\n",
       "    <tr>\n",
       "      <th>480615</th>\n",
       "      <td>NaN</td>\n",
       "      <td>2022-03-03</td>\n",
       "      <td>6946249473</td>\n",
       "      <td>Combo Bundle CU Student Xclusive 7 Subscription</td>\n",
       "      <td>NaN</td>\n",
       "      <td>NaN</td>\n",
       "      <td>NaN</td>\n",
       "      <td>NaN</td>\n",
       "      <td>NaN</td>\n",
       "      <td>NaN</td>\n",
       "      <td>8.5</td>\n",
       "    </tr>\n",
       "  </tbody>\n",
       "</table>\n",
       "<p>629927 rows × 11 columns</p>\n",
       "</div>"
      ],
      "text/plain": [
       "       MONTH  DAY_MONTH      MSISDN  \\\n",
       "482507   NaN 2022-03-13  6940624999   \n",
       "560643   NaN 2022-03-27  6970838096   \n",
       "618137   NaN 2022-03-15  6970984522   \n",
       "560696   NaN 2022-03-13  6942528833   \n",
       "553131   NaN 2022-03-17  6948685420   \n",
       "...      ...        ...         ...   \n",
       "477280   NaN 2022-03-06  6955854688   \n",
       "549077   NaN 2022-03-10  6947215939   \n",
       "562458   NaN 2022-03-11  6955854675   \n",
       "523609   NaN 2022-03-19  6942281903   \n",
       "480615   NaN 2022-03-03  6946249473   \n",
       "\n",
       "                                              BUNDLE_NAME BUNDLE_GROUP  \\\n",
       "482507  Combo Bundle CU Student Xclusive 17.5 Subscrip...          NaN   \n",
       "560643  Combo Bundle CU Student Xclusive 17.5 Subscrip...          NaN   \n",
       "618137  Combo Bundle CU Student Xclusive 17.5 Subscrip...          NaN   \n",
       "560696  Combo Bundle CU Student Xclusive 17.5 Subscrip...          NaN   \n",
       "553131  Combo Bundle CU Student Xclusive 17.5 Subscrip...          NaN   \n",
       "...                                                   ...          ...   \n",
       "477280    Combo Bundle CU Student Xclusive 7 Subscription          NaN   \n",
       "549077    Combo Bundle CU Student Xclusive 7 Subscription          NaN   \n",
       "562458    Combo Bundle CU Student Xclusive 7 Subscription          NaN   \n",
       "523609    Combo Bundle CU Student Xclusive 7 Subscription          NaN   \n",
       "480615    Combo Bundle CU Student Xclusive 7 Subscription          NaN   \n",
       "\n",
       "       TP_CATEGORY  NO_OF_SUBSCRIPTIONS  BUNDLE_REVENUE ENHANCED_REFERENCE  \\\n",
       "482507         NaN                  NaN             NaN                NaN   \n",
       "560643         NaN                  NaN             NaN                NaN   \n",
       "618137         NaN                  NaN             NaN                NaN   \n",
       "560696         NaN                  NaN             NaN                NaN   \n",
       "553131         NaN                  NaN             NaN                NaN   \n",
       "...            ...                  ...             ...                ...   \n",
       "477280         NaN                  NaN             NaN                NaN   \n",
       "549077         NaN                  NaN             NaN                NaN   \n",
       "562458         NaN                  NaN             NaN                NaN   \n",
       "523609         NaN                  NaN             NaN                NaN   \n",
       "480615         NaN                  NaN             NaN                NaN   \n",
       "\n",
       "       REQUESTING_SYSTEM  BUNDLE_PRICE  \n",
       "482507               NaN          17.5  \n",
       "560643               NaN          17.5  \n",
       "618137               NaN          17.5  \n",
       "560696               NaN          17.5  \n",
       "553131               NaN          17.5  \n",
       "...                  ...           ...  \n",
       "477280               NaN           8.5  \n",
       "549077               NaN           8.5  \n",
       "562458               NaN           8.5  \n",
       "523609               NaN           8.5  \n",
       "480615               NaN           8.5  \n",
       "\n",
       "[629927 rows x 11 columns]"
      ]
     },
     "execution_count": 180,
     "metadata": {},
     "output_type": "execute_result"
    }
   ],
   "source": [
    "mask_prev.sort_values(by=['BUNDLE_PRICE'], ascending=False)"
   ]
  },
  {
   "cell_type": "code",
   "execution_count": 181,
   "metadata": {},
   "outputs": [],
   "source": [
    "mask_prev = mask_prev.drop_duplicates(subset=\"MSISDN\", keep=\"first\")"
   ]
  },
  {
   "cell_type": "code",
   "execution_count": 182,
   "metadata": {},
   "outputs": [
    {
     "data": {
      "text/plain": [
       "(0, 11)"
      ]
     },
     "execution_count": 182,
     "metadata": {},
     "output_type": "execute_result"
    }
   ],
   "source": [
    "mask_prev[mask_prev[\"MSISDN\"].duplicated(keep=False)].shape"
   ]
  },
  {
   "cell_type": "code",
   "execution_count": 183,
   "metadata": {},
   "outputs": [
    {
     "data": {
      "text/plain": [
       "10.0    372026\n",
       "8.5     127480\n",
       "12.0     63394\n",
       "15.0     10212\n",
       "17.5       933\n",
       "13.5       342\n",
       "Name: BUNDLE_PRICE, dtype: int64"
      ]
     },
     "execution_count": 183,
     "metadata": {},
     "output_type": "execute_result"
    }
   ],
   "source": [
    "mask_prev[\"BUNDLE_PRICE\"].value_counts()"
   ]
  },
  {
   "cell_type": "markdown",
   "metadata": {},
   "source": [
    "# NEXT"
   ]
  },
  {
   "cell_type": "code",
   "execution_count": 184,
   "metadata": {},
   "outputs": [
    {
     "data": {
      "text/plain": [
       "(66552, 11)"
      ]
     },
     "execution_count": 184,
     "metadata": {},
     "output_type": "execute_result"
    }
   ],
   "source": [
    "mask_next[mask_next[\"MSISDN\"].duplicated(keep=False)].shape"
   ]
  },
  {
   "cell_type": "code",
   "execution_count": 185,
   "metadata": {},
   "outputs": [],
   "source": [
    "mask_next = mask_next.sort_values(by=['MSISDN'])"
   ]
  },
  {
   "cell_type": "code",
   "execution_count": 186,
   "metadata": {},
   "outputs": [
    {
     "data": {
      "text/html": [
       "<div>\n",
       "<style scoped>\n",
       "    .dataframe tbody tr th:only-of-type {\n",
       "        vertical-align: middle;\n",
       "    }\n",
       "\n",
       "    .dataframe tbody tr th {\n",
       "        vertical-align: top;\n",
       "    }\n",
       "\n",
       "    .dataframe thead th {\n",
       "        text-align: right;\n",
       "    }\n",
       "</style>\n",
       "<table border=\"1\" class=\"dataframe\">\n",
       "  <thead>\n",
       "    <tr style=\"text-align: right;\">\n",
       "      <th></th>\n",
       "      <th>MONTH</th>\n",
       "      <th>DAY_MONTH</th>\n",
       "      <th>MSISDN</th>\n",
       "      <th>BUNDLE_NAME</th>\n",
       "      <th>BUNDLE_GROUP</th>\n",
       "      <th>TP_CATEGORY</th>\n",
       "      <th>NO_OF_SUBSCRIPTIONS</th>\n",
       "      <th>BUNDLE_REVENUE</th>\n",
       "      <th>ENHANCED_REFERENCE</th>\n",
       "      <th>REQUESTING_SYSTEM</th>\n",
       "      <th>BUNDLE_PRICE</th>\n",
       "    </tr>\n",
       "  </thead>\n",
       "  <tbody>\n",
       "    <tr>\n",
       "      <th>251110</th>\n",
       "      <td>01/04/2022 00:00:00</td>\n",
       "      <td>2022-04-08</td>\n",
       "      <td>6900036262</td>\n",
       "      <td>Combo Bundle CU 10E Subscription</td>\n",
       "      <td>CU COMBO</td>\n",
       "      <td>CU</td>\n",
       "      <td>1.0</td>\n",
       "      <td>12.0</td>\n",
       "      <td>CUapp</td>\n",
       "      <td>CUapp</td>\n",
       "      <td>12.0</td>\n",
       "    </tr>\n",
       "    <tr>\n",
       "      <th>392732</th>\n",
       "      <td>01/04/2022 00:00:00</td>\n",
       "      <td>2022-04-24</td>\n",
       "      <td>6900036262</td>\n",
       "      <td>Combo Bundle CU 13E Subscription</td>\n",
       "      <td>CU COMBO</td>\n",
       "      <td>CU</td>\n",
       "      <td>1.0</td>\n",
       "      <td>13.5</td>\n",
       "      <td>CUapp</td>\n",
       "      <td>CUapp</td>\n",
       "      <td>13.5</td>\n",
       "    </tr>\n",
       "    <tr>\n",
       "      <th>280584</th>\n",
       "      <td>01/04/2022 00:00:00</td>\n",
       "      <td>2022-04-11</td>\n",
       "      <td>6906057102</td>\n",
       "      <td>Combo Bundle CU 700+700+700MB Subscription</td>\n",
       "      <td>CU COMBO</td>\n",
       "      <td>CU</td>\n",
       "      <td>1.0</td>\n",
       "      <td>15.0</td>\n",
       "      <td>CUapp</td>\n",
       "      <td>CUapp</td>\n",
       "      <td>15.0</td>\n",
       "    </tr>\n",
       "    <tr>\n",
       "      <th>226676</th>\n",
       "      <td>01/04/2022 00:00:00</td>\n",
       "      <td>2022-04-05</td>\n",
       "      <td>6906057102</td>\n",
       "      <td>Voice/SMS Bundle CU Combo 500+100 Subscription</td>\n",
       "      <td>CU COMBO</td>\n",
       "      <td>CU</td>\n",
       "      <td>1.0</td>\n",
       "      <td>10.0</td>\n",
       "      <td>CUapp</td>\n",
       "      <td>CUapp</td>\n",
       "      <td>10.0</td>\n",
       "    </tr>\n",
       "    <tr>\n",
       "      <th>505074</th>\n",
       "      <td>NaN</td>\n",
       "      <td>2022-04-29</td>\n",
       "      <td>6906064957</td>\n",
       "      <td>Combo Bundle CU Student Xclusive 12 Subscription</td>\n",
       "      <td>NaN</td>\n",
       "      <td>NaN</td>\n",
       "      <td>NaN</td>\n",
       "      <td>NaN</td>\n",
       "      <td>NaN</td>\n",
       "      <td>NaN</td>\n",
       "      <td>12.0</td>\n",
       "    </tr>\n",
       "  </tbody>\n",
       "</table>\n",
       "</div>"
      ],
      "text/plain": [
       "                      MONTH  DAY_MONTH      MSISDN  \\\n",
       "251110  01/04/2022 00:00:00 2022-04-08  6900036262   \n",
       "392732  01/04/2022 00:00:00 2022-04-24  6900036262   \n",
       "280584  01/04/2022 00:00:00 2022-04-11  6906057102   \n",
       "226676  01/04/2022 00:00:00 2022-04-05  6906057102   \n",
       "505074                  NaN 2022-04-29  6906064957   \n",
       "\n",
       "                                             BUNDLE_NAME BUNDLE_GROUP  \\\n",
       "251110                  Combo Bundle CU 10E Subscription     CU COMBO   \n",
       "392732                  Combo Bundle CU 13E Subscription     CU COMBO   \n",
       "280584        Combo Bundle CU 700+700+700MB Subscription     CU COMBO   \n",
       "226676    Voice/SMS Bundle CU Combo 500+100 Subscription     CU COMBO   \n",
       "505074  Combo Bundle CU Student Xclusive 12 Subscription          NaN   \n",
       "\n",
       "       TP_CATEGORY  NO_OF_SUBSCRIPTIONS  BUNDLE_REVENUE ENHANCED_REFERENCE  \\\n",
       "251110          CU                  1.0            12.0              CUapp   \n",
       "392732          CU                  1.0            13.5              CUapp   \n",
       "280584          CU                  1.0            15.0              CUapp   \n",
       "226676          CU                  1.0            10.0              CUapp   \n",
       "505074         NaN                  NaN             NaN                NaN   \n",
       "\n",
       "       REQUESTING_SYSTEM  BUNDLE_PRICE  \n",
       "251110             CUapp          12.0  \n",
       "392732             CUapp          13.5  \n",
       "280584             CUapp          15.0  \n",
       "226676             CUapp          10.0  \n",
       "505074               NaN          12.0  "
      ]
     },
     "execution_count": 186,
     "metadata": {},
     "output_type": "execute_result"
    }
   ],
   "source": [
    "next_duplicates = mask_next[mask_next[\"MSISDN\"].duplicated(keep=False)]\n",
    "next_duplicates.head()"
   ]
  },
  {
   "cell_type": "code",
   "execution_count": 187,
   "metadata": {},
   "outputs": [
    {
     "data": {
      "text/plain": [
       "2     28050\n",
       "3      2443\n",
       "4       481\n",
       "5       131\n",
       "6        48\n",
       "7        13\n",
       "8         9\n",
       "10        3\n",
       "9         3\n",
       "11        2\n",
       "14        1\n",
       "dtype: int64"
      ]
     },
     "execution_count": 187,
     "metadata": {},
     "output_type": "execute_result"
    }
   ],
   "source": [
    "# count how many bundles purchased customers with more than 1\n",
    "next_duplicates.groupby(by=[\"MSISDN\"]).size().value_counts()"
   ]
  },
  {
   "cell_type": "markdown",
   "metadata": {},
   "source": [
    "# Keep the higher bundle that purchased"
   ]
  },
  {
   "cell_type": "code",
   "execution_count": 188,
   "metadata": {},
   "outputs": [
    {
     "data": {
      "text/html": [
       "<div>\n",
       "<style scoped>\n",
       "    .dataframe tbody tr th:only-of-type {\n",
       "        vertical-align: middle;\n",
       "    }\n",
       "\n",
       "    .dataframe tbody tr th {\n",
       "        vertical-align: top;\n",
       "    }\n",
       "\n",
       "    .dataframe thead th {\n",
       "        text-align: right;\n",
       "    }\n",
       "</style>\n",
       "<table border=\"1\" class=\"dataframe\">\n",
       "  <thead>\n",
       "    <tr style=\"text-align: right;\">\n",
       "      <th></th>\n",
       "      <th>MONTH</th>\n",
       "      <th>DAY_MONTH</th>\n",
       "      <th>MSISDN</th>\n",
       "      <th>BUNDLE_NAME</th>\n",
       "      <th>BUNDLE_GROUP</th>\n",
       "      <th>TP_CATEGORY</th>\n",
       "      <th>NO_OF_SUBSCRIPTIONS</th>\n",
       "      <th>BUNDLE_REVENUE</th>\n",
       "      <th>ENHANCED_REFERENCE</th>\n",
       "      <th>REQUESTING_SYSTEM</th>\n",
       "      <th>BUNDLE_PRICE</th>\n",
       "    </tr>\n",
       "  </thead>\n",
       "  <tbody>\n",
       "    <tr>\n",
       "      <th>415675</th>\n",
       "      <td>NaN</td>\n",
       "      <td>2022-04-06</td>\n",
       "      <td>6946485969</td>\n",
       "      <td>Combo Bundle CU Student Xclusive 17.5 Subscrip...</td>\n",
       "      <td>NaN</td>\n",
       "      <td>NaN</td>\n",
       "      <td>NaN</td>\n",
       "      <td>NaN</td>\n",
       "      <td>NaN</td>\n",
       "      <td>NaN</td>\n",
       "      <td>17.5</td>\n",
       "    </tr>\n",
       "    <tr>\n",
       "      <th>556374</th>\n",
       "      <td>NaN</td>\n",
       "      <td>2022-04-27</td>\n",
       "      <td>6976884378</td>\n",
       "      <td>Combo Bundle CU Student Xclusive 17.5 Subscrip...</td>\n",
       "      <td>NaN</td>\n",
       "      <td>NaN</td>\n",
       "      <td>NaN</td>\n",
       "      <td>NaN</td>\n",
       "      <td>NaN</td>\n",
       "      <td>NaN</td>\n",
       "      <td>17.5</td>\n",
       "    </tr>\n",
       "    <tr>\n",
       "      <th>556809</th>\n",
       "      <td>NaN</td>\n",
       "      <td>2022-04-28</td>\n",
       "      <td>6942058893</td>\n",
       "      <td>Combo Bundle CU Student Xclusive 17.5 Subscrip...</td>\n",
       "      <td>NaN</td>\n",
       "      <td>NaN</td>\n",
       "      <td>NaN</td>\n",
       "      <td>NaN</td>\n",
       "      <td>NaN</td>\n",
       "      <td>NaN</td>\n",
       "      <td>17.5</td>\n",
       "    </tr>\n",
       "    <tr>\n",
       "      <th>548931</th>\n",
       "      <td>NaN</td>\n",
       "      <td>2022-04-21</td>\n",
       "      <td>6955996803</td>\n",
       "      <td>Combo Bundle CU Student Xclusive 17.5 Subscrip...</td>\n",
       "      <td>NaN</td>\n",
       "      <td>NaN</td>\n",
       "      <td>NaN</td>\n",
       "      <td>NaN</td>\n",
       "      <td>NaN</td>\n",
       "      <td>NaN</td>\n",
       "      <td>17.5</td>\n",
       "    </tr>\n",
       "    <tr>\n",
       "      <th>430548</th>\n",
       "      <td>NaN</td>\n",
       "      <td>2022-04-28</td>\n",
       "      <td>6949308776</td>\n",
       "      <td>Combo Bundle CU Student Xclusive 17.5 Subscrip...</td>\n",
       "      <td>NaN</td>\n",
       "      <td>NaN</td>\n",
       "      <td>NaN</td>\n",
       "      <td>NaN</td>\n",
       "      <td>NaN</td>\n",
       "      <td>NaN</td>\n",
       "      <td>17.5</td>\n",
       "    </tr>\n",
       "    <tr>\n",
       "      <th>...</th>\n",
       "      <td>...</td>\n",
       "      <td>...</td>\n",
       "      <td>...</td>\n",
       "      <td>...</td>\n",
       "      <td>...</td>\n",
       "      <td>...</td>\n",
       "      <td>...</td>\n",
       "      <td>...</td>\n",
       "      <td>...</td>\n",
       "      <td>...</td>\n",
       "      <td>...</td>\n",
       "    </tr>\n",
       "    <tr>\n",
       "      <th>486410</th>\n",
       "      <td>NaN</td>\n",
       "      <td>2022-04-06</td>\n",
       "      <td>6943780990</td>\n",
       "      <td>Combo Bundle CU Student Xclusive 7 Subscription</td>\n",
       "      <td>NaN</td>\n",
       "      <td>NaN</td>\n",
       "      <td>NaN</td>\n",
       "      <td>NaN</td>\n",
       "      <td>NaN</td>\n",
       "      <td>NaN</td>\n",
       "      <td>8.5</td>\n",
       "    </tr>\n",
       "    <tr>\n",
       "      <th>432242</th>\n",
       "      <td>NaN</td>\n",
       "      <td>2022-04-23</td>\n",
       "      <td>6949235835</td>\n",
       "      <td>Combo Bundle CU Student Xclusive 7 Subscription</td>\n",
       "      <td>NaN</td>\n",
       "      <td>NaN</td>\n",
       "      <td>NaN</td>\n",
       "      <td>NaN</td>\n",
       "      <td>NaN</td>\n",
       "      <td>NaN</td>\n",
       "      <td>8.5</td>\n",
       "    </tr>\n",
       "    <tr>\n",
       "      <th>429469</th>\n",
       "      <td>NaN</td>\n",
       "      <td>2022-04-20</td>\n",
       "      <td>6949235848</td>\n",
       "      <td>Combo Bundle CU Student Xclusive 7 Subscription</td>\n",
       "      <td>NaN</td>\n",
       "      <td>NaN</td>\n",
       "      <td>NaN</td>\n",
       "      <td>NaN</td>\n",
       "      <td>NaN</td>\n",
       "      <td>NaN</td>\n",
       "      <td>8.5</td>\n",
       "    </tr>\n",
       "    <tr>\n",
       "      <th>534962</th>\n",
       "      <td>NaN</td>\n",
       "      <td>2022-04-29</td>\n",
       "      <td>6949235850</td>\n",
       "      <td>Combo Bundle CU Student Xclusive 7 Subscription</td>\n",
       "      <td>NaN</td>\n",
       "      <td>NaN</td>\n",
       "      <td>NaN</td>\n",
       "      <td>NaN</td>\n",
       "      <td>NaN</td>\n",
       "      <td>NaN</td>\n",
       "      <td>8.5</td>\n",
       "    </tr>\n",
       "    <tr>\n",
       "      <th>432234</th>\n",
       "      <td>NaN</td>\n",
       "      <td>2022-04-23</td>\n",
       "      <td>6946510764</td>\n",
       "      <td>Combo Bundle CU Student Xclusive 7 Subscription</td>\n",
       "      <td>NaN</td>\n",
       "      <td>NaN</td>\n",
       "      <td>NaN</td>\n",
       "      <td>NaN</td>\n",
       "      <td>NaN</td>\n",
       "      <td>NaN</td>\n",
       "      <td>8.5</td>\n",
       "    </tr>\n",
       "  </tbody>\n",
       "</table>\n",
       "<p>597823 rows × 11 columns</p>\n",
       "</div>"
      ],
      "text/plain": [
       "       MONTH  DAY_MONTH      MSISDN  \\\n",
       "415675   NaN 2022-04-06  6946485969   \n",
       "556374   NaN 2022-04-27  6976884378   \n",
       "556809   NaN 2022-04-28  6942058893   \n",
       "548931   NaN 2022-04-21  6955996803   \n",
       "430548   NaN 2022-04-28  6949308776   \n",
       "...      ...        ...         ...   \n",
       "486410   NaN 2022-04-06  6943780990   \n",
       "432242   NaN 2022-04-23  6949235835   \n",
       "429469   NaN 2022-04-20  6949235848   \n",
       "534962   NaN 2022-04-29  6949235850   \n",
       "432234   NaN 2022-04-23  6946510764   \n",
       "\n",
       "                                              BUNDLE_NAME BUNDLE_GROUP  \\\n",
       "415675  Combo Bundle CU Student Xclusive 17.5 Subscrip...          NaN   \n",
       "556374  Combo Bundle CU Student Xclusive 17.5 Subscrip...          NaN   \n",
       "556809  Combo Bundle CU Student Xclusive 17.5 Subscrip...          NaN   \n",
       "548931  Combo Bundle CU Student Xclusive 17.5 Subscrip...          NaN   \n",
       "430548  Combo Bundle CU Student Xclusive 17.5 Subscrip...          NaN   \n",
       "...                                                   ...          ...   \n",
       "486410    Combo Bundle CU Student Xclusive 7 Subscription          NaN   \n",
       "432242    Combo Bundle CU Student Xclusive 7 Subscription          NaN   \n",
       "429469    Combo Bundle CU Student Xclusive 7 Subscription          NaN   \n",
       "534962    Combo Bundle CU Student Xclusive 7 Subscription          NaN   \n",
       "432234    Combo Bundle CU Student Xclusive 7 Subscription          NaN   \n",
       "\n",
       "       TP_CATEGORY  NO_OF_SUBSCRIPTIONS  BUNDLE_REVENUE ENHANCED_REFERENCE  \\\n",
       "415675         NaN                  NaN             NaN                NaN   \n",
       "556374         NaN                  NaN             NaN                NaN   \n",
       "556809         NaN                  NaN             NaN                NaN   \n",
       "548931         NaN                  NaN             NaN                NaN   \n",
       "430548         NaN                  NaN             NaN                NaN   \n",
       "...            ...                  ...             ...                ...   \n",
       "486410         NaN                  NaN             NaN                NaN   \n",
       "432242         NaN                  NaN             NaN                NaN   \n",
       "429469         NaN                  NaN             NaN                NaN   \n",
       "534962         NaN                  NaN             NaN                NaN   \n",
       "432234         NaN                  NaN             NaN                NaN   \n",
       "\n",
       "       REQUESTING_SYSTEM  BUNDLE_PRICE  \n",
       "415675               NaN          17.5  \n",
       "556374               NaN          17.5  \n",
       "556809               NaN          17.5  \n",
       "548931               NaN          17.5  \n",
       "430548               NaN          17.5  \n",
       "...                  ...           ...  \n",
       "486410               NaN           8.5  \n",
       "432242               NaN           8.5  \n",
       "429469               NaN           8.5  \n",
       "534962               NaN           8.5  \n",
       "432234               NaN           8.5  \n",
       "\n",
       "[597823 rows x 11 columns]"
      ]
     },
     "execution_count": 188,
     "metadata": {},
     "output_type": "execute_result"
    }
   ],
   "source": [
    "mask_next.sort_values(by=['BUNDLE_PRICE'], ascending=False)"
   ]
  },
  {
   "cell_type": "code",
   "execution_count": 189,
   "metadata": {},
   "outputs": [],
   "source": [
    "mask_next = mask_next.drop_duplicates(subset=\"MSISDN\", keep=\"first\")"
   ]
  },
  {
   "cell_type": "code",
   "execution_count": 190,
   "metadata": {},
   "outputs": [
    {
     "data": {
      "text/plain": [
       "(0, 11)"
      ]
     },
     "execution_count": 190,
     "metadata": {},
     "output_type": "execute_result"
    }
   ],
   "source": [
    "mask_next[mask_next[\"MSISDN\"].duplicated(keep=False)].shape"
   ]
  },
  {
   "cell_type": "code",
   "execution_count": 191,
   "metadata": {},
   "outputs": [
    {
     "data": {
      "text/plain": [
       "10.0    335300\n",
       "8.5     126035\n",
       "12.0     54286\n",
       "13.5     27554\n",
       "15.0     17742\n",
       "17.5      1538\n",
       "Name: BUNDLE_PRICE, dtype: int64"
      ]
     },
     "execution_count": 191,
     "metadata": {},
     "output_type": "execute_result"
    }
   ],
   "source": [
    "mask_next[\"BUNDLE_PRICE\"].value_counts()"
   ]
  },
  {
   "cell_type": "markdown",
   "metadata": {},
   "source": [
    "# MERGE PREV - NEXT !!!!!!!!!!!!!!!!!!!!"
   ]
  },
  {
   "cell_type": "markdown",
   "metadata": {},
   "source": [
    "#  THA KANW LEFT JOIN GIATI THELW NA KRATHSW PERIPTWSEIS POU TON ENA MHN EVALE KAI TON ALLO DEN EVALE"
   ]
  },
  {
   "cell_type": "code",
   "execution_count": 192,
   "metadata": {},
   "outputs": [
    {
     "data": {
      "text/plain": [
       "(574387, 11)"
      ]
     },
     "execution_count": 192,
     "metadata": {},
     "output_type": "execute_result"
    },
    {
     "data": {
      "text/plain": [
       "(562455, 11)"
      ]
     },
     "execution_count": 192,
     "metadata": {},
     "output_type": "execute_result"
    }
   ],
   "source": [
    "mask_prev.shape\n",
    "mask_next.shape"
   ]
  },
  {
   "cell_type": "code",
   "execution_count": 193,
   "metadata": {},
   "outputs": [
    {
     "data": {
      "text/html": [
       "<div>\n",
       "<style scoped>\n",
       "    .dataframe tbody tr th:only-of-type {\n",
       "        vertical-align: middle;\n",
       "    }\n",
       "\n",
       "    .dataframe tbody tr th {\n",
       "        vertical-align: top;\n",
       "    }\n",
       "\n",
       "    .dataframe thead th {\n",
       "        text-align: right;\n",
       "    }\n",
       "</style>\n",
       "<table border=\"1\" class=\"dataframe\">\n",
       "  <thead>\n",
       "    <tr style=\"text-align: right;\">\n",
       "      <th></th>\n",
       "      <th>MONTH_x</th>\n",
       "      <th>DAY_MONTH_x</th>\n",
       "      <th>MSISDN</th>\n",
       "      <th>BUNDLE_NAME_x</th>\n",
       "      <th>BUNDLE_GROUP_x</th>\n",
       "      <th>TP_CATEGORY_x</th>\n",
       "      <th>NO_OF_SUBSCRIPTIONS_x</th>\n",
       "      <th>BUNDLE_REVENUE_x</th>\n",
       "      <th>ENHANCED_REFERENCE_x</th>\n",
       "      <th>REQUESTING_SYSTEM_x</th>\n",
       "      <th>BUNDLE_PRICE_x</th>\n",
       "      <th>MONTH_y</th>\n",
       "      <th>DAY_MONTH_y</th>\n",
       "      <th>BUNDLE_NAME_y</th>\n",
       "      <th>BUNDLE_GROUP_y</th>\n",
       "      <th>TP_CATEGORY_y</th>\n",
       "      <th>NO_OF_SUBSCRIPTIONS_y</th>\n",
       "      <th>BUNDLE_REVENUE_y</th>\n",
       "      <th>ENHANCED_REFERENCE_y</th>\n",
       "      <th>REQUESTING_SYSTEM_y</th>\n",
       "      <th>BUNDLE_PRICE_y</th>\n",
       "    </tr>\n",
       "  </thead>\n",
       "  <tbody>\n",
       "    <tr>\n",
       "      <th>0</th>\n",
       "      <td>01/03/2022 00:00:00</td>\n",
       "      <td>2022-03-07</td>\n",
       "      <td>6900030200</td>\n",
       "      <td>Voice/SMS Bundle CU Combo 500+100 Subscription</td>\n",
       "      <td>CU COMBO</td>\n",
       "      <td>CU</td>\n",
       "      <td>1.0</td>\n",
       "      <td>10.0</td>\n",
       "      <td>CUapp</td>\n",
       "      <td>CUapp</td>\n",
       "      <td>10.0</td>\n",
       "      <td>01/04/2022 00:00:00</td>\n",
       "      <td>2022-04-06</td>\n",
       "      <td>Combo Bundle CU 10E Subscription</td>\n",
       "      <td>CU COMBO</td>\n",
       "      <td>CU</td>\n",
       "      <td>1.0</td>\n",
       "      <td>12.0</td>\n",
       "      <td>CUapp</td>\n",
       "      <td>CUapp</td>\n",
       "      <td>12.0</td>\n",
       "    </tr>\n",
       "    <tr>\n",
       "      <th>1</th>\n",
       "      <td>01/03/2022 00:00:00</td>\n",
       "      <td>2022-03-17</td>\n",
       "      <td>6900030559</td>\n",
       "      <td>Voice/SMS Bundle CU Combo 500+100 Subscription</td>\n",
       "      <td>CU COMBO</td>\n",
       "      <td>CU</td>\n",
       "      <td>1.0</td>\n",
       "      <td>10.0</td>\n",
       "      <td>CUapp</td>\n",
       "      <td>CUapp</td>\n",
       "      <td>10.0</td>\n",
       "      <td>01/04/2022 00:00:00</td>\n",
       "      <td>2022-04-18</td>\n",
       "      <td>Combo Bundle CU 13E Subscription</td>\n",
       "      <td>CU COMBO</td>\n",
       "      <td>CU</td>\n",
       "      <td>1.0</td>\n",
       "      <td>13.5</td>\n",
       "      <td>CUapp</td>\n",
       "      <td>CUapp</td>\n",
       "      <td>13.5</td>\n",
       "    </tr>\n",
       "    <tr>\n",
       "      <th>2</th>\n",
       "      <td>NaN</td>\n",
       "      <td>2022-03-24</td>\n",
       "      <td>6900034000</td>\n",
       "      <td>Combo Bundle CU Student Xclusive 7 Subscription</td>\n",
       "      <td>NaN</td>\n",
       "      <td>NaN</td>\n",
       "      <td>NaN</td>\n",
       "      <td>NaN</td>\n",
       "      <td>NaN</td>\n",
       "      <td>NaN</td>\n",
       "      <td>8.5</td>\n",
       "      <td>NaN</td>\n",
       "      <td>2022-04-20</td>\n",
       "      <td>Combo Bundle CU Student Xclusive 7 Subscription</td>\n",
       "      <td>NaN</td>\n",
       "      <td>NaN</td>\n",
       "      <td>NaN</td>\n",
       "      <td>NaN</td>\n",
       "      <td>NaN</td>\n",
       "      <td>NaN</td>\n",
       "      <td>8.5</td>\n",
       "    </tr>\n",
       "    <tr>\n",
       "      <th>3</th>\n",
       "      <td>01/03/2022 00:00:00</td>\n",
       "      <td>2022-03-07</td>\n",
       "      <td>6900036262</td>\n",
       "      <td>Voice/SMS Bundle CU Combo 500+100 Subscription</td>\n",
       "      <td>CU COMBO</td>\n",
       "      <td>CU</td>\n",
       "      <td>1.0</td>\n",
       "      <td>10.0</td>\n",
       "      <td>CUapp</td>\n",
       "      <td>CUapp</td>\n",
       "      <td>10.0</td>\n",
       "      <td>01/04/2022 00:00:00</td>\n",
       "      <td>2022-04-08</td>\n",
       "      <td>Combo Bundle CU 10E Subscription</td>\n",
       "      <td>CU COMBO</td>\n",
       "      <td>CU</td>\n",
       "      <td>1.0</td>\n",
       "      <td>12.0</td>\n",
       "      <td>CUapp</td>\n",
       "      <td>CUapp</td>\n",
       "      <td>12.0</td>\n",
       "    </tr>\n",
       "  </tbody>\n",
       "</table>\n",
       "</div>"
      ],
      "text/plain": [
       "               MONTH_x DAY_MONTH_x      MSISDN  \\\n",
       "0  01/03/2022 00:00:00  2022-03-07  6900030200   \n",
       "1  01/03/2022 00:00:00  2022-03-17  6900030559   \n",
       "2                  NaN  2022-03-24  6900034000   \n",
       "3  01/03/2022 00:00:00  2022-03-07  6900036262   \n",
       "\n",
       "                                     BUNDLE_NAME_x BUNDLE_GROUP_x  \\\n",
       "0   Voice/SMS Bundle CU Combo 500+100 Subscription       CU COMBO   \n",
       "1   Voice/SMS Bundle CU Combo 500+100 Subscription       CU COMBO   \n",
       "2  Combo Bundle CU Student Xclusive 7 Subscription            NaN   \n",
       "3   Voice/SMS Bundle CU Combo 500+100 Subscription       CU COMBO   \n",
       "\n",
       "  TP_CATEGORY_x  NO_OF_SUBSCRIPTIONS_x  BUNDLE_REVENUE_x ENHANCED_REFERENCE_x  \\\n",
       "0            CU                    1.0              10.0                CUapp   \n",
       "1            CU                    1.0              10.0                CUapp   \n",
       "2           NaN                    NaN               NaN                  NaN   \n",
       "3            CU                    1.0              10.0                CUapp   \n",
       "\n",
       "  REQUESTING_SYSTEM_x  BUNDLE_PRICE_x              MONTH_y DAY_MONTH_y  \\\n",
       "0               CUapp            10.0  01/04/2022 00:00:00  2022-04-06   \n",
       "1               CUapp            10.0  01/04/2022 00:00:00  2022-04-18   \n",
       "2                 NaN             8.5                  NaN  2022-04-20   \n",
       "3               CUapp            10.0  01/04/2022 00:00:00  2022-04-08   \n",
       "\n",
       "                                     BUNDLE_NAME_y BUNDLE_GROUP_y  \\\n",
       "0                 Combo Bundle CU 10E Subscription       CU COMBO   \n",
       "1                 Combo Bundle CU 13E Subscription       CU COMBO   \n",
       "2  Combo Bundle CU Student Xclusive 7 Subscription            NaN   \n",
       "3                 Combo Bundle CU 10E Subscription       CU COMBO   \n",
       "\n",
       "  TP_CATEGORY_y  NO_OF_SUBSCRIPTIONS_y  BUNDLE_REVENUE_y ENHANCED_REFERENCE_y  \\\n",
       "0            CU                    1.0              12.0                CUapp   \n",
       "1            CU                    1.0              13.5                CUapp   \n",
       "2           NaN                    NaN               NaN                  NaN   \n",
       "3            CU                    1.0              12.0                CUapp   \n",
       "\n",
       "  REQUESTING_SYSTEM_y  BUNDLE_PRICE_y  \n",
       "0               CUapp            12.0  \n",
       "1               CUapp            13.5  \n",
       "2                 NaN             8.5  \n",
       "3               CUapp            12.0  "
      ]
     },
     "execution_count": 193,
     "metadata": {},
     "output_type": "execute_result"
    }
   ],
   "source": [
    "bundles_summary = mask_prev.merge(mask_next, how='left', on='MSISDN')\n",
    "bundles_summary.head(4)"
   ]
  },
  {
   "cell_type": "code",
   "execution_count": 194,
   "metadata": {},
   "outputs": [],
   "source": [
    "# Fill NaNs\n",
    "for column in bundles_summary.columns.values:\n",
    "    if (bundles_summary[column].dtype == 'int64' or bundles_summary[column].dtype == 'float64'):\n",
    "        bundles_summary[column] = bundles_summary[column].fillna(0)\n",
    "    elif (bundles_summary[column].dtype == 'object'):\n",
    "        bundles_summary[column] = bundles_summary[column].fillna(\"N/A\")\n",
    "    elif (bundles_summary[column].dtype == 'datetime64[ns]'):\n",
    "        new_date =  dt.datetime(int(bundles_summary[column].dt.year.mean()), int(bundles_summary[column].dt.month.mean()) , int(bundles_summary[column].dt.day.mean()))\n",
    "        bundles_summary[column] = bundles_summary[column].fillna(new_date)"
   ]
  },
  {
   "cell_type": "code",
   "execution_count": 195,
   "metadata": {},
   "outputs": [
    {
     "data": {
      "text/html": [
       "<div>\n",
       "<style scoped>\n",
       "    .dataframe tbody tr th:only-of-type {\n",
       "        vertical-align: middle;\n",
       "    }\n",
       "\n",
       "    .dataframe tbody tr th {\n",
       "        vertical-align: top;\n",
       "    }\n",
       "\n",
       "    .dataframe thead th {\n",
       "        text-align: right;\n",
       "    }\n",
       "</style>\n",
       "<table border=\"1\" class=\"dataframe\">\n",
       "  <thead>\n",
       "    <tr style=\"text-align: right;\">\n",
       "      <th></th>\n",
       "      <th>MONTH_x</th>\n",
       "      <th>DAY_MONTH_x</th>\n",
       "      <th>MSISDN</th>\n",
       "      <th>BUNDLE_NAME_x</th>\n",
       "      <th>BUNDLE_GROUP_x</th>\n",
       "      <th>TP_CATEGORY_x</th>\n",
       "      <th>NO_OF_SUBSCRIPTIONS_x</th>\n",
       "      <th>BUNDLE_REVENUE_x</th>\n",
       "      <th>ENHANCED_REFERENCE_x</th>\n",
       "      <th>REQUESTING_SYSTEM_x</th>\n",
       "      <th>BUNDLE_PRICE_x</th>\n",
       "      <th>MONTH_y</th>\n",
       "      <th>DAY_MONTH_y</th>\n",
       "      <th>BUNDLE_NAME_y</th>\n",
       "      <th>BUNDLE_GROUP_y</th>\n",
       "      <th>TP_CATEGORY_y</th>\n",
       "      <th>NO_OF_SUBSCRIPTIONS_y</th>\n",
       "      <th>BUNDLE_REVENUE_y</th>\n",
       "      <th>ENHANCED_REFERENCE_y</th>\n",
       "      <th>REQUESTING_SYSTEM_y</th>\n",
       "      <th>BUNDLE_PRICE_y</th>\n",
       "    </tr>\n",
       "  </thead>\n",
       "  <tbody>\n",
       "    <tr>\n",
       "      <th>0</th>\n",
       "      <td>01/03/2022 00:00:00</td>\n",
       "      <td>2022-03-07</td>\n",
       "      <td>6900030200</td>\n",
       "      <td>Voice/SMS Bundle CU Combo 500+100 Subscription</td>\n",
       "      <td>CU COMBO</td>\n",
       "      <td>CU</td>\n",
       "      <td>1.0</td>\n",
       "      <td>10.0</td>\n",
       "      <td>CUapp</td>\n",
       "      <td>CUapp</td>\n",
       "      <td>10.0</td>\n",
       "      <td>01/04/2022 00:00:00</td>\n",
       "      <td>2022-04-06</td>\n",
       "      <td>Combo Bundle CU 10E Subscription</td>\n",
       "      <td>CU COMBO</td>\n",
       "      <td>CU</td>\n",
       "      <td>1.0</td>\n",
       "      <td>12.0</td>\n",
       "      <td>CUapp</td>\n",
       "      <td>CUapp</td>\n",
       "      <td>12.0</td>\n",
       "    </tr>\n",
       "    <tr>\n",
       "      <th>1</th>\n",
       "      <td>01/03/2022 00:00:00</td>\n",
       "      <td>2022-03-17</td>\n",
       "      <td>6900030559</td>\n",
       "      <td>Voice/SMS Bundle CU Combo 500+100 Subscription</td>\n",
       "      <td>CU COMBO</td>\n",
       "      <td>CU</td>\n",
       "      <td>1.0</td>\n",
       "      <td>10.0</td>\n",
       "      <td>CUapp</td>\n",
       "      <td>CUapp</td>\n",
       "      <td>10.0</td>\n",
       "      <td>01/04/2022 00:00:00</td>\n",
       "      <td>2022-04-18</td>\n",
       "      <td>Combo Bundle CU 13E Subscription</td>\n",
       "      <td>CU COMBO</td>\n",
       "      <td>CU</td>\n",
       "      <td>1.0</td>\n",
       "      <td>13.5</td>\n",
       "      <td>CUapp</td>\n",
       "      <td>CUapp</td>\n",
       "      <td>13.5</td>\n",
       "    </tr>\n",
       "    <tr>\n",
       "      <th>2</th>\n",
       "      <td>N/A</td>\n",
       "      <td>2022-03-24</td>\n",
       "      <td>6900034000</td>\n",
       "      <td>Combo Bundle CU Student Xclusive 7 Subscription</td>\n",
       "      <td>N/A</td>\n",
       "      <td>N/A</td>\n",
       "      <td>0.0</td>\n",
       "      <td>0.0</td>\n",
       "      <td>N/A</td>\n",
       "      <td>N/A</td>\n",
       "      <td>8.5</td>\n",
       "      <td>N/A</td>\n",
       "      <td>2022-04-20</td>\n",
       "      <td>Combo Bundle CU Student Xclusive 7 Subscription</td>\n",
       "      <td>N/A</td>\n",
       "      <td>N/A</td>\n",
       "      <td>0.0</td>\n",
       "      <td>0.0</td>\n",
       "      <td>N/A</td>\n",
       "      <td>N/A</td>\n",
       "      <td>8.5</td>\n",
       "    </tr>\n",
       "    <tr>\n",
       "      <th>3</th>\n",
       "      <td>01/03/2022 00:00:00</td>\n",
       "      <td>2022-03-07</td>\n",
       "      <td>6900036262</td>\n",
       "      <td>Voice/SMS Bundle CU Combo 500+100 Subscription</td>\n",
       "      <td>CU COMBO</td>\n",
       "      <td>CU</td>\n",
       "      <td>1.0</td>\n",
       "      <td>10.0</td>\n",
       "      <td>CUapp</td>\n",
       "      <td>CUapp</td>\n",
       "      <td>10.0</td>\n",
       "      <td>01/04/2022 00:00:00</td>\n",
       "      <td>2022-04-08</td>\n",
       "      <td>Combo Bundle CU 10E Subscription</td>\n",
       "      <td>CU COMBO</td>\n",
       "      <td>CU</td>\n",
       "      <td>1.0</td>\n",
       "      <td>12.0</td>\n",
       "      <td>CUapp</td>\n",
       "      <td>CUapp</td>\n",
       "      <td>12.0</td>\n",
       "    </tr>\n",
       "  </tbody>\n",
       "</table>\n",
       "</div>"
      ],
      "text/plain": [
       "               MONTH_x DAY_MONTH_x      MSISDN  \\\n",
       "0  01/03/2022 00:00:00  2022-03-07  6900030200   \n",
       "1  01/03/2022 00:00:00  2022-03-17  6900030559   \n",
       "2                  N/A  2022-03-24  6900034000   \n",
       "3  01/03/2022 00:00:00  2022-03-07  6900036262   \n",
       "\n",
       "                                     BUNDLE_NAME_x BUNDLE_GROUP_x  \\\n",
       "0   Voice/SMS Bundle CU Combo 500+100 Subscription       CU COMBO   \n",
       "1   Voice/SMS Bundle CU Combo 500+100 Subscription       CU COMBO   \n",
       "2  Combo Bundle CU Student Xclusive 7 Subscription            N/A   \n",
       "3   Voice/SMS Bundle CU Combo 500+100 Subscription       CU COMBO   \n",
       "\n",
       "  TP_CATEGORY_x  NO_OF_SUBSCRIPTIONS_x  BUNDLE_REVENUE_x ENHANCED_REFERENCE_x  \\\n",
       "0            CU                    1.0              10.0                CUapp   \n",
       "1            CU                    1.0              10.0                CUapp   \n",
       "2           N/A                    0.0               0.0                  N/A   \n",
       "3            CU                    1.0              10.0                CUapp   \n",
       "\n",
       "  REQUESTING_SYSTEM_x  BUNDLE_PRICE_x              MONTH_y DAY_MONTH_y  \\\n",
       "0               CUapp            10.0  01/04/2022 00:00:00  2022-04-06   \n",
       "1               CUapp            10.0  01/04/2022 00:00:00  2022-04-18   \n",
       "2                 N/A             8.5                  N/A  2022-04-20   \n",
       "3               CUapp            10.0  01/04/2022 00:00:00  2022-04-08   \n",
       "\n",
       "                                     BUNDLE_NAME_y BUNDLE_GROUP_y  \\\n",
       "0                 Combo Bundle CU 10E Subscription       CU COMBO   \n",
       "1                 Combo Bundle CU 13E Subscription       CU COMBO   \n",
       "2  Combo Bundle CU Student Xclusive 7 Subscription            N/A   \n",
       "3                 Combo Bundle CU 10E Subscription       CU COMBO   \n",
       "\n",
       "  TP_CATEGORY_y  NO_OF_SUBSCRIPTIONS_y  BUNDLE_REVENUE_y ENHANCED_REFERENCE_y  \\\n",
       "0            CU                    1.0              12.0                CUapp   \n",
       "1            CU                    1.0              13.5                CUapp   \n",
       "2           N/A                    0.0               0.0                  N/A   \n",
       "3            CU                    1.0              12.0                CUapp   \n",
       "\n",
       "  REQUESTING_SYSTEM_y  BUNDLE_PRICE_y  \n",
       "0               CUapp            12.0  \n",
       "1               CUapp            13.5  \n",
       "2                 N/A             8.5  \n",
       "3               CUapp            12.0  "
      ]
     },
     "execution_count": 195,
     "metadata": {},
     "output_type": "execute_result"
    }
   ],
   "source": [
    "bundles_summary.head(4)"
   ]
  },
  {
   "cell_type": "code",
   "execution_count": 196,
   "metadata": {},
   "outputs": [
    {
     "data": {
      "text/plain": [
       "(574387, 21)"
      ]
     },
     "execution_count": 196,
     "metadata": {},
     "output_type": "execute_result"
    }
   ],
   "source": [
    "bundles_summary.shape"
   ]
  },
  {
   "cell_type": "markdown",
   "metadata": {},
   "source": [
    "# SHOW MIGRATIONS"
   ]
  },
  {
   "cell_type": "code",
   "execution_count": 197,
   "metadata": {},
   "outputs": [
    {
     "data": {
      "text/plain": [
       "BUNDLE_PRICE_x  BUNDLE_PRICE_y\n",
       "8.5             0.0                26931\n",
       "                8.5                91160\n",
       "                10.0                6620\n",
       "                12.0                1890\n",
       "                13.5                 446\n",
       "                15.0                 206\n",
       "                17.5                 227\n",
       "10.0            0.0                95992\n",
       "                8.5                 5930\n",
       "                10.0              241465\n",
       "                12.0               12549\n",
       "                13.5               10172\n",
       "                15.0                5638\n",
       "                17.5                 280\n",
       "12.0            0.0                18472\n",
       "                8.5                 2288\n",
       "                10.0                9588\n",
       "                12.0               26250\n",
       "                13.5                3857\n",
       "                15.0                2560\n",
       "                17.5                 379\n",
       "13.5            0.0                  268\n",
       "                8.5                    1\n",
       "                10.0                  12\n",
       "                12.0                   7\n",
       "                13.5                  46\n",
       "                15.0                   8\n",
       "15.0            0.0                 2758\n",
       "                8.5                   37\n",
       "                10.0                 909\n",
       "                12.0                 659\n",
       "                13.5                1066\n",
       "                15.0                4760\n",
       "                17.5                  23\n",
       "17.5            0.0                  172\n",
       "                8.5                   56\n",
       "                10.0                 116\n",
       "                12.0                 159\n",
       "                13.5                  18\n",
       "                15.0                  55\n",
       "                17.5                 357\n",
       "dtype: int64"
      ]
     },
     "execution_count": 197,
     "metadata": {},
     "output_type": "execute_result"
    }
   ],
   "source": [
    "bundles_summary.groupby(['BUNDLE_PRICE_x','BUNDLE_PRICE_y']).size()"
   ]
  },
  {
   "cell_type": "code",
   "execution_count": 198,
   "metadata": {},
   "outputs": [],
   "source": [
    "migration_categories = bundles_summary.groupby(['BUNDLE_PRICE_x','BUNDLE_PRICE_y']).size()"
   ]
  },
  {
   "cell_type": "code",
   "execution_count": 199,
   "metadata": {},
   "outputs": [],
   "source": [
    "bundles_summary['HIGHER_BUNDLE'] = 0"
   ]
  },
  {
   "cell_type": "code",
   "execution_count": 200,
   "metadata": {},
   "outputs": [
    {
     "data": {
      "text/html": [
       "<div>\n",
       "<style scoped>\n",
       "    .dataframe tbody tr th:only-of-type {\n",
       "        vertical-align: middle;\n",
       "    }\n",
       "\n",
       "    .dataframe tbody tr th {\n",
       "        vertical-align: top;\n",
       "    }\n",
       "\n",
       "    .dataframe thead th {\n",
       "        text-align: right;\n",
       "    }\n",
       "</style>\n",
       "<table border=\"1\" class=\"dataframe\">\n",
       "  <thead>\n",
       "    <tr style=\"text-align: right;\">\n",
       "      <th></th>\n",
       "      <th>MONTH_x</th>\n",
       "      <th>DAY_MONTH_x</th>\n",
       "      <th>MSISDN</th>\n",
       "      <th>BUNDLE_NAME_x</th>\n",
       "      <th>BUNDLE_GROUP_x</th>\n",
       "      <th>TP_CATEGORY_x</th>\n",
       "      <th>NO_OF_SUBSCRIPTIONS_x</th>\n",
       "      <th>BUNDLE_REVENUE_x</th>\n",
       "      <th>ENHANCED_REFERENCE_x</th>\n",
       "      <th>REQUESTING_SYSTEM_x</th>\n",
       "      <th>BUNDLE_PRICE_x</th>\n",
       "      <th>MONTH_y</th>\n",
       "      <th>DAY_MONTH_y</th>\n",
       "      <th>BUNDLE_NAME_y</th>\n",
       "      <th>BUNDLE_GROUP_y</th>\n",
       "      <th>TP_CATEGORY_y</th>\n",
       "      <th>NO_OF_SUBSCRIPTIONS_y</th>\n",
       "      <th>BUNDLE_REVENUE_y</th>\n",
       "      <th>ENHANCED_REFERENCE_y</th>\n",
       "      <th>REQUESTING_SYSTEM_y</th>\n",
       "      <th>BUNDLE_PRICE_y</th>\n",
       "      <th>HIGHER_BUNDLE</th>\n",
       "    </tr>\n",
       "  </thead>\n",
       "  <tbody>\n",
       "    <tr>\n",
       "      <th>0</th>\n",
       "      <td>01/03/2022 00:00:00</td>\n",
       "      <td>2022-03-07</td>\n",
       "      <td>6900030200</td>\n",
       "      <td>Voice/SMS Bundle CU Combo 500+100 Subscription</td>\n",
       "      <td>CU COMBO</td>\n",
       "      <td>CU</td>\n",
       "      <td>1.0</td>\n",
       "      <td>10.0</td>\n",
       "      <td>CUapp</td>\n",
       "      <td>CUapp</td>\n",
       "      <td>10.0</td>\n",
       "      <td>01/04/2022 00:00:00</td>\n",
       "      <td>2022-04-06</td>\n",
       "      <td>Combo Bundle CU 10E Subscription</td>\n",
       "      <td>CU COMBO</td>\n",
       "      <td>CU</td>\n",
       "      <td>1.0</td>\n",
       "      <td>12.0</td>\n",
       "      <td>CUapp</td>\n",
       "      <td>CUapp</td>\n",
       "      <td>12.0</td>\n",
       "      <td>1</td>\n",
       "    </tr>\n",
       "    <tr>\n",
       "      <th>1</th>\n",
       "      <td>01/03/2022 00:00:00</td>\n",
       "      <td>2022-03-17</td>\n",
       "      <td>6900030559</td>\n",
       "      <td>Voice/SMS Bundle CU Combo 500+100 Subscription</td>\n",
       "      <td>CU COMBO</td>\n",
       "      <td>CU</td>\n",
       "      <td>1.0</td>\n",
       "      <td>10.0</td>\n",
       "      <td>CUapp</td>\n",
       "      <td>CUapp</td>\n",
       "      <td>10.0</td>\n",
       "      <td>01/04/2022 00:00:00</td>\n",
       "      <td>2022-04-18</td>\n",
       "      <td>Combo Bundle CU 13E Subscription</td>\n",
       "      <td>CU COMBO</td>\n",
       "      <td>CU</td>\n",
       "      <td>1.0</td>\n",
       "      <td>13.5</td>\n",
       "      <td>CUapp</td>\n",
       "      <td>CUapp</td>\n",
       "      <td>13.5</td>\n",
       "      <td>1</td>\n",
       "    </tr>\n",
       "    <tr>\n",
       "      <th>2</th>\n",
       "      <td>N/A</td>\n",
       "      <td>2022-03-24</td>\n",
       "      <td>6900034000</td>\n",
       "      <td>Combo Bundle CU Student Xclusive 7 Subscription</td>\n",
       "      <td>N/A</td>\n",
       "      <td>N/A</td>\n",
       "      <td>0.0</td>\n",
       "      <td>0.0</td>\n",
       "      <td>N/A</td>\n",
       "      <td>N/A</td>\n",
       "      <td>8.5</td>\n",
       "      <td>N/A</td>\n",
       "      <td>2022-04-20</td>\n",
       "      <td>Combo Bundle CU Student Xclusive 7 Subscription</td>\n",
       "      <td>N/A</td>\n",
       "      <td>N/A</td>\n",
       "      <td>0.0</td>\n",
       "      <td>0.0</td>\n",
       "      <td>N/A</td>\n",
       "      <td>N/A</td>\n",
       "      <td>8.5</td>\n",
       "      <td>0</td>\n",
       "    </tr>\n",
       "    <tr>\n",
       "      <th>3</th>\n",
       "      <td>01/03/2022 00:00:00</td>\n",
       "      <td>2022-03-07</td>\n",
       "      <td>6900036262</td>\n",
       "      <td>Voice/SMS Bundle CU Combo 500+100 Subscription</td>\n",
       "      <td>CU COMBO</td>\n",
       "      <td>CU</td>\n",
       "      <td>1.0</td>\n",
       "      <td>10.0</td>\n",
       "      <td>CUapp</td>\n",
       "      <td>CUapp</td>\n",
       "      <td>10.0</td>\n",
       "      <td>01/04/2022 00:00:00</td>\n",
       "      <td>2022-04-08</td>\n",
       "      <td>Combo Bundle CU 10E Subscription</td>\n",
       "      <td>CU COMBO</td>\n",
       "      <td>CU</td>\n",
       "      <td>1.0</td>\n",
       "      <td>12.0</td>\n",
       "      <td>CUapp</td>\n",
       "      <td>CUapp</td>\n",
       "      <td>12.0</td>\n",
       "      <td>1</td>\n",
       "    </tr>\n",
       "    <tr>\n",
       "      <th>4</th>\n",
       "      <td>01/03/2022 00:00:00</td>\n",
       "      <td>2022-03-09</td>\n",
       "      <td>6900039880</td>\n",
       "      <td>Voice/SMS Bundle CU Combo 500+100 Subscription</td>\n",
       "      <td>CU COMBO</td>\n",
       "      <td>CU</td>\n",
       "      <td>1.0</td>\n",
       "      <td>10.0</td>\n",
       "      <td>VE407</td>\n",
       "      <td>VFShop</td>\n",
       "      <td>10.0</td>\n",
       "      <td>N/A</td>\n",
       "      <td>2022-04-16</td>\n",
       "      <td>N/A</td>\n",
       "      <td>N/A</td>\n",
       "      <td>N/A</td>\n",
       "      <td>0.0</td>\n",
       "      <td>0.0</td>\n",
       "      <td>N/A</td>\n",
       "      <td>N/A</td>\n",
       "      <td>0.0</td>\n",
       "      <td>0</td>\n",
       "    </tr>\n",
       "  </tbody>\n",
       "</table>\n",
       "</div>"
      ],
      "text/plain": [
       "               MONTH_x DAY_MONTH_x      MSISDN  \\\n",
       "0  01/03/2022 00:00:00  2022-03-07  6900030200   \n",
       "1  01/03/2022 00:00:00  2022-03-17  6900030559   \n",
       "2                  N/A  2022-03-24  6900034000   \n",
       "3  01/03/2022 00:00:00  2022-03-07  6900036262   \n",
       "4  01/03/2022 00:00:00  2022-03-09  6900039880   \n",
       "\n",
       "                                     BUNDLE_NAME_x BUNDLE_GROUP_x  \\\n",
       "0   Voice/SMS Bundle CU Combo 500+100 Subscription       CU COMBO   \n",
       "1   Voice/SMS Bundle CU Combo 500+100 Subscription       CU COMBO   \n",
       "2  Combo Bundle CU Student Xclusive 7 Subscription            N/A   \n",
       "3   Voice/SMS Bundle CU Combo 500+100 Subscription       CU COMBO   \n",
       "4   Voice/SMS Bundle CU Combo 500+100 Subscription       CU COMBO   \n",
       "\n",
       "  TP_CATEGORY_x  NO_OF_SUBSCRIPTIONS_x  BUNDLE_REVENUE_x ENHANCED_REFERENCE_x  \\\n",
       "0            CU                    1.0              10.0                CUapp   \n",
       "1            CU                    1.0              10.0                CUapp   \n",
       "2           N/A                    0.0               0.0                  N/A   \n",
       "3            CU                    1.0              10.0                CUapp   \n",
       "4            CU                    1.0              10.0                VE407   \n",
       "\n",
       "  REQUESTING_SYSTEM_x  BUNDLE_PRICE_x              MONTH_y DAY_MONTH_y  \\\n",
       "0               CUapp            10.0  01/04/2022 00:00:00  2022-04-06   \n",
       "1               CUapp            10.0  01/04/2022 00:00:00  2022-04-18   \n",
       "2                 N/A             8.5                  N/A  2022-04-20   \n",
       "3               CUapp            10.0  01/04/2022 00:00:00  2022-04-08   \n",
       "4              VFShop            10.0                  N/A  2022-04-16   \n",
       "\n",
       "                                     BUNDLE_NAME_y BUNDLE_GROUP_y  \\\n",
       "0                 Combo Bundle CU 10E Subscription       CU COMBO   \n",
       "1                 Combo Bundle CU 13E Subscription       CU COMBO   \n",
       "2  Combo Bundle CU Student Xclusive 7 Subscription            N/A   \n",
       "3                 Combo Bundle CU 10E Subscription       CU COMBO   \n",
       "4                                              N/A            N/A   \n",
       "\n",
       "  TP_CATEGORY_y  NO_OF_SUBSCRIPTIONS_y  BUNDLE_REVENUE_y ENHANCED_REFERENCE_y  \\\n",
       "0            CU                    1.0              12.0                CUapp   \n",
       "1            CU                    1.0              13.5                CUapp   \n",
       "2           N/A                    0.0               0.0                  N/A   \n",
       "3            CU                    1.0              12.0                CUapp   \n",
       "4           N/A                    0.0               0.0                  N/A   \n",
       "\n",
       "  REQUESTING_SYSTEM_y  BUNDLE_PRICE_y HIGHER_BUNDLE  \n",
       "0               CUapp            12.0             1  \n",
       "1               CUapp            13.5             1  \n",
       "2                 N/A             8.5             0  \n",
       "3               CUapp            12.0             1  \n",
       "4                 N/A             0.0             0  "
      ]
     },
     "execution_count": 200,
     "metadata": {},
     "output_type": "execute_result"
    }
   ],
   "source": [
    "conditions = [\n",
    "    ((bundles_summary[\"BUNDLE_PRICE_x\"] > bundles_summary[\"BUNDLE_PRICE_y\"]) | (bundles_summary[\"BUNDLE_PRICE_x\"] == bundles_summary[\"BUNDLE_PRICE_y\"])),\n",
    "    (bundles_summary[\"BUNDLE_PRICE_x\"] < bundles_summary[\"BUNDLE_PRICE_y\"])   \n",
    "    ]\n",
    "\n",
    "# create a list of the values we want to assign for each condition\n",
    "values = [\"0\", \"1\"]\n",
    "\n",
    "bundles_summary['HIGHER_BUNDLE'] = np.select(conditions, values)\n",
    "\n",
    "bundles_summary.head()"
   ]
  },
  {
   "cell_type": "code",
   "execution_count": 201,
   "metadata": {},
   "outputs": [
    {
     "data": {
      "text/plain": [
       "0    529532\n",
       "1     44855\n",
       "Name: HIGHER_BUNDLE, dtype: int64"
      ]
     },
     "execution_count": 201,
     "metadata": {},
     "output_type": "execute_result"
    }
   ],
   "source": [
    "bundles_summary[\"HIGHER_BUNDLE\"].value_counts()"
   ]
  },
  {
   "cell_type": "markdown",
   "metadata": {},
   "source": [
    "# RENAME - KEEP COLUMNS"
   ]
  },
  {
   "cell_type": "code",
   "execution_count": 202,
   "metadata": {},
   "outputs": [],
   "source": [
    "#bundles_summary = bundles_summary.rename(mapper = {\"BUNDLE_PRICE_x\" : \"BUNDLE_PRICE\", \"BUNDLE_PRICE_y\" : \"BUNDLE_PRICE_NEW\"}, axis= 'columns')"
   ]
  },
  {
   "cell_type": "code",
   "execution_count": 203,
   "metadata": {},
   "outputs": [],
   "source": [
    "bundles_summary = bundles_summary.drop([\"BUNDLE_NAME_x\", \"BUNDLE_PRICE_x\", \"DAY_MONTH_x\", \"BUNDLE_GROUP_x\", \"TP_CATEGORY_x\", \"NO_OF_SUBSCRIPTIONS_x\", \"BUNDLE_REVENUE_x\", \"ENHANCED_REFERENCE_x\", \"REQUESTING_SYSTEM_x\", \"MONTH_x\",\n",
    "                                       \"BUNDLE_NAME_y\", \"BUNDLE_PRICE_y\", \"DAY_MONTH_y\", \"BUNDLE_GROUP_y\", \"TP_CATEGORY_y\", \"NO_OF_SUBSCRIPTIONS_y\", \"BUNDLE_REVENUE_y\", \"ENHANCED_REFERENCE_y\", \"REQUESTING_SYSTEM_y\", \"MONTH_y\"],axis=\"columns\")"
   ]
  },
  {
   "cell_type": "code",
   "execution_count": 204,
   "metadata": {},
   "outputs": [
    {
     "data": {
      "text/html": [
       "<div>\n",
       "<style scoped>\n",
       "    .dataframe tbody tr th:only-of-type {\n",
       "        vertical-align: middle;\n",
       "    }\n",
       "\n",
       "    .dataframe tbody tr th {\n",
       "        vertical-align: top;\n",
       "    }\n",
       "\n",
       "    .dataframe thead th {\n",
       "        text-align: right;\n",
       "    }\n",
       "</style>\n",
       "<table border=\"1\" class=\"dataframe\">\n",
       "  <thead>\n",
       "    <tr style=\"text-align: right;\">\n",
       "      <th></th>\n",
       "      <th>MSISDN</th>\n",
       "      <th>HIGHER_BUNDLE</th>\n",
       "    </tr>\n",
       "  </thead>\n",
       "  <tbody>\n",
       "    <tr>\n",
       "      <th>0</th>\n",
       "      <td>6900030200</td>\n",
       "      <td>1</td>\n",
       "    </tr>\n",
       "    <tr>\n",
       "      <th>1</th>\n",
       "      <td>6900030559</td>\n",
       "      <td>1</td>\n",
       "    </tr>\n",
       "    <tr>\n",
       "      <th>2</th>\n",
       "      <td>6900034000</td>\n",
       "      <td>0</td>\n",
       "    </tr>\n",
       "    <tr>\n",
       "      <th>3</th>\n",
       "      <td>6900036262</td>\n",
       "      <td>1</td>\n",
       "    </tr>\n",
       "    <tr>\n",
       "      <th>4</th>\n",
       "      <td>6900039880</td>\n",
       "      <td>0</td>\n",
       "    </tr>\n",
       "  </tbody>\n",
       "</table>\n",
       "</div>"
      ],
      "text/plain": [
       "       MSISDN HIGHER_BUNDLE\n",
       "0  6900030200             1\n",
       "1  6900030559             1\n",
       "2  6900034000             0\n",
       "3  6900036262             1\n",
       "4  6900039880             0"
      ]
     },
     "execution_count": 204,
     "metadata": {},
     "output_type": "execute_result"
    }
   ],
   "source": [
    "bundles_summary.head()"
   ]
  },
  {
   "cell_type": "code",
   "execution_count": 205,
   "metadata": {},
   "outputs": [],
   "source": [
    "#bundles_summary = bundles_summary.drop([\"BUNDLE_NAME_x\", \"BUNDLE_NAME_y\"], axis='columns')"
   ]
  },
  {
   "cell_type": "code",
   "execution_count": null,
   "metadata": {},
   "outputs": [],
   "source": []
  },
  {
   "cell_type": "markdown",
   "metadata": {},
   "source": [
    "# SAVE"
   ]
  },
  {
   "cell_type": "code",
   "execution_count": 206,
   "metadata": {},
   "outputs": [],
   "source": [
    "bundles_summary.to_csv(out_dir)"
   ]
  },
  {
   "cell_type": "code",
   "execution_count": null,
   "metadata": {},
   "outputs": [],
   "source": []
  }
 ],
 "metadata": {
  "kernelspec": {
   "display_name": "Python 3",
   "language": "python",
   "name": "python3"
  },
  "language_info": {
   "codemirror_mode": {
    "name": "ipython",
    "version": 3
   },
   "file_extension": ".py",
   "mimetype": "text/x-python",
   "name": "python",
   "nbconvert_exporter": "python",
   "pygments_lexer": "ipython3",
   "version": "3.6.5"
  }
 },
 "nbformat": 4,
 "nbformat_minor": 2
}
